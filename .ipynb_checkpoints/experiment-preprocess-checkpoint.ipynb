{
 "cells": [
  {
   "cell_type": "code",
   "execution_count": 1,
   "metadata": {},
   "outputs": [],
   "source": [
    "# Lets import all the required Packages\n",
    "import numpy as np\n",
    "import matplotlib.pyplot as plt\n",
    "import pandas as pd\n",
    "import sqlite3"
   ]
  },
  {
   "cell_type": "code",
   "execution_count": 14,
   "metadata": {},
   "outputs": [
    {
     "data": {
      "text/html": [
       "<div>\n",
       "<style scoped>\n",
       "    .dataframe tbody tr th:only-of-type {\n",
       "        vertical-align: middle;\n",
       "    }\n",
       "\n",
       "    .dataframe tbody tr th {\n",
       "        vertical-align: top;\n",
       "    }\n",
       "\n",
       "    .dataframe thead th {\n",
       "        text-align: right;\n",
       "    }\n",
       "</style>\n",
       "<table border=\"1\" class=\"dataframe\">\n",
       "  <thead>\n",
       "    <tr style=\"text-align: right;\">\n",
       "      <th></th>\n",
       "      <th>Id</th>\n",
       "      <th>ProductId</th>\n",
       "      <th>UserId</th>\n",
       "      <th>ProfileName</th>\n",
       "      <th>HelpfulnessNumerator</th>\n",
       "      <th>HelpfulnessDenominator</th>\n",
       "      <th>Score</th>\n",
       "      <th>Time</th>\n",
       "      <th>Summary</th>\n",
       "      <th>Text</th>\n",
       "    </tr>\n",
       "  </thead>\n",
       "  <tbody>\n",
       "    <tr>\n",
       "      <td>0</td>\n",
       "      <td>1</td>\n",
       "      <td>B001E4KFG0</td>\n",
       "      <td>A3SGXH7AUHU8GW</td>\n",
       "      <td>delmartian</td>\n",
       "      <td>1</td>\n",
       "      <td>1</td>\n",
       "      <td>5</td>\n",
       "      <td>1303862400</td>\n",
       "      <td>Good Quality Dog Food</td>\n",
       "      <td>I have bought several of the Vitality canned d...</td>\n",
       "    </tr>\n",
       "    <tr>\n",
       "      <td>1</td>\n",
       "      <td>2</td>\n",
       "      <td>B00813GRG4</td>\n",
       "      <td>A1D87F6ZCVE5NK</td>\n",
       "      <td>dll pa</td>\n",
       "      <td>0</td>\n",
       "      <td>0</td>\n",
       "      <td>1</td>\n",
       "      <td>1346976000</td>\n",
       "      <td>Not as Advertised</td>\n",
       "      <td>Product arrived labeled as Jumbo Salted Peanut...</td>\n",
       "    </tr>\n",
       "    <tr>\n",
       "      <td>2</td>\n",
       "      <td>3</td>\n",
       "      <td>B000LQOCH0</td>\n",
       "      <td>ABXLMWJIXXAIN</td>\n",
       "      <td>Natalia Corres \"Natalia Corres\"</td>\n",
       "      <td>1</td>\n",
       "      <td>1</td>\n",
       "      <td>4</td>\n",
       "      <td>1219017600</td>\n",
       "      <td>\"Delight\" says it all</td>\n",
       "      <td>This is a confection that has been around a fe...</td>\n",
       "    </tr>\n",
       "  </tbody>\n",
       "</table>\n",
       "</div>"
      ],
      "text/plain": [
       "   Id   ProductId          UserId                      ProfileName  \\\n",
       "0   1  B001E4KFG0  A3SGXH7AUHU8GW                       delmartian   \n",
       "1   2  B00813GRG4  A1D87F6ZCVE5NK                           dll pa   \n",
       "2   3  B000LQOCH0   ABXLMWJIXXAIN  Natalia Corres \"Natalia Corres\"   \n",
       "\n",
       "   HelpfulnessNumerator  HelpfulnessDenominator  Score        Time  \\\n",
       "0                     1                       1      5  1303862400   \n",
       "1                     0                       0      1  1346976000   \n",
       "2                     1                       1      4  1219017600   \n",
       "\n",
       "                 Summary                                               Text  \n",
       "0  Good Quality Dog Food  I have bought several of the Vitality canned d...  \n",
       "1      Not as Advertised  Product arrived labeled as Jumbo Salted Peanut...  \n",
       "2  \"Delight\" says it all  This is a confection that has been around a fe...  "
      ]
     },
     "execution_count": 14,
     "metadata": {},
     "output_type": "execute_result"
    }
   ],
   "source": [
    "reviews=pd.read_csv(r\"C:\\Users\\shari\\Desktop\\Sentiment\\Reviews.csv\")\n",
    "reviews.head(3)"
   ]
  },
  {
   "cell_type": "code",
   "execution_count": 15,
   "metadata": {},
   "outputs": [],
   "source": [
    "def label(x):\n",
    "    if x>3:\n",
    "        return 1\n",
    "    elif x<3:\n",
    "        return 0\n",
    "    elif x==3:\n",
    "        return 3"
   ]
  },
  {
   "cell_type": "code",
   "execution_count": 16,
   "metadata": {},
   "outputs": [
    {
     "data": {
      "text/html": [
       "<div>\n",
       "<style scoped>\n",
       "    .dataframe tbody tr th:only-of-type {\n",
       "        vertical-align: middle;\n",
       "    }\n",
       "\n",
       "    .dataframe tbody tr th {\n",
       "        vertical-align: top;\n",
       "    }\n",
       "\n",
       "    .dataframe thead th {\n",
       "        text-align: right;\n",
       "    }\n",
       "</style>\n",
       "<table border=\"1\" class=\"dataframe\">\n",
       "  <thead>\n",
       "    <tr style=\"text-align: right;\">\n",
       "      <th></th>\n",
       "      <th>Id</th>\n",
       "      <th>ProductId</th>\n",
       "      <th>UserId</th>\n",
       "      <th>ProfileName</th>\n",
       "      <th>HelpfulnessNumerator</th>\n",
       "      <th>HelpfulnessDenominator</th>\n",
       "      <th>Score</th>\n",
       "      <th>Time</th>\n",
       "      <th>Summary</th>\n",
       "      <th>Text</th>\n",
       "    </tr>\n",
       "  </thead>\n",
       "  <tbody>\n",
       "    <tr>\n",
       "      <td>0</td>\n",
       "      <td>1</td>\n",
       "      <td>B001E4KFG0</td>\n",
       "      <td>A3SGXH7AUHU8GW</td>\n",
       "      <td>delmartian</td>\n",
       "      <td>1</td>\n",
       "      <td>1</td>\n",
       "      <td>1</td>\n",
       "      <td>1303862400</td>\n",
       "      <td>Good Quality Dog Food</td>\n",
       "      <td>I have bought several of the Vitality canned d...</td>\n",
       "    </tr>\n",
       "    <tr>\n",
       "      <td>1</td>\n",
       "      <td>2</td>\n",
       "      <td>B00813GRG4</td>\n",
       "      <td>A1D87F6ZCVE5NK</td>\n",
       "      <td>dll pa</td>\n",
       "      <td>0</td>\n",
       "      <td>0</td>\n",
       "      <td>0</td>\n",
       "      <td>1346976000</td>\n",
       "      <td>Not as Advertised</td>\n",
       "      <td>Product arrived labeled as Jumbo Salted Peanut...</td>\n",
       "    </tr>\n",
       "    <tr>\n",
       "      <td>2</td>\n",
       "      <td>3</td>\n",
       "      <td>B000LQOCH0</td>\n",
       "      <td>ABXLMWJIXXAIN</td>\n",
       "      <td>Natalia Corres \"Natalia Corres\"</td>\n",
       "      <td>1</td>\n",
       "      <td>1</td>\n",
       "      <td>1</td>\n",
       "      <td>1219017600</td>\n",
       "      <td>\"Delight\" says it all</td>\n",
       "      <td>This is a confection that has been around a fe...</td>\n",
       "    </tr>\n",
       "    <tr>\n",
       "      <td>3</td>\n",
       "      <td>4</td>\n",
       "      <td>B000UA0QIQ</td>\n",
       "      <td>A395BORC6FGVXV</td>\n",
       "      <td>Karl</td>\n",
       "      <td>3</td>\n",
       "      <td>3</td>\n",
       "      <td>0</td>\n",
       "      <td>1307923200</td>\n",
       "      <td>Cough Medicine</td>\n",
       "      <td>If you are looking for the secret ingredient i...</td>\n",
       "    </tr>\n",
       "    <tr>\n",
       "      <td>4</td>\n",
       "      <td>5</td>\n",
       "      <td>B006K2ZZ7K</td>\n",
       "      <td>A1UQRSCLF8GW1T</td>\n",
       "      <td>Michael D. Bigham \"M. Wassir\"</td>\n",
       "      <td>0</td>\n",
       "      <td>0</td>\n",
       "      <td>1</td>\n",
       "      <td>1350777600</td>\n",
       "      <td>Great taffy</td>\n",
       "      <td>Great taffy at a great price.  There was a wid...</td>\n",
       "    </tr>\n",
       "  </tbody>\n",
       "</table>\n",
       "</div>"
      ],
      "text/plain": [
       "   Id   ProductId          UserId                      ProfileName  \\\n",
       "0   1  B001E4KFG0  A3SGXH7AUHU8GW                       delmartian   \n",
       "1   2  B00813GRG4  A1D87F6ZCVE5NK                           dll pa   \n",
       "2   3  B000LQOCH0   ABXLMWJIXXAIN  Natalia Corres \"Natalia Corres\"   \n",
       "3   4  B000UA0QIQ  A395BORC6FGVXV                             Karl   \n",
       "4   5  B006K2ZZ7K  A1UQRSCLF8GW1T    Michael D. Bigham \"M. Wassir\"   \n",
       "\n",
       "   HelpfulnessNumerator  HelpfulnessDenominator  Score        Time  \\\n",
       "0                     1                       1      1  1303862400   \n",
       "1                     0                       0      0  1346976000   \n",
       "2                     1                       1      1  1219017600   \n",
       "3                     3                       3      0  1307923200   \n",
       "4                     0                       0      1  1350777600   \n",
       "\n",
       "                 Summary                                               Text  \n",
       "0  Good Quality Dog Food  I have bought several of the Vitality canned d...  \n",
       "1      Not as Advertised  Product arrived labeled as Jumbo Salted Peanut...  \n",
       "2  \"Delight\" says it all  This is a confection that has been around a fe...  \n",
       "3         Cough Medicine  If you are looking for the secret ingredient i...  \n",
       "4            Great taffy  Great taffy at a great price.  There was a wid...  "
      ]
     },
     "execution_count": 16,
     "metadata": {},
     "output_type": "execute_result"
    }
   ],
   "source": [
    "reviews[\"Score\"]=reviews[\"Score\"].map(label)\n",
    "reviews.head()"
   ]
  },
  {
   "cell_type": "code",
   "execution_count": 17,
   "metadata": {},
   "outputs": [
    {
     "ename": "KeyError",
     "evalue": "\"['Id' 'ProductId' 'UserId' 'ProfileName' 'HelpfulnessNumerator'\\n 'HelpfulnessDenominator' 'Score' 'Time' 'Summary' 'Text'] not found in axis\"",
     "output_type": "error",
     "traceback": [
      "\u001b[1;31m---------------------------------------------------------------------------\u001b[0m",
      "\u001b[1;31mKeyError\u001b[0m                                  Traceback (most recent call last)",
      "\u001b[1;32m<ipython-input-17-cfbc2310d590>\u001b[0m in \u001b[0;36m<module>\u001b[1;34m\u001b[0m\n\u001b[1;32m----> 1\u001b[1;33m \u001b[0mreviews\u001b[0m\u001b[1;33m.\u001b[0m\u001b[0mdrop\u001b[0m\u001b[1;33m(\u001b[0m\u001b[0mreviews\u001b[0m\u001b[1;33m[\u001b[0m\u001b[0mreviews\u001b[0m\u001b[1;33m.\u001b[0m\u001b[0mScore\u001b[0m\u001b[1;33m==\u001b[0m\u001b[1;36m3\u001b[0m\u001b[1;33m]\u001b[0m\u001b[1;33m)\u001b[0m\u001b[1;33m\u001b[0m\u001b[1;33m\u001b[0m\u001b[0m\n\u001b[0m",
      "\u001b[1;32m~\\Anaconda3\\lib\\site-packages\\pandas\\core\\frame.py\u001b[0m in \u001b[0;36mdrop\u001b[1;34m(self, labels, axis, index, columns, level, inplace, errors)\u001b[0m\n\u001b[0;32m   4100\u001b[0m             \u001b[0mlevel\u001b[0m\u001b[1;33m=\u001b[0m\u001b[0mlevel\u001b[0m\u001b[1;33m,\u001b[0m\u001b[1;33m\u001b[0m\u001b[1;33m\u001b[0m\u001b[0m\n\u001b[0;32m   4101\u001b[0m             \u001b[0minplace\u001b[0m\u001b[1;33m=\u001b[0m\u001b[0minplace\u001b[0m\u001b[1;33m,\u001b[0m\u001b[1;33m\u001b[0m\u001b[1;33m\u001b[0m\u001b[0m\n\u001b[1;32m-> 4102\u001b[1;33m             \u001b[0merrors\u001b[0m\u001b[1;33m=\u001b[0m\u001b[0merrors\u001b[0m\u001b[1;33m,\u001b[0m\u001b[1;33m\u001b[0m\u001b[1;33m\u001b[0m\u001b[0m\n\u001b[0m\u001b[0;32m   4103\u001b[0m         )\n\u001b[0;32m   4104\u001b[0m \u001b[1;33m\u001b[0m\u001b[0m\n",
      "\u001b[1;32m~\\Anaconda3\\lib\\site-packages\\pandas\\core\\generic.py\u001b[0m in \u001b[0;36mdrop\u001b[1;34m(self, labels, axis, index, columns, level, inplace, errors)\u001b[0m\n\u001b[0;32m   3912\u001b[0m         \u001b[1;32mfor\u001b[0m \u001b[0maxis\u001b[0m\u001b[1;33m,\u001b[0m \u001b[0mlabels\u001b[0m \u001b[1;32min\u001b[0m \u001b[0maxes\u001b[0m\u001b[1;33m.\u001b[0m\u001b[0mitems\u001b[0m\u001b[1;33m(\u001b[0m\u001b[1;33m)\u001b[0m\u001b[1;33m:\u001b[0m\u001b[1;33m\u001b[0m\u001b[1;33m\u001b[0m\u001b[0m\n\u001b[0;32m   3913\u001b[0m             \u001b[1;32mif\u001b[0m \u001b[0mlabels\u001b[0m \u001b[1;32mis\u001b[0m \u001b[1;32mnot\u001b[0m \u001b[1;32mNone\u001b[0m\u001b[1;33m:\u001b[0m\u001b[1;33m\u001b[0m\u001b[1;33m\u001b[0m\u001b[0m\n\u001b[1;32m-> 3914\u001b[1;33m                 \u001b[0mobj\u001b[0m \u001b[1;33m=\u001b[0m \u001b[0mobj\u001b[0m\u001b[1;33m.\u001b[0m\u001b[0m_drop_axis\u001b[0m\u001b[1;33m(\u001b[0m\u001b[0mlabels\u001b[0m\u001b[1;33m,\u001b[0m \u001b[0maxis\u001b[0m\u001b[1;33m,\u001b[0m \u001b[0mlevel\u001b[0m\u001b[1;33m=\u001b[0m\u001b[0mlevel\u001b[0m\u001b[1;33m,\u001b[0m \u001b[0merrors\u001b[0m\u001b[1;33m=\u001b[0m\u001b[0merrors\u001b[0m\u001b[1;33m)\u001b[0m\u001b[1;33m\u001b[0m\u001b[1;33m\u001b[0m\u001b[0m\n\u001b[0m\u001b[0;32m   3915\u001b[0m \u001b[1;33m\u001b[0m\u001b[0m\n\u001b[0;32m   3916\u001b[0m         \u001b[1;32mif\u001b[0m \u001b[0minplace\u001b[0m\u001b[1;33m:\u001b[0m\u001b[1;33m\u001b[0m\u001b[1;33m\u001b[0m\u001b[0m\n",
      "\u001b[1;32m~\\Anaconda3\\lib\\site-packages\\pandas\\core\\generic.py\u001b[0m in \u001b[0;36m_drop_axis\u001b[1;34m(self, labels, axis, level, errors)\u001b[0m\n\u001b[0;32m   3944\u001b[0m                 \u001b[0mnew_axis\u001b[0m \u001b[1;33m=\u001b[0m \u001b[0maxis\u001b[0m\u001b[1;33m.\u001b[0m\u001b[0mdrop\u001b[0m\u001b[1;33m(\u001b[0m\u001b[0mlabels\u001b[0m\u001b[1;33m,\u001b[0m \u001b[0mlevel\u001b[0m\u001b[1;33m=\u001b[0m\u001b[0mlevel\u001b[0m\u001b[1;33m,\u001b[0m \u001b[0merrors\u001b[0m\u001b[1;33m=\u001b[0m\u001b[0merrors\u001b[0m\u001b[1;33m)\u001b[0m\u001b[1;33m\u001b[0m\u001b[1;33m\u001b[0m\u001b[0m\n\u001b[0;32m   3945\u001b[0m             \u001b[1;32melse\u001b[0m\u001b[1;33m:\u001b[0m\u001b[1;33m\u001b[0m\u001b[1;33m\u001b[0m\u001b[0m\n\u001b[1;32m-> 3946\u001b[1;33m                 \u001b[0mnew_axis\u001b[0m \u001b[1;33m=\u001b[0m \u001b[0maxis\u001b[0m\u001b[1;33m.\u001b[0m\u001b[0mdrop\u001b[0m\u001b[1;33m(\u001b[0m\u001b[0mlabels\u001b[0m\u001b[1;33m,\u001b[0m \u001b[0merrors\u001b[0m\u001b[1;33m=\u001b[0m\u001b[0merrors\u001b[0m\u001b[1;33m)\u001b[0m\u001b[1;33m\u001b[0m\u001b[1;33m\u001b[0m\u001b[0m\n\u001b[0m\u001b[0;32m   3947\u001b[0m             \u001b[0mresult\u001b[0m \u001b[1;33m=\u001b[0m \u001b[0mself\u001b[0m\u001b[1;33m.\u001b[0m\u001b[0mreindex\u001b[0m\u001b[1;33m(\u001b[0m\u001b[1;33m**\u001b[0m\u001b[1;33m{\u001b[0m\u001b[0maxis_name\u001b[0m\u001b[1;33m:\u001b[0m \u001b[0mnew_axis\u001b[0m\u001b[1;33m}\u001b[0m\u001b[1;33m)\u001b[0m\u001b[1;33m\u001b[0m\u001b[1;33m\u001b[0m\u001b[0m\n\u001b[0;32m   3948\u001b[0m \u001b[1;33m\u001b[0m\u001b[0m\n",
      "\u001b[1;32m~\\Anaconda3\\lib\\site-packages\\pandas\\core\\indexes\\base.py\u001b[0m in \u001b[0;36mdrop\u001b[1;34m(self, labels, errors)\u001b[0m\n\u001b[0;32m   5338\u001b[0m         \u001b[1;32mif\u001b[0m \u001b[0mmask\u001b[0m\u001b[1;33m.\u001b[0m\u001b[0many\u001b[0m\u001b[1;33m(\u001b[0m\u001b[1;33m)\u001b[0m\u001b[1;33m:\u001b[0m\u001b[1;33m\u001b[0m\u001b[1;33m\u001b[0m\u001b[0m\n\u001b[0;32m   5339\u001b[0m             \u001b[1;32mif\u001b[0m \u001b[0merrors\u001b[0m \u001b[1;33m!=\u001b[0m \u001b[1;34m\"ignore\"\u001b[0m\u001b[1;33m:\u001b[0m\u001b[1;33m\u001b[0m\u001b[1;33m\u001b[0m\u001b[0m\n\u001b[1;32m-> 5340\u001b[1;33m                 \u001b[1;32mraise\u001b[0m \u001b[0mKeyError\u001b[0m\u001b[1;33m(\u001b[0m\u001b[1;34m\"{} not found in axis\"\u001b[0m\u001b[1;33m.\u001b[0m\u001b[0mformat\u001b[0m\u001b[1;33m(\u001b[0m\u001b[0mlabels\u001b[0m\u001b[1;33m[\u001b[0m\u001b[0mmask\u001b[0m\u001b[1;33m]\u001b[0m\u001b[1;33m)\u001b[0m\u001b[1;33m)\u001b[0m\u001b[1;33m\u001b[0m\u001b[1;33m\u001b[0m\u001b[0m\n\u001b[0m\u001b[0;32m   5341\u001b[0m             \u001b[0mindexer\u001b[0m \u001b[1;33m=\u001b[0m \u001b[0mindexer\u001b[0m\u001b[1;33m[\u001b[0m\u001b[1;33m~\u001b[0m\u001b[0mmask\u001b[0m\u001b[1;33m]\u001b[0m\u001b[1;33m\u001b[0m\u001b[1;33m\u001b[0m\u001b[0m\n\u001b[0;32m   5342\u001b[0m         \u001b[1;32mreturn\u001b[0m \u001b[0mself\u001b[0m\u001b[1;33m.\u001b[0m\u001b[0mdelete\u001b[0m\u001b[1;33m(\u001b[0m\u001b[0mindexer\u001b[0m\u001b[1;33m)\u001b[0m\u001b[1;33m\u001b[0m\u001b[1;33m\u001b[0m\u001b[0m\n",
      "\u001b[1;31mKeyError\u001b[0m: \"['Id' 'ProductId' 'UserId' 'ProfileName' 'HelpfulnessNumerator'\\n 'HelpfulnessDenominator' 'Score' 'Time' 'Summary' 'Text'] not found in axis\""
     ]
    }
   ],
   "source": [
    "reviews.drop(reviews[reviews.Score==3])"
   ]
  },
  {
   "cell_type": "code",
   "execution_count": 10,
   "metadata": {},
   "outputs": [],
   "source": [
    "reviews=reviews[:30000]"
   ]
  },
  {
   "cell_type": "code",
   "execution_count": 11,
   "metadata": {},
   "outputs": [
    {
     "data": {
      "text/plain": [
       "(30000, 10)"
      ]
     },
     "execution_count": 11,
     "metadata": {},
     "output_type": "execute_result"
    }
   ],
   "source": [
    "reviews.shape"
   ]
  },
  {
   "cell_type": "code",
   "execution_count": 12,
   "metadata": {},
   "outputs": [
    {
     "data": {
      "text/plain": [
       "True"
      ]
     },
     "execution_count": 12,
     "metadata": {},
     "output_type": "execute_result"
    }
   ],
   "source": [
    "#checking if we have any missing values, if we have any wee can remove using the next cell\n",
    "reviews[\"Score\"].isna().any()"
   ]
  },
  {
   "cell_type": "code",
   "execution_count": 13,
   "metadata": {},
   "outputs": [
    {
     "data": {
      "text/plain": [
       "(27507, 10)"
      ]
     },
     "execution_count": 13,
     "metadata": {},
     "output_type": "execute_result"
    }
   ],
   "source": [
    "boo=pd.notnull(reviews['Score'])\n",
    "reviews[boo].isnull().any()\n",
    "reviews_late=reviews[boo]\n",
    "reviews_late.shape"
   ]
  },
  {
   "cell_type": "code",
   "execution_count": 14,
   "metadata": {},
   "outputs": [
    {
     "data": {
      "text/plain": [
       "1.0    23068\n",
       "0.0     4439\n",
       "Name: Score, dtype: int64"
      ]
     },
     "execution_count": 14,
     "metadata": {},
     "output_type": "execute_result"
    }
   ],
   "source": [
    "#understanding the data labels\n",
    "#1:positive 0:negative 8:Neutral\n",
    "reviews_late['Score'].value_counts()"
   ]
  },
  {
   "cell_type": "code",
   "execution_count": 15,
   "metadata": {},
   "outputs": [],
   "source": [
    "#we can observe that we have an unbalanced dataset\n",
    "#because we have positive reviews way more than negative and negative iver neutral"
   ]
  },
  {
   "cell_type": "code",
   "execution_count": 16,
   "metadata": {},
   "outputs": [],
   "source": [
    "reviews_late.shape\n",
    "reviews=reviews_late"
   ]
  },
  {
   "cell_type": "markdown",
   "metadata": {},
   "source": [
    "### The whole goal is to predict the sentiment over the text review, so we will juts consider text as our X and Score should be our label"
   ]
  },
  {
   "cell_type": "code",
   "execution_count": 17,
   "metadata": {},
   "outputs": [
    {
     "data": {
      "text/plain": [
       "'Product arrived labeled as Jumbo Salted Peanuts...the peanuts were actually small sized unsalted. Not sure if this was an error or if the vendor intended to represent the product as \"Jumbo\".'"
      ]
     },
     "execution_count": 17,
     "metadata": {},
     "output_type": "execute_result"
    }
   ],
   "source": [
    "reviews['Text'][1]"
   ]
  },
  {
   "cell_type": "code",
   "execution_count": 18,
   "metadata": {},
   "outputs": [],
   "source": [
    "#with text we should check for any duplicate data, fo rthat we will be using duplicate\n",
    "reviews_dropped=reviews.drop_duplicates(subset={\"UserId\",\"ProfileName\",\"Time\",\"Text\"}, keep='first', inplace=False)"
   ]
  },
  {
   "cell_type": "code",
   "execution_count": 19,
   "metadata": {},
   "outputs": [
    {
     "name": "stdout",
     "output_type": "stream",
     "text": [
      "(27507, 10)\n"
     ]
    },
    {
     "data": {
      "text/plain": [
       "(26325, 10)"
      ]
     },
     "execution_count": 19,
     "metadata": {},
     "output_type": "execute_result"
    }
   ],
   "source": [
    "print(reviews.shape)\n",
    "reviews_dropped.shape"
   ]
  },
  {
   "cell_type": "code",
   "execution_count": 20,
   "metadata": {},
   "outputs": [
    {
     "data": {
      "text/plain": [
       "0.9570291198603992"
      ]
     },
     "execution_count": 20,
     "metadata": {},
     "output_type": "execute_result"
    }
   ],
   "source": [
    "reviews_dropped.shape[0]/reviews.shape[0]\n",
    "#this gives the amount off data retained after removing missing data and duplicated data. This is a cleaned data taken for next step of pre processing/data cleaning\n"
   ]
  },
  {
   "cell_type": "markdown",
   "metadata": {},
   "source": [
    "## Text Pre processing"
   ]
  },
  {
   "cell_type": "code",
   "execution_count": 21,
   "metadata": {},
   "outputs": [],
   "source": [
    "#though we removed noise data, we need to make sure that our data is clean\n",
    "#with text data comes a lot of unwanted characcters, symbols, numbers and common words which is ofcourse no use for model building\n",
    "#so we will try to remove this unwanted characters to get a clean data\n",
    "#for this wee will be using only text(reviews)\n"
   ]
  },
  {
   "cell_type": "code",
   "execution_count": 22,
   "metadata": {},
   "outputs": [
    {
     "data": {
      "text/plain": [
       "\"Instant oatmeal can become soggy the minute the water hits the bowl. McCann's Instant Oatmeal holds its texture, has excellent flavor, and is good for you all at the same time. McCann's regular oat meal is excellent, too, but may take a bit longer to prepare than most have time for in the morning. This is the best instant brand I've ever eaten, and a very close second to the non-instant variety.<br /><br />McCann's Instant Irish Oatmeal, Variety Pack of Regular, Apples & Cinnamon, and Maple & Brown Sugar, 10-Count Boxes (Pack of 6)\""
      ]
     },
     "execution_count": 22,
     "metadata": {},
     "output_type": "execute_result"
    }
   ],
   "source": [
    "reviews_dropped['Text'][34]"
   ]
  },
  {
   "cell_type": "code",
   "execution_count": 23,
   "metadata": {},
   "outputs": [],
   "source": [
    "#If we see the abbove review we can observe that there are some html tags inside the review text which is absolutely no use\n"
   ]
  },
  {
   "cell_type": "code",
   "execution_count": 24,
   "metadata": {},
   "outputs": [],
   "source": [
    "import re\n",
    "\n",
    "def decontracted(phrase):\n",
    "    # specific\n",
    "    phrase = re.sub(r\"won't\", \"will not\", phrase)\n",
    "    phrase = re.sub(r\"can\\'t\", \"can not\", phrase)\n",
    "\n",
    "    # general\n",
    "    phrase = re.sub(r\"n\\'t\", \" not\", phrase)\n",
    "    phrase = re.sub(r\"\\'re\", \" are\", phrase)\n",
    "    phrase = re.sub(r\"\\'s\", \" is\", phrase)\n",
    "    phrase = re.sub(r\"\\'d\", \" would\", phrase)\n",
    "    phrase = re.sub(r\"\\'ll\", \" will\", phrase)\n",
    "    phrase = re.sub(r\"\\'t\", \" not\", phrase)\n",
    "    phrase = re.sub(r\"\\'ve\", \" have\", phrase)\n",
    "    phrase = re.sub(r\"\\'m\", \" am\", phrase)\n",
    "    return phrase"
   ]
  },
  {
   "cell_type": "code",
   "execution_count": 25,
   "metadata": {},
   "outputs": [],
   "source": [
    "stopwords= set(['br', 'the', 'i', 'me', 'my', 'myself', 'we', 'our', 'ours', 'ourselves', 'you', \"you're\", \"you've\",\\\n",
    "            \"you'll\", \"you'd\", 'your', 'yours', 'yourself', 'yourselves', 'he', 'him', 'his', 'himself', \\\n",
    "            'she', \"she's\", 'her', 'hers', 'herself', 'it', \"it's\", 'its', 'itself', 'they', 'them', 'their',\\\n",
    "            'theirs', 'themselves', 'what', 'which', 'who', 'whom', 'this', 'that', \"that'll\", 'these', 'those', \\\n",
    "            'am', 'is', 'are', 'was', 'were', 'be', 'been', 'being', 'have', 'has', 'had', 'having', 'do', 'does', \\\n",
    "            'did', 'doing', 'a', 'an', 'the', 'and', 'but', 'if', 'or', 'because', 'as', 'until', 'while', 'of', \\\n",
    "            'at', 'by', 'for', 'with', 'about', 'against', 'between', 'into', 'through', 'during', 'before', 'after',\\\n",
    "            'above', 'below', 'to', 'from', 'up', 'down', 'in', 'out', 'on', 'off', 'over', 'under', 'again', 'further',\\\n",
    "            'then', 'once', 'here', 'there', 'when', 'where', 'why', 'how', 'all', 'any', 'both', 'each', 'few', 'more',\\\n",
    "            'most', 'other', 'some', 'such', 'only', 'own', 'same', 'so', 'than', 'too', 'very', \\\n",
    "            's', 't', 'can', 'will', 'just', 'don', \"don't\", 'should', \"should've\", 'now', 'd', 'll', 'm', 'o', 're', \\\n",
    "            've', 'y', 'ain', 'aren', \"aren't\", 'couldn', \"couldn't\", 'didn', \"didn't\", 'doesn', \"doesn't\", 'hadn',\\\n",
    "            \"hadn't\", 'hasn', \"hasn't\", 'haven', \"haven't\", 'isn', \"isn't\", 'ma', 'mightn', \"mightn't\", 'mustn',\\\n",
    "            \"mustn't\", 'needn', \"needn't\", 'shan', \"shan't\", 'shouldn', \"shouldn't\", 'wasn', \"wasn't\", 'weren', \"weren't\", \\\n",
    "            'won', \"won't\", 'wouldn', \"wouldn't\"])"
   ]
  },
  {
   "cell_type": "code",
   "execution_count": 26,
   "metadata": {},
   "outputs": [
    {
     "name": "stderr",
     "output_type": "stream",
     "text": [
      "100%|██████████████████████████████████████████████████████████████████████████| 26325/26325 [00:07<00:00, 3586.27it/s]\n"
     ]
    }
   ],
   "source": [
    "from tqdm import tqdm\n",
    "import re\n",
    "from bs4 import BeautifulSoup\n",
    "pre_processed_reviews=[]\n",
    "for review in tqdm(reviews_dropped['Text'].values):\n",
    "    review= re.sub(r\"http\\S+\",\"\",review)             #remove \n",
    "    review= BeautifulSoup(review,'lxml').getText()    #remove html tags\n",
    "    review=decontracted(review)\n",
    "    review=re.sub('\\S*\\d\\S*','',review).strip()        #remove numbers\n",
    "    review=re.sub('[^A-Za-z]+',' ',review)            #remove speccial chars\n",
    "    # now we will split the review into words and then check if these words are in the stop words if so we will remove them, if not we will join\n",
    "    review=' '.join(word.lower() for word in review.split() if word.lower() not in stopwords)\n",
    "    pre_processed_reviews.append(review.strip())"
   ]
  },
  {
   "cell_type": "code",
   "execution_count": 27,
   "metadata": {},
   "outputs": [
    {
     "data": {
      "text/plain": [
       "'mccann instant irish oatmeal variety pack regular apples cinnamon maple brown sugar boxes pack fan mccann steel cut oats thought would give instant variety try found hardy meal not sweet great folks like post bariatric surgery need food palatable easily digestible fiber not make bloat'"
      ]
     },
     "execution_count": 27,
     "metadata": {},
     "output_type": "execute_result"
    }
   ],
   "source": [
    "pre_processed_reviews[34]"
   ]
  },
  {
   "cell_type": "code",
   "execution_count": 138,
   "metadata": {},
   "outputs": [
    {
     "data": {
      "text/plain": [
       "(pandas.core.series.Series, list)"
      ]
     },
     "execution_count": 138,
     "metadata": {},
     "output_type": "execute_result"
    }
   ],
   "source": [
    "sentiment=reviews_dropped['Score']\n",
    "type(sentiment),type(pre_processed_reviews)"
   ]
  },
  {
   "cell_type": "code",
   "execution_count": 139,
   "metadata": {},
   "outputs": [],
   "source": [
    "preporcessed_data=pd.DataFrame({'Reviews':pre_processed_reviews,'Sentiment':sentiment})"
   ]
  },
  {
   "cell_type": "code",
   "execution_count": 140,
   "metadata": {},
   "outputs": [
    {
     "data": {
      "text/plain": [
       "Index(['Reviews', 'Sentiment'], dtype='object')"
      ]
     },
     "execution_count": 140,
     "metadata": {},
     "output_type": "execute_result"
    }
   ],
   "source": [
    "preporcessed_data.columns"
   ]
  },
  {
   "cell_type": "code",
   "execution_count": 141,
   "metadata": {},
   "outputs": [
    {
     "data": {
      "text/plain": [
       "1.0    22118\n",
       "0.0     4207\n",
       "Name: Sentiment, dtype: int64"
      ]
     },
     "execution_count": 141,
     "metadata": {},
     "output_type": "execute_result"
    }
   ],
   "source": [
    "preporcessed_data[\"Sentiment\"].value_counts()"
   ]
  },
  {
   "cell_type": "markdown",
   "metadata": {},
   "source": [
    "# Featuriztion"
   ]
  },
  {
   "cell_type": "markdown",
   "metadata": {},
   "source": [
    "Though we now have cleaned our data , our machine wont be able to understand it. The text needs to be convertedd into form where macchine undetstands\n",
    "For this we use different text featurization/ word embeddings, we will use below\n",
    "1. BOW: \n",
    "2. TFIDF:\n",
    "3. wORD2VEC:"
   ]
  },
  {
   "cell_type": "markdown",
   "metadata": {},
   "source": [
    "### BOW"
   ]
  },
  {
   "cell_type": "code",
   "execution_count": 142,
   "metadata": {},
   "outputs": [
    {
     "data": {
      "text/plain": [
       "(26325, 2)"
      ]
     },
     "execution_count": 142,
     "metadata": {},
     "output_type": "execute_result"
    }
   ],
   "source": [
    "#BOW:\n",
    "from sklearn.feature_extraction.text import CountVectorizer,TfidfVectorizer\n",
    "from sklearn.model_selection import train_test_split\n",
    "preporcessed_data.shape"
   ]
  },
  {
   "cell_type": "code",
   "execution_count": 143,
   "metadata": {},
   "outputs": [],
   "source": [
    "#lets split our dataset prior applying featurization just to avoid the data leakage to the model\n",
    "reviews_train,reviews_test,sentiment_train,sentiment_test=train_test_split(preporcessed_data['Reviews'],preporcessed_data['Sentiment'],test_size=0.25)\n",
    "#reviews_train,reviews_valid,sentiment_train,sentiment_valid=train_test_split(Reviews_tr,Sentiment_tr,test_size=0.25)"
   ]
  },
  {
   "cell_type": "code",
   "execution_count": 144,
   "metadata": {},
   "outputs": [
    {
     "name": "stdout",
     "output_type": "stream",
     "text": [
      "(19743,) (19743,)\n",
      "(6582,) (6582,)\n"
     ]
    }
   ],
   "source": [
    "print(reviews_train.shape,sentiment_train.shape)\n",
    "#print(reviews_valid.shape,sentiment_valid.shape)\n",
    "print(reviews_test.shape,sentiment_test.shape)\n"
   ]
  },
  {
   "cell_type": "code",
   "execution_count": 145,
   "metadata": {},
   "outputs": [
    {
     "data": {
      "text/plain": [
       "CountVectorizer(analyzer='word', binary=False, decode_error='strict',\n",
       "                dtype=<class 'numpy.int64'>, encoding='utf-8', input='content',\n",
       "                lowercase=True, max_df=1.0, max_features=None, min_df=1,\n",
       "                ngram_range=(1, 2), preprocessor=None, stop_words=None,\n",
       "                strip_accents=None, token_pattern='(?u)\\\\b\\\\w\\\\w+\\\\b',\n",
       "                tokenizer=None, vocabulary=None)"
      ]
     },
     "execution_count": 145,
     "metadata": {},
     "output_type": "execute_result"
    }
   ],
   "source": [
    "bow_model=CountVectorizer(ngram_range=(1,2))\n",
    "bow_model.fit(reviews_train,sentiment_train)"
   ]
  },
  {
   "cell_type": "code",
   "execution_count": 146,
   "metadata": {},
   "outputs": [],
   "source": [
    "reviews_train_bow=bow_model.transform(reviews_train)\n",
    "#reviews_valid_bow=bow_model.transform(reviews_valid)\n",
    "reviews_test_bow=bow_model.transform(reviews_test)"
   ]
  },
  {
   "cell_type": "code",
   "execution_count": 147,
   "metadata": {},
   "outputs": [
    {
     "data": {
      "text/plain": [
       "((19743, 441854), (6582, 441854))"
      ]
     },
     "execution_count": 147,
     "metadata": {},
     "output_type": "execute_result"
    }
   ],
   "source": [
    "reviews_train_bow.shape,reviews_test_bow.shape"
   ]
  },
  {
   "cell_type": "markdown",
   "metadata": {},
   "source": [
    "### TFIDF"
   ]
  },
  {
   "cell_type": "code",
   "execution_count": 148,
   "metadata": {},
   "outputs": [
    {
     "data": {
      "text/plain": [
       "TfidfVectorizer(analyzer='word', binary=False, decode_error='strict',\n",
       "                dtype=<class 'numpy.float64'>, encoding='utf-8',\n",
       "                input='content', lowercase=True, max_df=1.0, max_features=5000,\n",
       "                min_df=10, ngram_range=(1, 2), norm='l2', preprocessor=None,\n",
       "                smooth_idf=True, stop_words=None, strip_accents=None,\n",
       "                sublinear_tf=False, token_pattern='(?u)\\\\b\\\\w\\\\w+\\\\b',\n",
       "                tokenizer=None, use_idf=True, vocabulary=None)"
      ]
     },
     "execution_count": 148,
     "metadata": {},
     "output_type": "execute_result"
    }
   ],
   "source": [
    "#Similiarly TFIDF\n",
    "tfidf_model=TfidfVectorizer(ngram_range=(1,2),min_df=10, max_features=5000)\n",
    "tfidf_model.fit(reviews_train,sentiment_train)"
   ]
  },
  {
   "cell_type": "code",
   "execution_count": 149,
   "metadata": {},
   "outputs": [
    {
     "data": {
      "text/plain": [
       "((19743, 5000), (6582, 5000))"
      ]
     },
     "execution_count": 149,
     "metadata": {},
     "output_type": "execute_result"
    }
   ],
   "source": [
    "reviews_train_tfidf=tfidf_model.transform(reviews_train)\n",
    "#reviews_valid_tfidf=tfidf_model.transform(reviews_valid)\n",
    "reviews_test_tfidf=tfidf_model.transform(reviews_test)\n",
    "reviews_train_tfidf.shape,reviews_test_tfidf.shape"
   ]
  },
  {
   "cell_type": "markdown",
   "metadata": {},
   "source": [
    "### Word2Vec"
   ]
  },
  {
   "cell_type": "code",
   "execution_count": 32,
   "metadata": {},
   "outputs": [
    {
     "name": "stderr",
     "output_type": "stream",
     "text": [
      "unable to import 'smart_open.gcs', disabling that module\n"
     ]
    }
   ],
   "source": [
    "from gensim.models import Word2Vec\n",
    "w2v_model=Word2Vec([reviews.split()for reviews in pre_processed_reviews],min_count=5,size=50)"
   ]
  },
  {
   "cell_type": "code",
   "execution_count": 33,
   "metadata": {},
   "outputs": [],
   "source": [
    "#rr=[reviews.split()for reviews in pre_processed_reviews]"
   ]
  },
  {
   "cell_type": "code",
   "execution_count": 34,
   "metadata": {},
   "outputs": [
    {
     "data": {
      "text/plain": [
       "(10320,\n",
       " [('awesome', 0.8410056829452515),\n",
       "  ('good', 0.8073111176490784),\n",
       "  ('fantastic', 0.8000523447990417),\n",
       "  ('excellent', 0.7754327654838562),\n",
       "  ('amazing', 0.754361093044281),\n",
       "  ('wonderful', 0.753700852394104),\n",
       "  ('perfect', 0.7440652847290039),\n",
       "  ('decent', 0.7125983834266663),\n",
       "  ('terrific', 0.7013369798660278),\n",
       "  ('nice', 0.6323262453079224)],\n",
       " [('horrible', 0.9405648708343506),\n",
       "  ('awful', 0.9282412528991699),\n",
       "  ('disgusting', 0.8852945566177368),\n",
       "  ('funny', 0.8781638145446777),\n",
       "  ('gross', 0.8739168643951416),\n",
       "  ('bad', 0.8654829263687134),\n",
       "  ('weird', 0.8551545739173889),\n",
       "  ('odd', 0.8438894748687744),\n",
       "  ('nasty', 0.8308532238006592),\n",
       "  ('okay', 0.7976494431495667)])"
      ]
     },
     "execution_count": 34,
     "metadata": {},
     "output_type": "execute_result"
    }
   ],
   "source": [
    "len(w2v_model.wv.vocab), w2v_model.wv.similar_by_word(\"great\"), w2v_model.wv.similar_by_word(\"terrible\")"
   ]
  },
  {
   "cell_type": "code",
   "execution_count": 35,
   "metadata": {},
   "outputs": [],
   "source": [
    "#taking all reviews and then all words inside a a review, check if the word is in our vocab then get their weights using w2v_model.wv[word].\n",
    "# add these dimensions to the empty list created sent_vec and divide by total no of words, then again add it to a list\n",
    "w2v_words=w2v_model.wv.vocab\n",
    "\n",
    "def avg_w2v(data):\n",
    "    data_avg_w2v=[]\n",
    "    for sent in tqdm(data):\n",
    "        # for each review/sentence\n",
    "        sent_vec = np.zeros(50) # as word vectors are of zero length 50, you might need to change this to 300 if you use google's w2v\n",
    "        cnt_words =0; # num of words with a valid vector in the sentence/review\n",
    "        for word in sent.split(): # for each word in a review/sentence\n",
    "            if word in w2v_words:\n",
    "                vec = w2v_model.wv[word]\n",
    "                sent_vec += vec\n",
    "                cnt_words += 1\n",
    "        if cnt_words != 0:\n",
    "            sent_vec /= cnt_words\n",
    "        data_avg_w2v.append(sent_vec)\n",
    "    return data_avg_w2v"
   ]
  },
  {
   "cell_type": "code",
   "execution_count": 36,
   "metadata": {},
   "outputs": [
    {
     "data": {
      "text/plain": [
       "{'bought': <gensim.models.keyedvectors.Vocab at 0x27afe65d4c8>,\n",
       " 'several': <gensim.models.keyedvectors.Vocab at 0x27afe65d488>,\n",
       " 'vitality': <gensim.models.keyedvectors.Vocab at 0x27afe65d508>,\n",
       " 'canned': <gensim.models.keyedvectors.Vocab at 0x27afe65d548>,\n",
       " 'dog': <gensim.models.keyedvectors.Vocab at 0x27afe65d5c8>,\n",
       " 'food': <gensim.models.keyedvectors.Vocab at 0x27afe65d648>,\n",
       " 'products': <gensim.models.keyedvectors.Vocab at 0x27afe65d688>,\n",
       " 'found': <gensim.models.keyedvectors.Vocab at 0x27afe65d6c8>,\n",
       " 'good': <gensim.models.keyedvectors.Vocab at 0x27afe65d588>,\n",
       " 'quality': <gensim.models.keyedvectors.Vocab at 0x27afe65d608>,\n",
       " 'product': <gensim.models.keyedvectors.Vocab at 0x27afe65d708>,\n",
       " 'looks': <gensim.models.keyedvectors.Vocab at 0x27afe65d748>,\n",
       " 'like': <gensim.models.keyedvectors.Vocab at 0x27afe65d788>,\n",
       " 'stew': <gensim.models.keyedvectors.Vocab at 0x27afe65d7c8>,\n",
       " 'processed': <gensim.models.keyedvectors.Vocab at 0x27afe65d808>,\n",
       " 'meat': <gensim.models.keyedvectors.Vocab at 0x27afe65d848>,\n",
       " 'smells': <gensim.models.keyedvectors.Vocab at 0x27afe65d888>,\n",
       " 'better': <gensim.models.keyedvectors.Vocab at 0x27afe65d8c8>,\n",
       " 'labrador': <gensim.models.keyedvectors.Vocab at 0x27afe65d908>,\n",
       " 'finicky': <gensim.models.keyedvectors.Vocab at 0x27afe65d948>,\n",
       " 'appreciates': <gensim.models.keyedvectors.Vocab at 0x27afe65d988>,\n",
       " 'arrived': <gensim.models.keyedvectors.Vocab at 0x27afe65d9c8>,\n",
       " 'labeled': <gensim.models.keyedvectors.Vocab at 0x27afe65da08>,\n",
       " 'jumbo': <gensim.models.keyedvectors.Vocab at 0x27afe65da48>,\n",
       " 'salted': <gensim.models.keyedvectors.Vocab at 0x27afe65da88>,\n",
       " 'peanuts': <gensim.models.keyedvectors.Vocab at 0x27afe65dac8>,\n",
       " 'actually': <gensim.models.keyedvectors.Vocab at 0x27afe65db08>,\n",
       " 'small': <gensim.models.keyedvectors.Vocab at 0x27afe65db48>,\n",
       " 'sized': <gensim.models.keyedvectors.Vocab at 0x27afe65db88>,\n",
       " 'unsalted': <gensim.models.keyedvectors.Vocab at 0x27afe65dbc8>,\n",
       " 'not': <gensim.models.keyedvectors.Vocab at 0x27afe65dc08>,\n",
       " 'sure': <gensim.models.keyedvectors.Vocab at 0x27afe65dc48>,\n",
       " 'error': <gensim.models.keyedvectors.Vocab at 0x27afe65dc88>,\n",
       " 'vendor': <gensim.models.keyedvectors.Vocab at 0x27afe65dcc8>,\n",
       " 'intended': <gensim.models.keyedvectors.Vocab at 0x27afe65dd08>,\n",
       " 'represent': <gensim.models.keyedvectors.Vocab at 0x27afe65dd48>,\n",
       " 'confection': <gensim.models.keyedvectors.Vocab at 0x27afe65dd88>,\n",
       " 'around': <gensim.models.keyedvectors.Vocab at 0x27afe65ddc8>,\n",
       " 'centuries': <gensim.models.keyedvectors.Vocab at 0x27afe65de08>,\n",
       " 'light': <gensim.models.keyedvectors.Vocab at 0x27afe65de48>,\n",
       " 'citrus': <gensim.models.keyedvectors.Vocab at 0x27afe65de88>,\n",
       " 'gelatin': <gensim.models.keyedvectors.Vocab at 0x27afe65dec8>,\n",
       " 'nuts': <gensim.models.keyedvectors.Vocab at 0x27afe65df08>,\n",
       " 'case': <gensim.models.keyedvectors.Vocab at 0x27afe65df48>,\n",
       " 'cut': <gensim.models.keyedvectors.Vocab at 0x27afe65df88>,\n",
       " 'tiny': <gensim.models.keyedvectors.Vocab at 0x27afe65dfc8>,\n",
       " 'squares': <gensim.models.keyedvectors.Vocab at 0x27afe666048>,\n",
       " 'liberally': <gensim.models.keyedvectors.Vocab at 0x27afe666088>,\n",
       " 'coated': <gensim.models.keyedvectors.Vocab at 0x27afe6660c8>,\n",
       " 'powdered': <gensim.models.keyedvectors.Vocab at 0x27afe666108>,\n",
       " 'sugar': <gensim.models.keyedvectors.Vocab at 0x27afe666148>,\n",
       " 'mouthful': <gensim.models.keyedvectors.Vocab at 0x27afe666188>,\n",
       " 'heaven': <gensim.models.keyedvectors.Vocab at 0x27afe6661c8>,\n",
       " 'chewy': <gensim.models.keyedvectors.Vocab at 0x27afe666208>,\n",
       " 'flavorful': <gensim.models.keyedvectors.Vocab at 0x27afe666248>,\n",
       " 'highly': <gensim.models.keyedvectors.Vocab at 0x27afe666288>,\n",
       " 'recommend': <gensim.models.keyedvectors.Vocab at 0x27afe6662c8>,\n",
       " 'yummy': <gensim.models.keyedvectors.Vocab at 0x27afe666308>,\n",
       " 'treat': <gensim.models.keyedvectors.Vocab at 0x27afe666348>,\n",
       " 'familiar': <gensim.models.keyedvectors.Vocab at 0x27afe666388>,\n",
       " 'story': <gensim.models.keyedvectors.Vocab at 0x27afe6663c8>,\n",
       " 'c': <gensim.models.keyedvectors.Vocab at 0x27afe666408>,\n",
       " 'lion': <gensim.models.keyedvectors.Vocab at 0x27afe666448>,\n",
       " 'witch': <gensim.models.keyedvectors.Vocab at 0x27afe666488>,\n",
       " 'selling': <gensim.models.keyedvectors.Vocab at 0x27afe6664c8>,\n",
       " 'brother': <gensim.models.keyedvectors.Vocab at 0x27afe666508>,\n",
       " 'sisters': <gensim.models.keyedvectors.Vocab at 0x27afe666548>,\n",
       " 'looking': <gensim.models.keyedvectors.Vocab at 0x27afe666588>,\n",
       " 'secret': <gensim.models.keyedvectors.Vocab at 0x27afe6665c8>,\n",
       " 'ingredient': <gensim.models.keyedvectors.Vocab at 0x27afe666608>,\n",
       " 'believe': <gensim.models.keyedvectors.Vocab at 0x27afe666648>,\n",
       " 'got': <gensim.models.keyedvectors.Vocab at 0x27afe666688>,\n",
       " 'addition': <gensim.models.keyedvectors.Vocab at 0x27afe6666c8>,\n",
       " 'root': <gensim.models.keyedvectors.Vocab at 0x27afe666708>,\n",
       " 'beer': <gensim.models.keyedvectors.Vocab at 0x27afe666748>,\n",
       " 'extract': <gensim.models.keyedvectors.Vocab at 0x27afe666788>,\n",
       " 'ordered': <gensim.models.keyedvectors.Vocab at 0x27afe6667c8>,\n",
       " 'made': <gensim.models.keyedvectors.Vocab at 0x27afe666808>,\n",
       " 'cherry': <gensim.models.keyedvectors.Vocab at 0x27afe666848>,\n",
       " 'soda': <gensim.models.keyedvectors.Vocab at 0x27afe666888>,\n",
       " 'flavor': <gensim.models.keyedvectors.Vocab at 0x27afe6668c8>,\n",
       " 'medicinal': <gensim.models.keyedvectors.Vocab at 0x27afe666908>,\n",
       " 'great': <gensim.models.keyedvectors.Vocab at 0x27afe666948>,\n",
       " 'taffy': <gensim.models.keyedvectors.Vocab at 0x27afe666988>,\n",
       " 'price': <gensim.models.keyedvectors.Vocab at 0x27afe6669c8>,\n",
       " 'wide': <gensim.models.keyedvectors.Vocab at 0x27afe666a08>,\n",
       " 'assortment': <gensim.models.keyedvectors.Vocab at 0x27afe666a48>,\n",
       " 'delivery': <gensim.models.keyedvectors.Vocab at 0x27afe666a88>,\n",
       " 'quick': <gensim.models.keyedvectors.Vocab at 0x27afe666ac8>,\n",
       " 'lover': <gensim.models.keyedvectors.Vocab at 0x27afe666b08>,\n",
       " 'deal': <gensim.models.keyedvectors.Vocab at 0x27afe666b48>,\n",
       " 'wild': <gensim.models.keyedvectors.Vocab at 0x27afe666b88>,\n",
       " 'hair': <gensim.models.keyedvectors.Vocab at 0x27afe666bc8>,\n",
       " 'five': <gensim.models.keyedvectors.Vocab at 0x27afe666c08>,\n",
       " 'pound': <gensim.models.keyedvectors.Vocab at 0x27afe666c48>,\n",
       " 'bag': <gensim.models.keyedvectors.Vocab at 0x27afe666c88>,\n",
       " 'enjoyable': <gensim.models.keyedvectors.Vocab at 0x27afe666cc8>,\n",
       " 'many': <gensim.models.keyedvectors.Vocab at 0x27afe666d08>,\n",
       " 'flavors': <gensim.models.keyedvectors.Vocab at 0x27afe666d48>,\n",
       " 'watermelon': <gensim.models.keyedvectors.Vocab at 0x27afe666d88>,\n",
       " 'melon': <gensim.models.keyedvectors.Vocab at 0x27afe666dc8>,\n",
       " 'peppermint': <gensim.models.keyedvectors.Vocab at 0x27afe666e08>,\n",
       " 'grape': <gensim.models.keyedvectors.Vocab at 0x27afe666e48>,\n",
       " 'etc': <gensim.models.keyedvectors.Vocab at 0x27afe666e88>,\n",
       " 'complaint': <gensim.models.keyedvectors.Vocab at 0x27afe666ec8>,\n",
       " 'bit': <gensim.models.keyedvectors.Vocab at 0x27afe666f08>,\n",
       " 'much': <gensim.models.keyedvectors.Vocab at 0x27afe666f48>,\n",
       " 'red': <gensim.models.keyedvectors.Vocab at 0x27afe666f88>,\n",
       " 'black': <gensim.models.keyedvectors.Vocab at 0x27afe666fc8>,\n",
       " 'licorice': <gensim.models.keyedvectors.Vocab at 0x27afe668048>,\n",
       " 'flavored': <gensim.models.keyedvectors.Vocab at 0x27afe668088>,\n",
       " 'pieces': <gensim.models.keyedvectors.Vocab at 0x27afe6680c8>,\n",
       " 'particular': <gensim.models.keyedvectors.Vocab at 0x27afe668108>,\n",
       " 'favorites': <gensim.models.keyedvectors.Vocab at 0x27afe668148>,\n",
       " 'kids': <gensim.models.keyedvectors.Vocab at 0x27afe668188>,\n",
       " 'husband': <gensim.models.keyedvectors.Vocab at 0x27afe6681c8>,\n",
       " 'lasted': <gensim.models.keyedvectors.Vocab at 0x27afe668208>,\n",
       " 'two': <gensim.models.keyedvectors.Vocab at 0x27afe668248>,\n",
       " 'weeks': <gensim.models.keyedvectors.Vocab at 0x27afe668288>,\n",
       " 'would': <gensim.models.keyedvectors.Vocab at 0x27afe6682c8>,\n",
       " 'brand': <gensim.models.keyedvectors.Vocab at 0x27afe668308>,\n",
       " 'delightful': <gensim.models.keyedvectors.Vocab at 0x27afe668348>,\n",
       " 'soft': <gensim.models.keyedvectors.Vocab at 0x27afe668388>,\n",
       " 'candy': <gensim.models.keyedvectors.Vocab at 0x27afe6683c8>,\n",
       " 'individually': <gensim.models.keyedvectors.Vocab at 0x27afe668408>,\n",
       " 'wrapped': <gensim.models.keyedvectors.Vocab at 0x27afe668448>,\n",
       " 'well': <gensim.models.keyedvectors.Vocab at 0x27afe668488>,\n",
       " 'none': <gensim.models.keyedvectors.Vocab at 0x27afe6684c8>,\n",
       " 'candies': <gensim.models.keyedvectors.Vocab at 0x27afe668508>,\n",
       " 'stuck': <gensim.models.keyedvectors.Vocab at 0x27afe668548>,\n",
       " 'together': <gensim.models.keyedvectors.Vocab at 0x27afe668588>,\n",
       " 'happen': <gensim.models.keyedvectors.Vocab at 0x27afe6685c8>,\n",
       " 'expensive': <gensim.models.keyedvectors.Vocab at 0x27afe668608>,\n",
       " 'version': <gensim.models.keyedvectors.Vocab at 0x27afe668648>,\n",
       " 'served': <gensim.models.keyedvectors.Vocab at 0x27afe668688>,\n",
       " 'beach': <gensim.models.keyedvectors.Vocab at 0x27afe6686c8>,\n",
       " 'themed': <gensim.models.keyedvectors.Vocab at 0x27afe668708>,\n",
       " 'party': <gensim.models.keyedvectors.Vocab at 0x27afe668748>,\n",
       " 'everyone': <gensim.models.keyedvectors.Vocab at 0x27afe668788>,\n",
       " 'loved': <gensim.models.keyedvectors.Vocab at 0x27afe6687c8>,\n",
       " 'amazing': <gensim.models.keyedvectors.Vocab at 0x27afe668808>,\n",
       " 'definitely': <gensim.models.keyedvectors.Vocab at 0x27afe668848>,\n",
       " 'buying': <gensim.models.keyedvectors.Vocab at 0x27afe668888>,\n",
       " 'satisfying': <gensim.models.keyedvectors.Vocab at 0x27afe6688c8>,\n",
       " 'right': <gensim.models.keyedvectors.Vocab at 0x27afe668908>,\n",
       " 'mostly': <gensim.models.keyedvectors.Vocab at 0x27afe668948>,\n",
       " 'sprouting': <gensim.models.keyedvectors.Vocab at 0x27afe668988>,\n",
       " 'cats': <gensim.models.keyedvectors.Vocab at 0x27afe6689c8>,\n",
       " 'eat': <gensim.models.keyedvectors.Vocab at 0x27afe668a08>,\n",
       " 'grass': <gensim.models.keyedvectors.Vocab at 0x27afe668a48>,\n",
       " 'love': <gensim.models.keyedvectors.Vocab at 0x27afe668a88>,\n",
       " 'rotate': <gensim.models.keyedvectors.Vocab at 0x27afe668ac8>,\n",
       " 'wheatgrass': <gensim.models.keyedvectors.Vocab at 0x27afe668b08>,\n",
       " 'rye': <gensim.models.keyedvectors.Vocab at 0x27afe668b48>,\n",
       " 'healthy': <gensim.models.keyedvectors.Vocab at 0x27afe668b88>,\n",
       " 'digestion': <gensim.models.keyedvectors.Vocab at 0x27afe668bc8>,\n",
       " 'also': <gensim.models.keyedvectors.Vocab at 0x27afe668c08>,\n",
       " 'puppies': <gensim.models.keyedvectors.Vocab at 0x27afe668c48>,\n",
       " 'eats': <gensim.models.keyedvectors.Vocab at 0x27afe668c88>,\n",
       " 'required': <gensim.models.keyedvectors.Vocab at 0x27afe668cc8>,\n",
       " 'amount': <gensim.models.keyedvectors.Vocab at 0x27afe668d08>,\n",
       " 'every': <gensim.models.keyedvectors.Vocab at 0x27afe668d48>,\n",
       " 'feeding': <gensim.models.keyedvectors.Vocab at 0x27afe668d88>,\n",
       " 'know': <gensim.models.keyedvectors.Vocab at 0x27afe668dc8>,\n",
       " 'tequila': <gensim.models.keyedvectors.Vocab at 0x27afe668e08>,\n",
       " 'unique': <gensim.models.keyedvectors.Vocab at 0x27afe668e48>,\n",
       " 'combination': <gensim.models.keyedvectors.Vocab at 0x27afe668e88>,\n",
       " 'ingredients': <gensim.models.keyedvectors.Vocab at 0x27afe668ec8>,\n",
       " 'flavour': <gensim.models.keyedvectors.Vocab at 0x27afe668f08>,\n",
       " 'hot': <gensim.models.keyedvectors.Vocab at 0x27afe668f48>,\n",
       " 'sauce': <gensim.models.keyedvectors.Vocab at 0x27afe668f88>,\n",
       " 'makes': <gensim.models.keyedvectors.Vocab at 0x27afe668fc8>,\n",
       " 'one': <gensim.models.keyedvectors.Vocab at 0x27afe66b048>,\n",
       " 'kind': <gensim.models.keyedvectors.Vocab at 0x27afe66b088>,\n",
       " 'picked': <gensim.models.keyedvectors.Vocab at 0x27afe66b0c8>,\n",
       " 'bottle': <gensim.models.keyedvectors.Vocab at 0x27afe66b108>,\n",
       " 'trip': <gensim.models.keyedvectors.Vocab at 0x27afe66b148>,\n",
       " 'brought': <gensim.models.keyedvectors.Vocab at 0x27afe66b188>,\n",
       " 'back': <gensim.models.keyedvectors.Vocab at 0x27afe66b1c8>,\n",
       " 'home': <gensim.models.keyedvectors.Vocab at 0x27afe66b208>,\n",
       " 'us': <gensim.models.keyedvectors.Vocab at 0x27afe66b248>,\n",
       " 'totally': <gensim.models.keyedvectors.Vocab at 0x27afe66b288>,\n",
       " 'blown': <gensim.models.keyedvectors.Vocab at 0x27afe66b2c8>,\n",
       " 'away': <gensim.models.keyedvectors.Vocab at 0x27afe66b308>,\n",
       " 'realized': <gensim.models.keyedvectors.Vocab at 0x27afe66b348>,\n",
       " 'simply': <gensim.models.keyedvectors.Vocab at 0x27afe66b388>,\n",
       " 'could': <gensim.models.keyedvectors.Vocab at 0x27afe66b3c8>,\n",
       " 'find': <gensim.models.keyedvectors.Vocab at 0x27afe66b408>,\n",
       " 'anywhere': <gensim.models.keyedvectors.Vocab at 0x27afe66b448>,\n",
       " 'city': <gensim.models.keyedvectors.Vocab at 0x27afe66b488>,\n",
       " 'bummed': <gensim.models.keyedvectors.Vocab at 0x27afe66b4c8>,\n",
       " 'magic': <gensim.models.keyedvectors.Vocab at 0x27afe66b508>,\n",
       " 'internet': <gensim.models.keyedvectors.Vocab at 0x27afe66b548>,\n",
       " 'ecstatic': <gensim.models.keyedvectors.Vocab at 0x27afe66b588>,\n",
       " 'mean': <gensim.models.keyedvectors.Vocab at 0x27afe66b5c8>,\n",
       " 'really': <gensim.models.keyedvectors.Vocab at 0x27afe66b608>,\n",
       " 'want': <gensim.models.keyedvectors.Vocab at 0x27afe66b648>,\n",
       " 'burns': <gensim.models.keyedvectors.Vocab at 0x27afe66b688>,\n",
       " 'throat': <gensim.models.keyedvectors.Vocab at 0x27afe66b6c8>,\n",
       " 'grab': <gensim.models.keyedvectors.Vocab at 0x27afe66b708>,\n",
       " 'gourmet': <gensim.models.keyedvectors.Vocab at 0x27afe66b748>,\n",
       " 'de': <gensim.models.keyedvectors.Vocab at 0x27afe66b788>,\n",
       " 'realize': <gensim.models.keyedvectors.Vocab at 0x27afe66b7c8>,\n",
       " 'taste': <gensim.models.keyedvectors.Vocab at 0x27afe66b808>,\n",
       " 'never': <gensim.models.keyedvectors.Vocab at 0x27afe66b848>,\n",
       " 'use': <gensim.models.keyedvectors.Vocab at 0x27afe66b888>,\n",
       " 'thank': <gensim.models.keyedvectors.Vocab at 0x27afe66b8c8>,\n",
       " 'personal': <gensim.models.keyedvectors.Vocab at 0x27afe66b908>,\n",
       " 'incredible': <gensim.models.keyedvectors.Vocab at 0x27afe66b948>,\n",
       " 'service': <gensim.models.keyedvectors.Vocab at 0x27afe66b988>,\n",
       " 'boys': <gensim.models.keyedvectors.Vocab at 0x27afe66b9c8>,\n",
       " 'needed': <gensim.models.keyedvectors.Vocab at 0x27afe66ba08>,\n",
       " 'lose': <gensim.models.keyedvectors.Vocab at 0x27afe66ba48>,\n",
       " 'weight': <gensim.models.keyedvectors.Vocab at 0x27afe66ba88>,\n",
       " 'put': <gensim.models.keyedvectors.Vocab at 0x27afe66bac8>,\n",
       " 'floor': <gensim.models.keyedvectors.Vocab at 0x27afe66bb08>,\n",
       " 'guy': <gensim.models.keyedvectors.Vocab at 0x27afe66bb48>,\n",
       " 'protein': <gensim.models.keyedvectors.Vocab at 0x27afe66bb88>,\n",
       " 'rich': <gensim.models.keyedvectors.Vocab at 0x27afe66bbc8>,\n",
       " 'no': <gensim.models.keyedvectors.Vocab at 0x27afe66bc08>,\n",
       " 'higher': <gensim.models.keyedvectors.Vocab at 0x27afe66bc48>,\n",
       " 'skinny': <gensim.models.keyedvectors.Vocab at 0x27afe66bc88>,\n",
       " 'boy': <gensim.models.keyedvectors.Vocab at 0x27afe66bcc8>,\n",
       " 'jump': <gensim.models.keyedvectors.Vocab at 0x27afe66bd08>,\n",
       " 'sits': <gensim.models.keyedvectors.Vocab at 0x27afe66bd48>,\n",
       " 'going': <gensim.models.keyedvectors.Vocab at 0x27afe66bd88>,\n",
       " 'stale': <gensim.models.keyedvectors.Vocab at 0x27afe66bdc8>,\n",
       " 'go': <gensim.models.keyedvectors.Vocab at 0x27afe66be08>,\n",
       " 'losing': <gensim.models.keyedvectors.Vocab at 0x27afe66be48>,\n",
       " 'ounce': <gensim.models.keyedvectors.Vocab at 0x27afe66be88>,\n",
       " 'week': <gensim.models.keyedvectors.Vocab at 0x27afe66bec8>,\n",
       " 'happily': <gensim.models.keyedvectors.Vocab at 0x27afe66bf08>,\n",
       " 'eating': <gensim.models.keyedvectors.Vocab at 0x27afe66bf48>,\n",
       " 'felidae': <gensim.models.keyedvectors.Vocab at 0x27afe66bf88>,\n",
       " 'platinum': <gensim.models.keyedvectors.Vocab at 0x27afe66bfc8>,\n",
       " 'years': <gensim.models.keyedvectors.Vocab at 0x27afe66f048>,\n",
       " 'new': <gensim.models.keyedvectors.Vocab at 0x27afe66f088>,\n",
       " 'shape': <gensim.models.keyedvectors.Vocab at 0x27afe66f0c8>,\n",
       " 'different': <gensim.models.keyedvectors.Vocab at 0x27afe66f108>,\n",
       " 'tried': <gensim.models.keyedvectors.Vocab at 0x27afe66f148>,\n",
       " 'first': <gensim.models.keyedvectors.Vocab at 0x27afe66f188>,\n",
       " 'bowls': <gensim.models.keyedvectors.Vocab at 0x27afe66f1c8>,\n",
       " 'sit': <gensim.models.keyedvectors.Vocab at 0x27afe66f208>,\n",
       " 'full': <gensim.models.keyedvectors.Vocab at 0x27afe66f248>,\n",
       " 'kitties': <gensim.models.keyedvectors.Vocab at 0x27afe66f288>,\n",
       " 'touch': <gensim.models.keyedvectors.Vocab at 0x27afe66f2c8>,\n",
       " 'noticed': <gensim.models.keyedvectors.Vocab at 0x27afe66f308>,\n",
       " 'similar': <gensim.models.keyedvectors.Vocab at 0x27afe66f348>,\n",
       " 'reviews': <gensim.models.keyedvectors.Vocab at 0x27afe66f388>,\n",
       " 'related': <gensim.models.keyedvectors.Vocab at 0x27afe66f3c8>,\n",
       " 'formula': <gensim.models.keyedvectors.Vocab at 0x27afe66f408>,\n",
       " 'changes': <gensim.models.keyedvectors.Vocab at 0x27afe66f448>,\n",
       " 'past': <gensim.models.keyedvectors.Vocab at 0x27afe66f488>,\n",
       " 'unfortunately': <gensim.models.keyedvectors.Vocab at 0x27afe66f4c8>,\n",
       " 'need': <gensim.models.keyedvectors.Vocab at 0x27afe66f508>,\n",
       " 'came': <gensim.models.keyedvectors.Vocab at 0x27afe66f548>,\n",
       " 'securely': <gensim.models.keyedvectors.Vocab at 0x27afe66f588>,\n",
       " 'packed': <gensim.models.keyedvectors.Vocab at 0x27afe66f5c8>,\n",
       " 'fresh': <gensim.models.keyedvectors.Vocab at 0x27afe66f608>,\n",
       " 'delicious': <gensim.models.keyedvectors.Vocab at 0x27afe66f648>,\n",
       " 'twizzlers': <gensim.models.keyedvectors.Vocab at 0x27afe66f688>,\n",
       " 'strawberry': <gensim.models.keyedvectors.Vocab at 0x27afe66f6c8>,\n",
       " 'guilty': <gensim.models.keyedvectors.Vocab at 0x27afe66f708>,\n",
       " 'pleasure': <gensim.models.keyedvectors.Vocab at 0x27afe66f748>,\n",
       " 'six': <gensim.models.keyedvectors.Vocab at 0x27afe66f788>,\n",
       " 'pounds': <gensim.models.keyedvectors.Vocab at 0x27afe66f7c8>,\n",
       " 'son': <gensim.models.keyedvectors.Vocab at 0x27afe66f808>,\n",
       " 'daughter': <gensim.models.keyedvectors.Vocab at 0x27afe66f848>,\n",
       " 'loves': <gensim.models.keyedvectors.Vocab at 0x27afe66f888>,\n",
       " 'shipment': <gensim.models.keyedvectors.Vocab at 0x27afe66f8c8>,\n",
       " 'hit': <gensim.models.keyedvectors.Vocab at 0x27afe66f908>,\n",
       " 'spot': <gensim.models.keyedvectors.Vocab at 0x27afe66f948>,\n",
       " 'exactly': <gensim.models.keyedvectors.Vocab at 0x27afe66f988>,\n",
       " 'expect': <gensim.models.keyedvectors.Vocab at 0x27afe66f9c8>,\n",
       " 'packages': <gensim.models.keyedvectors.Vocab at 0x27afe66fa08>,\n",
       " 'watching': <gensim.models.keyedvectors.Vocab at 0x27afe66fa48>,\n",
       " 'tv': <gensim.models.keyedvectors.Vocab at 0x27afe66fa88>,\n",
       " 'movies': <gensim.models.keyedvectors.Vocab at 0x27afe66fac8>,\n",
       " 'sweet': <gensim.models.keyedvectors.Vocab at 0x27afe66fb08>,\n",
       " 'transfer': <gensim.models.keyedvectors.Vocab at 0x27afe66fb48>,\n",
       " 'zip': <gensim.models.keyedvectors.Vocab at 0x27afe66fb88>,\n",
       " 'lock': <gensim.models.keyedvectors.Vocab at 0x27afe66fbc8>,\n",
       " 'baggie': <gensim.models.keyedvectors.Vocab at 0x27afe66fc08>,\n",
       " 'stay': <gensim.models.keyedvectors.Vocab at 0x27afe66fc48>,\n",
       " 'take': <gensim.models.keyedvectors.Vocab at 0x27afe66fc88>,\n",
       " 'time': <gensim.models.keyedvectors.Vocab at 0x27afe66fcc8>,\n",
       " 'satisfied': <gensim.models.keyedvectors.Vocab at 0x27afe66fd08>,\n",
       " 'purchase': <gensim.models.keyedvectors.Vocab at 0x27afe66fd48>,\n",
       " 'shared': <gensim.models.keyedvectors.Vocab at 0x27afe66fd88>,\n",
       " 'others': <gensim.models.keyedvectors.Vocab at 0x27afe66fdc8>,\n",
       " 'enjoyed': <gensim.models.keyedvectors.Vocab at 0x27afe66fe08>,\n",
       " 'ordering': <gensim.models.keyedvectors.Vocab at 0x27afe66fe48>,\n",
       " 'childhood': <gensim.models.keyedvectors.Vocab at 0x27afe66fe88>,\n",
       " 'favorite': <gensim.models.keyedvectors.Vocab at 0x27afe66fec8>,\n",
       " 'pennsylvania': <gensim.models.keyedvectors.Vocab at 0x27afe66ff08>,\n",
       " 'inc': <gensim.models.keyedvectors.Vocab at 0x27afe66ff48>,\n",
       " 'oldest': <gensim.models.keyedvectors.Vocab at 0x27afe66ff88>,\n",
       " 'united': <gensim.models.keyedvectors.Vocab at 0x27afe66ffc8>,\n",
       " 'states': <gensim.models.keyedvectors.Vocab at 0x27afe7c3048>,\n",
       " 'hershey': <gensim.models.keyedvectors.Vocab at 0x27afe7c3088>,\n",
       " 'company': <gensim.models.keyedvectors.Vocab at 0x27afe7c30c8>,\n",
       " 'established': <gensim.models.keyedvectors.Vocab at 0x27afe7c3108>,\n",
       " 'young': <gensim.models.keyedvectors.Vocab at 0x27afe7c3148>,\n",
       " 'make': <gensim.models.keyedvectors.Vocab at 0x27afe7c3188>,\n",
       " 'apple': <gensim.models.keyedvectors.Vocab at 0x27afe7c31c8>,\n",
       " 'twists': <gensim.models.keyedvectors.Vocab at 0x27afe7c3208>,\n",
       " 'green': <gensim.models.keyedvectors.Vocab at 0x27afe7c3248>,\n",
       " 'color': <gensim.models.keyedvectors.Vocab at 0x27afe7c3288>,\n",
       " 'blue': <gensim.models.keyedvectors.Vocab at 0x27afe7c32c8>,\n",
       " 'raspberry': <gensim.models.keyedvectors.Vocab at 0x27afe7c3308>,\n",
       " 'keep': <gensim.models.keyedvectors.Vocab at 0x27afe7c3348>,\n",
       " 'dry': <gensim.models.keyedvectors.Vocab at 0x27afe7c3388>,\n",
       " 'cool': <gensim.models.keyedvectors.Vocab at 0x27afe7c33c8>,\n",
       " 'place': <gensim.models.keyedvectors.Vocab at 0x27afe7c3408>,\n",
       " 'recommended': <gensim.models.keyedvectors.Vocab at 0x27afe7c3448>,\n",
       " 'fridge': <gensim.models.keyedvectors.Vocab at 0x27afe7c3488>,\n",
       " 'according': <gensim.models.keyedvectors.Vocab at 0x27afe7c34c8>,\n",
       " 'guinness': <gensim.models.keyedvectors.Vocab at 0x27afe7c3508>,\n",
       " 'book': <gensim.models.keyedvectors.Vocab at 0x27afe7c3548>,\n",
       " 'records': <gensim.models.keyedvectors.Vocab at 0x27afe7c3588>,\n",
       " 'longest': <gensim.models.keyedvectors.Vocab at 0x27afe7c35c8>,\n",
       " 'twist': <gensim.models.keyedvectors.Vocab at 0x27afe7c3608>,\n",
       " 'ever': <gensim.models.keyedvectors.Vocab at 0x27afe7c3648>,\n",
       " 'measured': <gensim.models.keyedvectors.Vocab at 0x27afe7c3688>,\n",
       " 'feet': <gensim.models.keyedvectors.Vocab at 0x27afe7c36c8>,\n",
       " 'record': <gensim.models.keyedvectors.Vocab at 0x27afe7c3708>,\n",
       " 'breaking': <gensim.models.keyedvectors.Vocab at 0x27afe7c3748>,\n",
       " 'became': <gensim.models.keyedvectors.Vocab at 0x27afe7c3788>,\n",
       " 'world': <gensim.models.keyedvectors.Vocab at 0x27afe7c37c8>,\n",
       " 'july': <gensim.models.keyedvectors.Vocab at 0x27afe7c3808>,\n",
       " 'kosher': <gensim.models.keyedvectors.Vocab at 0x27afe7c3848>,\n",
       " 'delivered': <gensim.models.keyedvectors.Vocab at 0x27afe7c3888>,\n",
       " 'fast': <gensim.models.keyedvectors.Vocab at 0x27afe7c38c8>,\n",
       " 'purchased': <gensim.models.keyedvectors.Vocab at 0x27afe7c3908>,\n",
       " 'reasonable': <gensim.models.keyedvectors.Vocab at 0x27afe7c3948>,\n",
       " 'bound': <gensim.models.keyedvectors.Vocab at 0x27afe7c3988>,\n",
       " 'unable': <gensim.models.keyedvectors.Vocab at 0x27afe7c39c8>,\n",
       " 'get': <gensim.models.keyedvectors.Vocab at 0x27afe7c3a08>,\n",
       " 'store': <gensim.models.keyedvectors.Vocab at 0x27afe7c3a48>,\n",
       " 'perfect': <gensim.models.keyedvectors.Vocab at 0x27afe7c3a88>,\n",
       " 'addict': <gensim.models.keyedvectors.Vocab at 0x27afe7c3ac8>,\n",
       " 'times': <gensim.models.keyedvectors.Vocab at 0x27afe7c3b08>,\n",
       " 'amazon': <gensim.models.keyedvectors.Vocab at 0x27afe7c3b48>,\n",
       " 'government': <gensim.models.keyedvectors.Vocab at 0x27afe7c3b88>,\n",
       " 'employees': <gensim.models.keyedvectors.Vocab at 0x27afe7c3bc8>,\n",
       " 'living': <gensim.models.keyedvectors.Vocab at 0x27afe7c3c08>,\n",
       " 'overseas': <gensim.models.keyedvectors.Vocab at 0x27afe7c3c48>,\n",
       " 'country': <gensim.models.keyedvectors.Vocab at 0x27afe7c3c88>,\n",
       " 'always': <gensim.models.keyedvectors.Vocab at 0x27afe7c3cc8>,\n",
       " 'tasty': <gensim.models.keyedvectors.Vocab at 0x27afe7c3d08>,\n",
       " 'arrive': <gensim.models.keyedvectors.Vocab at 0x27afe7c3d48>,\n",
       " 'timely': <gensim.models.keyedvectors.Vocab at 0x27afe7c3d88>,\n",
       " 'manner': <gensim.models.keyedvectors.Vocab at 0x27afe7c3dc8>,\n",
       " 'currently': <gensim.models.keyedvectors.Vocab at 0x27afe7c3e08>,\n",
       " 'apparently': <gensim.models.keyedvectors.Vocab at 0x27afe7c3e48>,\n",
       " 'staff': <gensim.models.keyedvectors.Vocab at 0x27afe7c3e88>,\n",
       " 'likes': <gensim.models.keyedvectors.Vocab at 0x27afe7c3ec8>,\n",
       " 'generous': <gensim.models.keyedvectors.Vocab at 0x27afe7c3f08>,\n",
       " 'amounts': <gensim.models.keyedvectors.Vocab at 0x27afe7c3f48>,\n",
       " 'worth': <gensim.models.keyedvectors.Vocab at 0x27afe7c3f88>,\n",
       " 'remember': <gensim.models.keyedvectors.Vocab at 0x27afe7c3fc8>,\n",
       " 'kid': <gensim.models.keyedvectors.Vocab at 0x27afe7c5048>,\n",
       " 'dropped': <gensim.models.keyedvectors.Vocab at 0x27afe7c5088>,\n",
       " 'still': <gensim.models.keyedvectors.Vocab at 0x27afe7c50c8>,\n",
       " 'superb': <gensim.models.keyedvectors.Vocab at 0x27afe7c5108>,\n",
       " 'disappointed': <gensim.models.keyedvectors.Vocab at 0x27afe7c5148>,\n",
       " 'watchers': <gensim.models.keyedvectors.Vocab at 0x27afe7c5188>,\n",
       " 'craving': <gensim.models.keyedvectors.Vocab at 0x27afe7c51c8>,\n",
       " 'lived': <gensim.models.keyedvectors.Vocab at 0x27afe7c5208>,\n",
       " 'yrs': <gensim.models.keyedvectors.Vocab at 0x27afe7c5248>,\n",
       " 'miss': <gensim.models.keyedvectors.Vocab at 0x27afe7c5288>,\n",
       " 'visit': <gensim.models.keyedvectors.Vocab at 0x27afe7c52c8>,\n",
       " 'someone': <gensim.models.keyedvectors.Vocab at 0x27afe7c5308>,\n",
       " 'visits': <gensim.models.keyedvectors.Vocab at 0x27afe7c5348>,\n",
       " 'stock': <gensim.models.keyedvectors.Vocab at 0x27afe7c5388>,\n",
       " 'say': <gensim.models.keyedvectors.Vocab at 0x27afe7c53c8>,\n",
       " 'yum': <gensim.models.keyedvectors.Vocab at 0x27afe7c5408>,\n",
       " 'sell': <gensim.models.keyedvectors.Vocab at 0x27afe7c5448>,\n",
       " 'mexico': <gensim.models.keyedvectors.Vocab at 0x27afe7c5488>,\n",
       " 'faithful': <gensim.models.keyedvectors.Vocab at 0x27afe7c54c8>,\n",
       " 'buyer': <gensim.models.keyedvectors.Vocab at 0x27afe7c5508>,\n",
       " 'often': <gensim.models.keyedvectors.Vocab at 0x27afe7c5548>,\n",
       " 'able': <gensim.models.keyedvectors.Vocab at 0x27afe7c5588>,\n",
       " 'buy': <gensim.models.keyedvectors.Vocab at 0x27afe7c55c8>,\n",
       " 'received': <gensim.models.keyedvectors.Vocab at 0x27afe7c5608>,\n",
       " 'advertised': <gensim.models.keyedvectors.Vocab at 0x27afe7c5648>,\n",
       " 'plan': <gensim.models.keyedvectors.Vocab at 0x27afe7c5688>,\n",
       " 'glad': <gensim.models.keyedvectors.Vocab at 0x27afe7c56c8>,\n",
       " 'carried': <gensim.models.keyedvectors.Vocab at 0x27afe7c5708>,\n",
       " 'batteries': <gensim.models.keyedvectors.Vocab at 0x27afe7c5748>,\n",
       " 'hard': <gensim.models.keyedvectors.Vocab at 0x27afe7c5788>,\n",
       " 'finding': <gensim.models.keyedvectors.Vocab at 0x27afe7c57c8>,\n",
       " 'elsewhere': <gensim.models.keyedvectors.Vocab at 0x27afe7c5808>,\n",
       " 'size': <gensim.models.keyedvectors.Vocab at 0x27afe7c5848>,\n",
       " 'garage': <gensim.models.keyedvectors.Vocab at 0x27afe7c5888>,\n",
       " 'door': <gensim.models.keyedvectors.Vocab at 0x27afe7c58c8>,\n",
       " 'opener': <gensim.models.keyedvectors.Vocab at 0x27afe7c5908>,\n",
       " 'diabetic': <gensim.models.keyedvectors.Vocab at 0x27afe7c5948>,\n",
       " 'needs': <gensim.models.keyedvectors.Vocab at 0x27afe7c5988>,\n",
       " 'watch': <gensim.models.keyedvectors.Vocab at 0x27afe7c59c8>,\n",
       " 'intake': <gensim.models.keyedvectors.Vocab at 0x27afe7c5a08>,\n",
       " 'father': <gensim.models.keyedvectors.Vocab at 0x27afe7c5a48>,\n",
       " 'chooses': <gensim.models.keyedvectors.Vocab at 0x27afe7c5a88>,\n",
       " 'limit': <gensim.models.keyedvectors.Vocab at 0x27afe7c5ac8>,\n",
       " 'unnecessary': <gensim.models.keyedvectors.Vocab at 0x27afe7c5b08>,\n",
       " 'tooth': <gensim.models.keyedvectors.Vocab at 0x27afe7c5b48>,\n",
       " 'guess': <gensim.models.keyedvectors.Vocab at 0x27afe7c5b88>,\n",
       " 'free': <gensim.models.keyedvectors.Vocab at 0x27afe7c5bc8>,\n",
       " 'pretty': <gensim.models.keyedvectors.Vocab at 0x27afe7c5c08>,\n",
       " 'guilt': <gensim.models.keyedvectors.Vocab at 0x27afe7c5c48>,\n",
       " 'impressed': <gensim.models.keyedvectors.Vocab at 0x27afe7c5c88>,\n",
       " 'w': <gensim.models.keyedvectors.Vocab at 0x27afe7c5cc8>,\n",
       " 'dark': <gensim.models.keyedvectors.Vocab at 0x27afe7c5d08>,\n",
       " 'chocolate': <gensim.models.keyedvectors.Vocab at 0x27afe7c5d48>,\n",
       " 'office': <gensim.models.keyedvectors.Vocab at 0x27afe7c5d88>,\n",
       " 'instead': <gensim.models.keyedvectors.Vocab at 0x27afe7c5dc8>,\n",
       " 'snacking': <gensim.models.keyedvectors.Vocab at 0x27afe7c5e08>,\n",
       " 'sugary': <gensim.models.keyedvectors.Vocab at 0x27afe7c5e48>,\n",
       " 'sweets': <gensim.models.keyedvectors.Vocab at 0x27afe7c5e88>,\n",
       " 'excellent': <gensim.models.keyedvectors.Vocab at 0x27afe7c5ec8>,\n",
       " 'huge': <gensim.models.keyedvectors.Vocab at 0x27afe7c5f08>,\n",
       " 'coffee': <gensim.models.keyedvectors.Vocab at 0x27afe7c5f48>,\n",
       " 'fan': <gensim.models.keyedvectors.Vocab at 0x27afe7c5f88>,\n",
       " 'however': <gensim.models.keyedvectors.Vocab at 0x27afe7c5fc8>,\n",
       " 'mother': <gensim.models.keyedvectors.Vocab at 0x27afe7c9048>,\n",
       " 'little': <gensim.models.keyedvectors.Vocab at 0x27afe7c9088>,\n",
       " 'machine': <gensim.models.keyedvectors.Vocab at 0x27afe7c90c8>,\n",
       " 'talked': <gensim.models.keyedvectors.Vocab at 0x27afe7c9108>,\n",
       " 'trying': <gensim.models.keyedvectors.Vocab at 0x27afe7c9148>,\n",
       " 'latte': <gensim.models.keyedvectors.Vocab at 0x27afe7c9188>,\n",
       " 'shop': <gensim.models.keyedvectors.Vocab at 0x27afe7c91c8>,\n",
       " 'usually': <gensim.models.keyedvectors.Vocab at 0x27afe7c9208>,\n",
       " 'non': <gensim.models.keyedvectors.Vocab at 0x27afe7c9248>,\n",
       " 'drinker': <gensim.models.keyedvectors.Vocab at 0x27afe7c9288>,\n",
       " 'super': <gensim.models.keyedvectors.Vocab at 0x27afe7c92c8>,\n",
       " 'easy': <gensim.models.keyedvectors.Vocab at 0x27afe7c9308>,\n",
       " 'cappuccino': <gensim.models.keyedvectors.Vocab at 0x27afe7c9348>,\n",
       " 'less': <gensim.models.keyedvectors.Vocab at 0x27afe7c9388>,\n",
       " 'minute': <gensim.models.keyedvectors.Vocab at 0x27afe7c93c8>,\n",
       " 'water': <gensim.models.keyedvectors.Vocab at 0x27afe7c9408>,\n",
       " 'heated': <gensim.models.keyedvectors.Vocab at 0x27afe7c9448>,\n",
       " 'dolce': <gensim.models.keyedvectors.Vocab at 0x27afe7c9488>,\n",
       " 'gusto': <gensim.models.keyedvectors.Vocab at 0x27afe7c94c8>,\n",
       " 'anyone': <gensim.models.keyedvectors.Vocab at 0x27afe7c9508>,\n",
       " 'getting': <gensim.models.keyedvectors.Vocab at 0x27afe7c9548>,\n",
       " 'offer': <gensim.models.keyedvectors.Vocab at 0x27afe7c9588>,\n",
       " 'thanks': <gensim.models.keyedvectors.Vocab at 0x27afe7c95c8>,\n",
       " 'mccann': <gensim.models.keyedvectors.Vocab at 0x27afe7c9608>,\n",
       " 'instant': <gensim.models.keyedvectors.Vocab at 0x27afe7c9648>,\n",
       " 'oatmeal': <gensim.models.keyedvectors.Vocab at 0x27afe7c9688>,\n",
       " 'must': <gensim.models.keyedvectors.Vocab at 0x27afe7c96c8>,\n",
       " 'scrape': <gensim.models.keyedvectors.Vocab at 0x27afe7c9708>,\n",
       " 'three': <gensim.models.keyedvectors.Vocab at 0x27afe7c9748>,\n",
       " 'minutes': <gensim.models.keyedvectors.Vocab at 0x27afe7c9788>,\n",
       " 'prepare': <gensim.models.keyedvectors.Vocab at 0x27afe7c97c8>,\n",
       " 'fact': <gensim.models.keyedvectors.Vocab at 0x27afe7c9808>,\n",
       " 'even': <gensim.models.keyedvectors.Vocab at 0x27afe7c9848>,\n",
       " 'best': <gensim.models.keyedvectors.Vocab at 0x27afe7c9888>,\n",
       " 'nowhere': <gensim.models.keyedvectors.Vocab at 0x27afe7c98c8>,\n",
       " 'near': <gensim.models.keyedvectors.Vocab at 0x27afe7c9908>,\n",
       " 'requiring': <gensim.models.keyedvectors.Vocab at 0x27afe7c9948>,\n",
       " 'stovetop': <gensim.models.keyedvectors.Vocab at 0x27afe7c9988>,\n",
       " 'preparation': <gensim.models.keyedvectors.Vocab at 0x27afe7c99c8>,\n",
       " 'gets': <gensim.models.keyedvectors.Vocab at 0x27afe7c9a08>,\n",
       " 'organic': <gensim.models.keyedvectors.Vocab at 0x27afe7c9a48>,\n",
       " 'natural': <gensim.models.keyedvectors.Vocab at 0x27afe7c9a88>,\n",
       " 'brands': <gensim.models.keyedvectors.Vocab at 0x27afe7c9ac8>,\n",
       " 'varieties': <gensim.models.keyedvectors.Vocab at 0x27afe7c9b08>,\n",
       " 'variety': <gensim.models.keyedvectors.Vocab at 0x27afe7c9b48>,\n",
       " 'pack': <gensim.models.keyedvectors.Vocab at 0x27afe7c9b88>,\n",
       " 'prepared': <gensim.models.keyedvectors.Vocab at 0x27afe7c9bc8>,\n",
       " 'microwave': <gensim.models.keyedvectors.Vocab at 0x27afe7c9c08>,\n",
       " 'adding': <gensim.models.keyedvectors.Vocab at 0x27afe7c9c48>,\n",
       " 'boiling': <gensim.models.keyedvectors.Vocab at 0x27afe7c9c88>,\n",
       " 'convenient': <gensim.models.keyedvectors.Vocab at 0x27afe7c9cc8>,\n",
       " 'extreme': <gensim.models.keyedvectors.Vocab at 0x27afe7c9d08>,\n",
       " 'issue': <gensim.models.keyedvectors.Vocab at 0x27afe7c9d48>,\n",
       " 'actual': <gensim.models.keyedvectors.Vocab at 0x27afe7c9d88>,\n",
       " 'cane': <gensim.models.keyedvectors.Vocab at 0x27afe7c9dc8>,\n",
       " 'high': <gensim.models.keyedvectors.Vocab at 0x27afe7c9e08>,\n",
       " 'fructose': <gensim.models.keyedvectors.Vocab at 0x27afe7c9e48>,\n",
       " 'corn': <gensim.models.keyedvectors.Vocab at 0x27afe7c9e88>,\n",
       " 'syrup': <gensim.models.keyedvectors.Vocab at 0x27afe7c9ec8>,\n",
       " 'helped': <gensim.models.keyedvectors.Vocab at 0x27afe7c9f08>,\n",
       " 'decide': <gensim.models.keyedvectors.Vocab at 0x27afe7c9f48>,\n",
       " 'real': <gensim.models.keyedvectors.Vocab at 0x27afe7c9f88>,\n",
       " 'tastes': <gensim.models.keyedvectors.Vocab at 0x27afe7c9fc8>,\n",
       " 'harmful': <gensim.models.keyedvectors.Vocab at 0x27afe7cd048>,\n",
       " 'stuff': <gensim.models.keyedvectors.Vocab at 0x27afe7cd088>,\n",
       " 'thing': <gensim.models.keyedvectors.Vocab at 0x27afe7cd0c8>,\n",
       " 'though': <gensim.models.keyedvectors.Vocab at 0x27afe7cd108>,\n",
       " 'thickeners': <gensim.models.keyedvectors.Vocab at 0x27afe7cd148>,\n",
       " 'oats': <gensim.models.keyedvectors.Vocab at 0x27afe7cd188>,\n",
       " 'plus': <gensim.models.keyedvectors.Vocab at 0x27afe7cd1c8>,\n",
       " 'heat': <gensim.models.keyedvectors.Vocab at 0x27afe7cd208>,\n",
       " 'creamy': <gensim.models.keyedvectors.Vocab at 0x27afe7cd248>,\n",
       " 'without': <gensim.models.keyedvectors.Vocab at 0x27afe7cd288>,\n",
       " 'guar': <gensim.models.keyedvectors.Vocab at 0x27afe7cd2c8>,\n",
       " 'gum': <gensim.models.keyedvectors.Vocab at 0x27afe7cd308>,\n",
       " 'convenience': <gensim.models.keyedvectors.Vocab at 0x27afe7cd348>,\n",
       " 'maybe': <gensim.models.keyedvectors.Vocab at 0x27afe7cd388>,\n",
       " 'sitting': <gensim.models.keyedvectors.Vocab at 0x27afe7cd3c8>,\n",
       " 'bowl': <gensim.models.keyedvectors.Vocab at 0x27afe7cd408>,\n",
       " 'becomes': <gensim.models.keyedvectors.Vocab at 0x27afe7cd448>,\n",
       " 'thick': <gensim.models.keyedvectors.Vocab at 0x27afe7cd488>,\n",
       " 'gluey': <gensim.models.keyedvectors.Vocab at 0x27afe7cd4c8>,\n",
       " 'uses': <gensim.models.keyedvectors.Vocab at 0x27afe7cd508>,\n",
       " 'sweetness': <gensim.models.keyedvectors.Vocab at 0x27afe7cd548>,\n",
       " 'doctors': <gensim.models.keyedvectors.Vocab at 0x27afe7cd588>,\n",
       " 'form': <gensim.models.keyedvectors.Vocab at 0x27afe7cd5c8>,\n",
       " 'cold': <gensim.models.keyedvectors.Vocab at 0x27afe7cd608>,\n",
       " 'morning': <gensim.models.keyedvectors.Vocab at 0x27afe7cd648>,\n",
       " 'steel': <gensim.models.keyedvectors.Vocab at 0x27afe7cd688>,\n",
       " 'cinnamon': <gensim.models.keyedvectors.Vocab at 0x27afe7cd6c8>,\n",
       " 'maple': <gensim.models.keyedvectors.Vocab at 0x27afe7cd708>,\n",
       " 'brown': <gensim.models.keyedvectors.Vocab at 0x27afe7cd748>,\n",
       " 'regular': <gensim.models.keyedvectors.Vocab at 0x27afe7cd788>,\n",
       " 'require': <gensim.models.keyedvectors.Vocab at 0x27afe7cd7c8>,\n",
       " 'doctoring': <gensim.models.keyedvectors.Vocab at 0x27afe7cd808>,\n",
       " 'tell': <gensim.models.keyedvectors.Vocab at 0x27afe7cd848>,\n",
       " 'apart': <gensim.models.keyedvectors.Vocab at 0x27afe7cd888>,\n",
       " 'become': <gensim.models.keyedvectors.Vocab at 0x27afe7cd8c8>,\n",
       " 'soggy': <gensim.models.keyedvectors.Vocab at 0x27afe7cd908>,\n",
       " 'hits': <gensim.models.keyedvectors.Vocab at 0x27afe7cd948>,\n",
       " 'holds': <gensim.models.keyedvectors.Vocab at 0x27afe7cd988>,\n",
       " 'texture': <gensim.models.keyedvectors.Vocab at 0x27afe7cd9c8>,\n",
       " 'oat': <gensim.models.keyedvectors.Vocab at 0x27afe7cda08>,\n",
       " 'meal': <gensim.models.keyedvectors.Vocab at 0x27afe7cda48>,\n",
       " 'may': <gensim.models.keyedvectors.Vocab at 0x27afe7cda88>,\n",
       " 'longer': <gensim.models.keyedvectors.Vocab at 0x27afe7cdac8>,\n",
       " 'eaten': <gensim.models.keyedvectors.Vocab at 0x27afe7cdb08>,\n",
       " 'close': <gensim.models.keyedvectors.Vocab at 0x27afe7cdb48>,\n",
       " 'second': <gensim.models.keyedvectors.Vocab at 0x27afe7cdb88>,\n",
       " 'irish': <gensim.models.keyedvectors.Vocab at 0x27afe7cdbc8>,\n",
       " 'apples': <gensim.models.keyedvectors.Vocab at 0x27afe7cdc08>,\n",
       " 'boxes': <gensim.models.keyedvectors.Vocab at 0x27afe7cdc48>,\n",
       " 'thought': <gensim.models.keyedvectors.Vocab at 0x27afe7cdc88>,\n",
       " 'give': <gensim.models.keyedvectors.Vocab at 0x27afe7cdcc8>,\n",
       " 'try': <gensim.models.keyedvectors.Vocab at 0x27afe7cdd08>,\n",
       " 'hardy': <gensim.models.keyedvectors.Vocab at 0x27afe7cdd48>,\n",
       " 'folks': <gensim.models.keyedvectors.Vocab at 0x27afe7cdd88>,\n",
       " 'post': <gensim.models.keyedvectors.Vocab at 0x27afe7cddc8>,\n",
       " 'surgery': <gensim.models.keyedvectors.Vocab at 0x27afe7cde08>,\n",
       " 'palatable': <gensim.models.keyedvectors.Vocab at 0x27afe7cde48>,\n",
       " 'easily': <gensim.models.keyedvectors.Vocab at 0x27afe7cde88>,\n",
       " 'digestible': <gensim.models.keyedvectors.Vocab at 0x27afe7cdec8>,\n",
       " 'fiber': <gensim.models.keyedvectors.Vocab at 0x27afe7cdf08>,\n",
       " 'bloat': <gensim.models.keyedvectors.Vocab at 0x27afe7cdf48>,\n",
       " 'celiac': <gensim.models.keyedvectors.Vocab at 0x27afe7cdf88>,\n",
       " 'disease': <gensim.models.keyedvectors.Vocab at 0x27afe7cdfc8>,\n",
       " 'lifesaver': <gensim.models.keyedvectors.Vocab at 0x27afe7d1048>,\n",
       " 'almost': <gensim.models.keyedvectors.Vocab at 0x27afe7d1088>,\n",
       " 'half': <gensim.models.keyedvectors.Vocab at 0x27afe7d10c8>,\n",
       " 'grocery': <gensim.models.keyedvectors.Vocab at 0x27afe7d1108>,\n",
       " 'health': <gensim.models.keyedvectors.Vocab at 0x27afe7d1148>,\n",
       " 'else': <gensim.models.keyedvectors.Vocab at 0x27afe7d1188>,\n",
       " 'cup': <gensim.models.keyedvectors.Vocab at 0x27afe7d11c8>,\n",
       " 'low': <gensim.models.keyedvectors.Vocab at 0x27afe7d1208>,\n",
       " 'fat': <gensim.models.keyedvectors.Vocab at 0x27afe7d1248>,\n",
       " 'milk': <gensim.models.keyedvectors.Vocab at 0x27afe7d1288>,\n",
       " 'add': <gensim.models.keyedvectors.Vocab at 0x27afe7d12c8>,\n",
       " 'raisins': <gensim.models.keyedvectors.Vocab at 0x27afe7d1308>,\n",
       " 'nuke': <gensim.models.keyedvectors.Vocab at 0x27afe7d1348>,\n",
       " 'seconds': <gensim.models.keyedvectors.Vocab at 0x27afe7d1388>,\n",
       " 'kroger': <gensim.models.keyedvectors.Vocab at 0x27afe7d13c8>,\n",
       " 'tastier': <gensim.models.keyedvectors.Vocab at 0x27afe7d1408>,\n",
       " 'something': <gensim.models.keyedvectors.Vocab at 0x27afe7d1448>,\n",
       " 'mmm': <gensim.models.keyedvectors.Vocab at 0x27afe7d1488>,\n",
       " 'visiting': <gensim.models.keyedvectors.Vocab at 0x27afe7d14c8>,\n",
       " 'friend': <gensim.models.keyedvectors.Vocab at 0x27afe7d1508>,\n",
       " 'storage': <gensim.models.keyedvectors.Vocab at 0x27afe7d1548>,\n",
       " 'room': <gensim.models.keyedvectors.Vocab at 0x27afe7d1588>,\n",
       " 'packet': <gensim.models.keyedvectors.Vocab at 0x27afe7d15c8>,\n",
       " 'suggested': <gensim.models.keyedvectors.Vocab at 0x27afe7d1608>,\n",
       " 'stash': <gensim.models.keyedvectors.Vocab at 0x27afe7d1648>,\n",
       " 'sometimes': <gensim.models.keyedvectors.Vocab at 0x27afe7d1688>,\n",
       " 'dose': <gensim.models.keyedvectors.Vocab at 0x27afe7d16c8>,\n",
       " 'chance': <gensim.models.keyedvectors.Vocab at 0x27afe7d1708>,\n",
       " 'ended': <gensim.models.keyedvectors.Vocab at 0x27afe7d1748>,\n",
       " 'goes': <gensim.models.keyedvectors.Vocab at 0x27afe7d1788>,\n",
       " 'j': <gensim.models.keyedvectors.Vocab at 0x27afe7d17c8>,\n",
       " 'slice': <gensim.models.keyedvectors.Vocab at 0x27afe7d1808>,\n",
       " 'toast': <gensim.models.keyedvectors.Vocab at 0x27afe7d1848>,\n",
       " 'ready': <gensim.models.keyedvectors.Vocab at 0x27afe7d1888>,\n",
       " 'day': <gensim.models.keyedvectors.Vocab at 0x27afe7d18c8>,\n",
       " 'least': <gensim.models.keyedvectors.Vocab at 0x27afe7d1908>,\n",
       " 'jerry': <gensim.models.keyedvectors.Vocab at 0x27afe7d1948>,\n",
       " 'wife': <gensim.models.keyedvectors.Vocab at 0x27afe7d1988>,\n",
       " 'reccomended': <gensim.models.keyedvectors.Vocab at 0x27afe7d19c8>,\n",
       " 'happy': <gensim.models.keyedvectors.Vocab at 0x27afe7d1a08>,\n",
       " 'packs': <gensim.models.keyedvectors.Vocab at 0x27afe7d1a48>,\n",
       " 'cents': <gensim.models.keyedvectors.Vocab at 0x27afe7d1a88>,\n",
       " 'per': <gensim.models.keyedvectors.Vocab at 0x27afe7d1ac8>,\n",
       " 'understand': <gensim.models.keyedvectors.Vocab at 0x27afe7d1b08>,\n",
       " 'earth': <gensim.models.keyedvectors.Vocab at 0x27afe7d1b48>,\n",
       " 'terrific': <gensim.models.keyedvectors.Vocab at 0x27afe7d1b88>,\n",
       " 'followed': <gensim.models.keyedvectors.Vocab at 0x27afe7d1bc8>,\n",
       " 'tired': <gensim.models.keyedvectors.Vocab at 0x27afe7d1c08>,\n",
       " 'ole': <gensim.models.keyedvectors.Vocab at 0x27afe7d1c48>,\n",
       " 'boil': <gensim.models.keyedvectors.Vocab at 0x27afe7d1c88>,\n",
       " 'pot': <gensim.models.keyedvectors.Vocab at 0x27afe7d1cc8>,\n",
       " 'empty': <gensim.models.keyedvectors.Vocab at 0x27afe7d1d08>,\n",
       " 'pour': <gensim.models.keyedvectors.Vocab at 0x27afe7d1d48>,\n",
       " 'expand': <gensim.models.keyedvectors.Vocab at 0x27afe7d1d88>,\n",
       " 'takes': <gensim.models.keyedvectors.Vocab at 0x27afe7d1dc8>,\n",
       " 'extremely': <gensim.models.keyedvectors.Vocab at 0x27afe7d1e08>,\n",
       " 'cheap': <gensim.models.keyedvectors.Vocab at 0x27afe7d1e48>,\n",
       " 'connoisseur': <gensim.models.keyedvectors.Vocab at 0x27afe7d1e88>,\n",
       " 'whether': <gensim.models.keyedvectors.Vocab at 0x27afe7d1ec8>,\n",
       " 'raw': <gensim.models.keyedvectors.Vocab at 0x27afe7d1f08>,\n",
       " 'state': <gensim.models.keyedvectors.Vocab at 0x27afe7d1f48>,\n",
       " 'cooks': <gensim.models.keyedvectors.Vocab at 0x27afe7d1f88>,\n",
       " 'hour': <gensim.models.keyedvectors.Vocab at 0x27afe7d1fc8>,\n",
       " 'done': <gensim.models.keyedvectors.Vocab at 0x27afe7d3048>,\n",
       " 'beauty': <gensim.models.keyedvectors.Vocab at 0x27afe7d3088>,\n",
       " 'available': <gensim.models.keyedvectors.Vocab at 0x27afe7d30c8>,\n",
       " 'allows': <gensim.models.keyedvectors.Vocab at 0x27afe7d3108>,\n",
       " 'explored': <gensim.models.keyedvectors.Vocab at 0x27afe7d3148>,\n",
       " 'giving': <gensim.models.keyedvectors.Vocab at 0x27afe7d3188>,\n",
       " 'experience': <gensim.models.keyedvectors.Vocab at 0x27afe7d31c8>,\n",
       " 'difference': <gensim.models.keyedvectors.Vocab at 0x27afe7d3208>,\n",
       " 'known': <gensim.models.keyedvectors.Vocab at 0x27afe7d3248>,\n",
       " 'oatmeals': <gensim.models.keyedvectors.Vocab at 0x27afe7d3288>,\n",
       " 'personally': <gensim.models.keyedvectors.Vocab at 0x27afe7d32c8>,\n",
       " 'thicker': <gensim.models.keyedvectors.Vocab at 0x27afe7d3308>,\n",
       " 'body': <gensim.models.keyedvectors.Vocab at 0x27afe7d3348>,\n",
       " 'top': <gensim.models.keyedvectors.Vocab at 0x27afe7d3388>,\n",
       " 'america': <gensim.models.keyedvectors.Vocab at 0x27afe7d33c8>,\n",
       " 'tends': <gensim.models.keyedvectors.Vocab at 0x27afe7d3408>,\n",
       " 'liquidy': <gensim.models.keyedvectors.Vocab at 0x27afe7d3448>,\n",
       " 'experiment': <gensim.models.keyedvectors.Vocab at 0x27afe7d3488>,\n",
       " 'twenty': <gensim.models.keyedvectors.Vocab at 0x27afe7d34c8>,\n",
       " 'seven': <gensim.models.keyedvectors.Vocab at 0x27afe7d3508>,\n",
       " 'handle': <gensim.models.keyedvectors.Vocab at 0x27afe7d3548>,\n",
       " 'bad': <gensim.models.keyedvectors.Vocab at 0x27afe7d3588>,\n",
       " 'consider': <gensim.models.keyedvectors.Vocab at 0x27afe7d35c8>,\n",
       " 'offering': <gensim.models.keyedvectors.Vocab at 0x27afe7d3608>,\n",
       " 'lot': <gensim.models.keyedvectors.Vocab at 0x27afe7d3648>,\n",
       " 'end': <gensim.models.keyedvectors.Vocab at 0x27afe7d3688>,\n",
       " 'ten': <gensim.models.keyedvectors.Vocab at 0x27afe7d36c8>,\n",
       " 'count': <gensim.models.keyedvectors.Vocab at 0x27afe7d3708>,\n",
       " 'whole': <gensim.models.keyedvectors.Vocab at 0x27afe7d3748>,\n",
       " 'family': <gensim.models.keyedvectors.Vocab at 0x27afe7d3788>,\n",
       " 'eaters': <gensim.models.keyedvectors.Vocab at 0x27afe7d37c8>,\n",
       " 'single': <gensim.models.keyedvectors.Vocab at 0x27afe7d3808>,\n",
       " 'person': <gensim.models.keyedvectors.Vocab at 0x27afe7d3848>,\n",
       " 'alone': <gensim.models.keyedvectors.Vocab at 0x27afe7d3888>,\n",
       " 'save': <gensim.models.keyedvectors.Vocab at 0x27afe7d38c8>,\n",
       " 'box': <gensim.models.keyedvectors.Vocab at 0x27afe7d3908>,\n",
       " 'choice': <gensim.models.keyedvectors.Vocab at 0x27afe7d3948>,\n",
       " 'overly': <gensim.models.keyedvectors.Vocab at 0x27afe7d3988>,\n",
       " 'breakfast': <gensim.models.keyedvectors.Vocab at 0x27afe7d39c8>,\n",
       " 'cook': <gensim.models.keyedvectors.Vocab at 0x27afe7d3a08>,\n",
       " 'anything': <gensim.models.keyedvectors.Vocab at 0x27afe7d3a48>,\n",
       " 'keeps': <gensim.models.keyedvectors.Vocab at 0x27afe7d3a88>,\n",
       " 'regularly': <gensim.models.keyedvectors.Vocab at 0x27afe7d3ac8>,\n",
       " 'follow': <gensim.models.keyedvectors.Vocab at 0x27afe7d3b08>,\n",
       " 'directions': <gensim.models.keyedvectors.Vocab at 0x27afe7d3b48>,\n",
       " 'package': <gensim.models.keyedvectors.Vocab at 0x27afe7d3b88>,\n",
       " 'since': <gensim.models.keyedvectors.Vocab at 0x27afe7d3bc8>,\n",
       " 'comes': <gensim.models.keyedvectors.Vocab at 0x27afe7d3c08>,\n",
       " 'soupy': <gensim.models.keyedvectors.Vocab at 0x27afe7d3c48>,\n",
       " 'fine': <gensim.models.keyedvectors.Vocab at 0x27afe7d3c88>,\n",
       " 'added': <gensim.models.keyedvectors.Vocab at 0x27afe7d3cc8>,\n",
       " 'ok': <gensim.models.keyedvectors.Vocab at 0x27afe7d3d08>,\n",
       " 'order': <gensim.models.keyedvectors.Vocab at 0x27afe7d3d48>,\n",
       " 'mushy': <gensim.models.keyedvectors.Vocab at 0x27afe7d3d88>,\n",
       " 'quaker': <gensim.models.keyedvectors.Vocab at 0x27afe7d3dc8>,\n",
       " 'way': <gensim.models.keyedvectors.Vocab at 0x27afe7d3e08>,\n",
       " 'bloody': <gensim.models.keyedvectors.Vocab at 0x27afe7d3e48>,\n",
       " 'mary': <gensim.models.keyedvectors.Vocab at 0x27afe7d3e88>,\n",
       " 'mix': <gensim.models.keyedvectors.Vocab at 0x27afe7d3ec8>,\n",
       " 'seller': <gensim.models.keyedvectors.Vocab at 0x27afe7d3f08>,\n",
       " 'advertising': <gensim.models.keyedvectors.Vocab at 0x27afe7d3f48>,\n",
       " 'worked': <gensim.models.keyedvectors.Vocab at 0x27afe7d3f88>,\n",
       " 'lol': <gensim.models.keyedvectors.Vocab at 0x27afe7d3fc8>,\n",
       " 'buddies': <gensim.models.keyedvectors.Vocab at 0x27afe7d7048>,\n",
       " 'im': <gensim.models.keyedvectors.Vocab at 0x27afe7d7088>,\n",
       " 'yet': <gensim.models.keyedvectors.Vocab at 0x27afe7d70c8>,\n",
       " 'burn': <gensim.models.keyedvectors.Vocab at 0x27afe7d7108>,\n",
       " 'mouth': <gensim.models.keyedvectors.Vocab at 0x27afe7d7148>,\n",
       " 'forever': <gensim.models.keyedvectors.Vocab at 0x27afe7d7188>,\n",
       " 'nice': <gensim.models.keyedvectors.Vocab at 0x27afe7d71c8>,\n",
       " 'temp': <gensim.models.keyedvectors.Vocab at 0x27afe7d7208>,\n",
       " 'last': <gensim.models.keyedvectors.Vocab at 0x27afe7d7248>,\n",
       " 'looked': <gensim.models.keyedvectors.Vocab at 0x27afe7d7288>,\n",
       " 'vermont': <gensim.models.keyedvectors.Vocab at 0x27afe7d72c8>,\n",
       " 'weston': <gensim.models.keyedvectors.Vocab at 0x27afe7d7308>,\n",
       " 'along': <gensim.models.keyedvectors.Vocab at 0x27afe7d7348>,\n",
       " 'jaw': <gensim.models.keyedvectors.Vocab at 0x27afe7d7388>,\n",
       " 'cranberry': <gensim.models.keyedvectors.Vocab at 0x27afe7d73c8>,\n",
       " 'horseradish': <gensim.models.keyedvectors.Vocab at 0x27afe7d7408>,\n",
       " 'bean': <gensim.models.keyedvectors.Vocab at 0x27afe7d7448>,\n",
       " 'salsa': <gensim.models.keyedvectors.Vocab at 0x27afe7d7488>,\n",
       " 'cider': <gensim.models.keyedvectors.Vocab at 0x27afe7d74c8>,\n",
       " 'jelly': <gensim.models.keyedvectors.Vocab at 0x27afe7d7508>,\n",
       " 'newton': <gensim.models.keyedvectors.Vocab at 0x27afe7d7548>,\n",
       " 'art': <gensim.models.keyedvectors.Vocab at 0x27afe7d7588>,\n",
       " 'motion': <gensim.models.keyedvectors.Vocab at 0x27afe7d75c8>,\n",
       " 'staple': <gensim.models.keyedvectors.Vocab at 0x27afe7d7608>,\n",
       " 'ass': <gensim.models.keyedvectors.Vocab at 0x27afe7d7648>,\n",
       " 'glands': <gensim.models.keyedvectors.Vocab at 0x27afe7d7688>,\n",
       " 'behind': <gensim.models.keyedvectors.Vocab at 0x27afe7d76c8>,\n",
       " 'ears': <gensim.models.keyedvectors.Vocab at 0x27afe7d7708>,\n",
       " 'arms': <gensim.models.keyedvectors.Vocab at 0x27afe7d7748>,\n",
       " 'requires': <gensim.models.keyedvectors.Vocab at 0x27afe7d7788>,\n",
       " 'beverage': <gensim.models.keyedvectors.Vocab at 0x27afe7d77c8>,\n",
       " 'glass': <gensim.models.keyedvectors.Vocab at 0x27afe7d7808>,\n",
       " 'nose': <gensim.models.keyedvectors.Vocab at 0x27afe7d7848>,\n",
       " 'run': <gensim.models.keyedvectors.Vocab at 0x27afe7d7888>,\n",
       " 'look': <gensim.models.keyedvectors.Vocab at 0x27afe7d78c8>,\n",
       " 'ordinary': <gensim.models.keyedvectors.Vocab at 0x27afe7d7908>,\n",
       " 'already': <gensim.models.keyedvectors.Vocab at 0x27afe7d7948>,\n",
       " 'ideas': <gensim.models.keyedvectors.Vocab at 0x27afe7d7988>,\n",
       " 'work': <gensim.models.keyedvectors.Vocab at 0x27afe7d79c8>,\n",
       " 'suspect': <gensim.models.keyedvectors.Vocab at 0x27afe7d7a08>,\n",
       " 'people': <gensim.models.keyedvectors.Vocab at 0x27afe7d7a48>,\n",
       " 'hitting': <gensim.models.keyedvectors.Vocab at 0x27afe7d7a88>,\n",
       " 'goodies': <gensim.models.keyedvectors.Vocab at 0x27afe7d7ac8>,\n",
       " 'absence': <gensim.models.keyedvectors.Vocab at 0x27afe7d7b08>,\n",
       " 'especially': <gensim.models.keyedvectors.Vocab at 0x27afe7d7b48>,\n",
       " 'colleague': <gensim.models.keyedvectors.Vocab at 0x27afe7d7b88>,\n",
       " 'opportunity': <gensim.models.keyedvectors.Vocab at 0x27afe7d7bc8>,\n",
       " 'contents': <gensim.models.keyedvectors.Vocab at 0x27afe7d7c08>,\n",
       " 'planters': <gensim.models.keyedvectors.Vocab at 0x27afe7d7c48>,\n",
       " 'see': <gensim.models.keyedvectors.Vocab at 0x27afe7d7c88>,\n",
       " 'whose': <gensim.models.keyedvectors.Vocab at 0x27afe7d7cc8>,\n",
       " 'crying': <gensim.models.keyedvectors.Vocab at 0x27afe7d7d08>,\n",
       " 'running': <gensim.models.keyedvectors.Vocab at 0x27afe7d7d48>,\n",
       " 'return': <gensim.models.keyedvectors.Vocab at 0x27afe7d7d88>,\n",
       " 'shaken': <gensim.models.keyedvectors.Vocab at 0x27afe7d7dc8>,\n",
       " 'ensure': <gensim.models.keyedvectors.Vocab at 0x27afe7d7e08>,\n",
       " 'spices': <gensim.models.keyedvectors.Vocab at 0x27afe7d7e48>,\n",
       " 'evenly': <gensim.models.keyedvectors.Vocab at 0x27afe7d7e88>,\n",
       " 'distributed': <gensim.models.keyedvectors.Vocab at 0x27afe7d7ec8>,\n",
       " 'important': <gensim.models.keyedvectors.Vocab at 0x27afe7d7f08>,\n",
       " 'wash': <gensim.models.keyedvectors.Vocab at 0x27afe7d7f48>,\n",
       " 'hands': <gensim.models.keyedvectors.Vocab at 0x27afe7d7f88>,\n",
       " 'consumption': <gensim.models.keyedvectors.Vocab at 0x27afe7d7fc8>,\n",
       " 'eyes': <gensim.models.keyedvectors.Vocab at 0x27afe7db048>,\n",
       " 'p': <gensim.models.keyedvectors.Vocab at 0x27afe7db088>,\n",
       " 'sharing': <gensim.models.keyedvectors.Vocab at 0x27afe7db0c8>,\n",
       " 'deliberately': <gensim.models.keyedvectors.Vocab at 0x27afe7db108>,\n",
       " 'probably': <gensim.models.keyedvectors.Vocab at 0x27afe7db148>,\n",
       " 'christmas': <gensim.models.keyedvectors.Vocab at 0x27afe7db188>,\n",
       " 'roast': <gensim.models.keyedvectors.Vocab at 0x27afe7db1c8>,\n",
       " 'stove': <gensim.models.keyedvectors.Vocab at 0x27afe7db208>,\n",
       " 'popcorn': <gensim.models.keyedvectors.Vocab at 0x27afe7db248>,\n",
       " 'popper': <gensim.models.keyedvectors.Vocab at 0x27afe7db288>,\n",
       " 'outside': <gensim.models.keyedvectors.Vocab at 0x27afe7db2c8>,\n",
       " 'course': <gensim.models.keyedvectors.Vocab at 0x27afe7db308>,\n",
       " 'beans': <gensim.models.keyedvectors.Vocab at 0x27afe7db348>,\n",
       " 'direct': <gensim.models.keyedvectors.Vocab at 0x27afe7db388>,\n",
       " 'mexican': <gensim.models.keyedvectors.Vocab at 0x27afe7db3c8>,\n",
       " 'altura': <gensim.models.keyedvectors.Vocab at 0x27afe7db408>,\n",
       " 'seem': <gensim.models.keyedvectors.Vocab at 0x27afe7db448>,\n",
       " 'suited': <gensim.models.keyedvectors.Vocab at 0x27afe7db488>,\n",
       " 'method': <gensim.models.keyedvectors.Vocab at 0x27afe7db4c8>,\n",
       " 'cracks': <gensim.models.keyedvectors.Vocab at 0x27afe7db508>,\n",
       " 'distinct': <gensim.models.keyedvectors.Vocab at 0x27afe7db548>,\n",
       " 'roasted': <gensim.models.keyedvectors.Vocab at 0x27afe7db588>,\n",
       " 'medium': <gensim.models.keyedvectors.Vocab at 0x27afe7db5c8>,\n",
       " 'slightly': <gensim.models.keyedvectors.Vocab at 0x27afe7db608>,\n",
       " 'results': <gensim.models.keyedvectors.Vocab at 0x27afe7db648>,\n",
       " 'aroma': <gensim.models.keyedvectors.Vocab at 0x27afe7db688>,\n",
       " 'strong': <gensim.models.keyedvectors.Vocab at 0x27afe7db6c8>,\n",
       " 'persistent': <gensim.models.keyedvectors.Vocab at 0x27afe7db708>,\n",
       " 'smooth': <gensim.models.keyedvectors.Vocab at 0x27afe7db748>,\n",
       " 'velvety': <gensim.models.keyedvectors.Vocab at 0x27afe7db788>,\n",
       " 'lively': <gensim.models.keyedvectors.Vocab at 0x27afe7db7c8>,\n",
       " 'large': <gensim.models.keyedvectors.Vocab at 0x27afe7db808>,\n",
       " 'cast': <gensim.models.keyedvectors.Vocab at 0x27afe7db848>,\n",
       " 'iron': <gensim.models.keyedvectors.Vocab at 0x27afe7db888>,\n",
       " 'pan': <gensim.models.keyedvectors.Vocab at 0x27afe7db8c8>,\n",
       " 'grill': <gensim.models.keyedvectors.Vocab at 0x27afe7db908>,\n",
       " 'smell': <gensim.models.keyedvectors.Vocab at 0x27afe7db948>,\n",
       " 'wonderful': <gensim.models.keyedvectors.Vocab at 0x27afe7db988>,\n",
       " 'importantly': <gensim.models.keyedvectors.Vocab at 0x27afe7db9c8>,\n",
       " 'bitter': <gensim.models.keyedvectors.Vocab at 0x27afe7dba08>,\n",
       " 'aftertaste': <gensim.models.keyedvectors.Vocab at 0x27afe7dba48>,\n",
       " 'numerous': <gensim.models.keyedvectors.Vocab at 0x27afe7dba88>,\n",
       " 'occasions': <gensim.models.keyedvectors.Vocab at 0x27afe7dbac8>,\n",
       " 'send': <gensim.models.keyedvectors.Vocab at 0x27afe7dbb08>,\n",
       " 'friends': <gensim.models.keyedvectors.Vocab at 0x27afe7dbb48>,\n",
       " 'awesome': <gensim.models.keyedvectors.Vocab at 0x27afe7dbb88>,\n",
       " 'halloween': <gensim.models.keyedvectors.Vocab at 0x27afe7dbbc8>,\n",
       " 'indicated': <gensim.models.keyedvectors.Vocab at 0x27afe7dbc08>,\n",
       " 'enough': <gensim.models.keyedvectors.Vocab at 0x27afe7dbc48>,\n",
       " 'satisfy': <gensim.models.keyedvectors.Vocab at 0x27afe7dbc88>,\n",
       " 'trick': <gensim.models.keyedvectors.Vocab at 0x27afe7dbcc8>,\n",
       " 'local': <gensim.models.keyedvectors.Vocab at 0x27afe7dbd08>,\n",
       " 'everything': <gensim.models.keyedvectors.Vocab at 0x27afe7dbd48>,\n",
       " 'kit': <gensim.models.keyedvectors.Vocab at 0x27afe7dbd88>,\n",
       " 'kat': <gensim.models.keyedvectors.Vocab at 0x27afe7dbdc8>,\n",
       " 'chocolates': <gensim.models.keyedvectors.Vocab at 0x27afe7dbe08>,\n",
       " 'bags': <gensim.models.keyedvectors.Vocab at 0x27afe7dbe48>,\n",
       " 'plenty': <gensim.models.keyedvectors.Vocab at 0x27afe7dbe88>,\n",
       " 'shipped': <gensim.models.keyedvectors.Vocab at 0x27afe7dbec8>,\n",
       " 'promptly': <gensim.models.keyedvectors.Vocab at 0x27afe7dbf08>,\n",
       " 'neighborhood': <gensim.models.keyedvectors.Vocab at 0x27afe7dbf48>,\n",
       " 'liked': <gensim.models.keyedvectors.Vocab at 0x27afe7dbf88>,\n",
       " 'sent': <gensim.models.keyedvectors.Vocab at 0x27afe7dbfc8>,\n",
       " 'daughters': <gensim.models.keyedvectors.Vocab at 0x27afe7df048>,\n",
       " 'class': <gensim.models.keyedvectors.Vocab at 0x27afe7df088>,\n",
       " 'share': <gensim.models.keyedvectors.Vocab at 0x27afe7df0c8>,\n",
       " 'online': <gensim.models.keyedvectors.Vocab at 0x27afe7df108>,\n",
       " 'cheaper': <gensim.models.keyedvectors.Vocab at 0x27afe7df148>,\n",
       " 'compete': <gensim.models.keyedvectors.Vocab at 0x27afe7df188>,\n",
       " 'stores': <gensim.models.keyedvectors.Vocab at 0x27afe7df1c8>,\n",
       " 'days': <gensim.models.keyedvectors.Vocab at 0x27afe7df208>,\n",
       " 'used': <gensim.models.keyedvectors.Vocab at 0x27afe7df248>,\n",
       " 'pill': <gensim.models.keyedvectors.Vocab at 0x27afe7df288>,\n",
       " 'powder': <gensim.models.keyedvectors.Vocab at 0x27afe7df2c8>,\n",
       " 'long': <gensim.models.keyedvectors.Vocab at 0x27afe7df308>,\n",
       " 'desert': <gensim.models.keyedvectors.Vocab at 0x27afe7df348>,\n",
       " 'rides': <gensim.models.keyedvectors.Vocab at 0x27afe7df388>,\n",
       " 'dirt': <gensim.models.keyedvectors.Vocab at 0x27afe7df3c8>,\n",
       " 'bike': <gensim.models.keyedvectors.Vocab at 0x27afe7df408>,\n",
       " 'heavily': <gensim.models.keyedvectors.Vocab at 0x27afe7df448>,\n",
       " 'laced': <gensim.models.keyedvectors.Vocab at 0x27afe7df488>,\n",
       " 'quite': <gensim.models.keyedvectors.Vocab at 0x27afe7df4c8>,\n",
       " 'effective': <gensim.models.keyedvectors.Vocab at 0x27afe7df508>,\n",
       " 'cramp': <gensim.models.keyedvectors.Vocab at 0x27afe7df548>,\n",
       " 'hundred': <gensim.models.keyedvectors.Vocab at 0x27afe7df588>,\n",
       " 'mile': <gensim.models.keyedvectors.Vocab at 0x27afe7df5c8>,\n",
       " 'racing': <gensim.models.keyedvectors.Vocab at 0x27afe7df608>,\n",
       " 'fizz': <gensim.models.keyedvectors.Vocab at 0x27afe7df648>,\n",
       " 'firstly': <gensim.models.keyedvectors.Vocab at 0x27afe7df688>,\n",
       " 'hammer': <gensim.models.keyedvectors.Vocab at 0x27afe7df6c8>,\n",
       " 'endurance': <gensim.models.keyedvectors.Vocab at 0x27afe7df708>,\n",
       " 'athlete': <gensim.models.keyedvectors.Vocab at 0x27afe7df748>,\n",
       " 'tablets': <gensim.models.keyedvectors.Vocab at 0x27afe7df788>,\n",
       " 'third': <gensim.models.keyedvectors.Vocab at 0x27afe7df7c8>,\n",
       " 'imagine': <gensim.models.keyedvectors.Vocab at 0x27afe7df808>,\n",
       " 'drink': <gensim.models.keyedvectors.Vocab at 0x27afe7df848>,\n",
       " 'starving': <gensim.models.keyedvectors.Vocab at 0x27afe7df888>,\n",
       " 'hydration': <gensim.models.keyedvectors.Vocab at 0x27afe7df8c8>,\n",
       " 'electrolytes': <gensim.models.keyedvectors.Vocab at 0x27afe7df908>,\n",
       " 'rather': <gensim.models.keyedvectors.Vocab at 0x27afe7df948>,\n",
       " 'salty': <gensim.models.keyedvectors.Vocab at 0x27afe7df988>,\n",
       " 'refreshing': <gensim.models.keyedvectors.Vocab at 0x27afe7df9c8>,\n",
       " 'lemon': <gensim.models.keyedvectors.Vocab at 0x27afe7dfa08>,\n",
       " 'lime': <gensim.models.keyedvectors.Vocab at 0x27afe7dfa48>,\n",
       " 'mango': <gensim.models.keyedvectors.Vocab at 0x27afe7dfa88>,\n",
       " 'drop': <gensim.models.keyedvectors.Vocab at 0x27afe7dfac8>,\n",
       " 'tablet': <gensim.models.keyedvectors.Vocab at 0x27afe7dfb08>,\n",
       " 'bottled': <gensim.models.keyedvectors.Vocab at 0x27afe7dfb48>,\n",
       " 'whenever': <gensim.models.keyedvectors.Vocab at 0x27afe7dfb88>,\n",
       " 'exercise': <gensim.models.keyedvectors.Vocab at 0x27afe7dfbc8>,\n",
       " 'chock': <gensim.models.keyedvectors.Vocab at 0x27afe7dfc08>,\n",
       " 'cannot': <gensim.models.keyedvectors.Vocab at 0x27afe7dfc48>,\n",
       " 'serves': <gensim.models.keyedvectors.Vocab at 0x27afe7dfc88>,\n",
       " 'source': <gensim.models.keyedvectors.Vocab at 0x27afe7dfcc8>,\n",
       " 'ride': <gensim.models.keyedvectors.Vocab at 0x27afe7dfd08>,\n",
       " 'grapefruit': <gensim.models.keyedvectors.Vocab at 0x27afe7dfd48>,\n",
       " 'slight': <gensim.models.keyedvectors.Vocab at 0x27afe7dfd88>,\n",
       " 'carbonation': <gensim.models.keyedvectors.Vocab at 0x27afe7dfdc8>,\n",
       " 'line': <gensim.models.keyedvectors.Vocab at 0x27afe7dfe08>,\n",
       " 'works': <gensim.models.keyedvectors.Vocab at 0x27afe7dfe48>,\n",
       " 'preventing': <gensim.models.keyedvectors.Vocab at 0x27afe7dfe88>,\n",
       " 'cramping': <gensim.models.keyedvectors.Vocab at 0x27afe7dfec8>,\n",
       " 'middle': <gensim.models.keyedvectors.Vocab at 0x27afe7dff08>,\n",
       " 'latter': <gensim.models.keyedvectors.Vocab at 0x27afe7dff48>,\n",
       " 'stages': <gensim.models.keyedvectors.Vocab at 0x27afe7dff88>,\n",
       " 'pop': <gensim.models.keyedvectors.Vocab at 0x27afe7dffc8>,\n",
       " 'set': <gensim.models.keyedvectors.Vocab at 0x27afe7e1048>,\n",
       " 'carb': <gensim.models.keyedvectors.Vocab at 0x27afe7e1088>,\n",
       " 'diet': <gensim.models.keyedvectors.Vocab at 0x27afe7e10c8>,\n",
       " 'ago': <gensim.models.keyedvectors.Vocab at 0x27afe7e1108>,\n",
       " 'started': <gensim.models.keyedvectors.Vocab at 0x27afe7e1148>,\n",
       " 'heart': <gensim.models.keyedvectors.Vocab at 0x27afe7e1188>,\n",
       " 'drinking': <gensim.models.keyedvectors.Vocab at 0x27afe7e11c8>,\n",
       " 'plain': <gensim.models.keyedvectors.Vocab at 0x27afe7e1208>,\n",
       " 'research': <gensim.models.keyedvectors.Vocab at 0x27afe7e1248>,\n",
       " 'might': <gensim.models.keyedvectors.Vocab at 0x27afe7e1288>,\n",
       " 'gatorade': <gensim.models.keyedvectors.Vocab at 0x27afe7e12c8>,\n",
       " 'option': <gensim.models.keyedvectors.Vocab at 0x27afe7e1308>,\n",
       " 'loaded': <gensim.models.keyedvectors.Vocab at 0x27afe7e1348>,\n",
       " 'carbohydrates': <gensim.models.keyedvectors.Vocab at 0x27afe7e1388>,\n",
       " 'alternative': <gensim.models.keyedvectors.Vocab at 0x27afe7e13c8>,\n",
       " 'zero': <gensim.models.keyedvectors.Vocab at 0x27afe7e1408>,\n",
       " 'sports': <gensim.models.keyedvectors.Vocab at 0x27afe7e1448>,\n",
       " 'drinks': <gensim.models.keyedvectors.Vocab at 0x27afe7e1488>,\n",
       " 'help': <gensim.models.keyedvectors.Vocab at 0x27afe7e14c8>,\n",
       " 'ran': <gensim.models.keyedvectors.Vocab at 0x27afe7e1508>,\n",
       " 'across': <gensim.models.keyedvectors.Vocab at 0x27afe7e1548>,\n",
       " 'tube': <gensim.models.keyedvectors.Vocab at 0x27afe7e1588>,\n",
       " 'voila': <gensim.models.keyedvectors.Vocab at 0x27afe7e15c8>,\n",
       " 'problem': <gensim.models.keyedvectors.Vocab at 0x27afe7e1608>,\n",
       " 'solved': <gensim.models.keyedvectors.Vocab at 0x27afe7e1648>,\n",
       " 'problems': <gensim.models.keyedvectors.Vocab at 0x27afe7e1688>,\n",
       " 'leg': <gensim.models.keyedvectors.Vocab at 0x27afe7e16c8>,\n",
       " 'cramps': <gensim.models.keyedvectors.Vocab at 0x27afe7e1708>,\n",
       " 'resolved': <gensim.models.keyedvectors.Vocab at 0x27afe7e1748>,\n",
       " 'using': <gensim.models.keyedvectors.Vocab at 0x27afe7e1788>,\n",
       " 'guys': <gensim.models.keyedvectors.Vocab at 0x27afe7e17c8>,\n",
       " 'formulated': <gensim.models.keyedvectors.Vocab at 0x27afe7e1808>,\n",
       " 'hint': <gensim.models.keyedvectors.Vocab at 0x27afe7e1848>,\n",
       " 'consuming': <gensim.models.keyedvectors.Vocab at 0x27afe7e1888>,\n",
       " 'various': <gensim.models.keyedvectors.Vocab at 0x27afe7e18c8>,\n",
       " 'nutrition': <gensim.models.keyedvectors.Vocab at 0x27afe7e1908>,\n",
       " 'decades': <gensim.models.keyedvectors.Vocab at 0x27afe7e1948>,\n",
       " 'come': <gensim.models.keyedvectors.Vocab at 0x27afe7e1988>,\n",
       " 'appealing': <gensim.models.keyedvectors.Vocab at 0x27afe7e19c8>,\n",
       " 'tasted': <gensim.models.keyedvectors.Vocab at 0x27afe7e1a08>,\n",
       " 'terrible': <gensim.models.keyedvectors.Vocab at 0x27afe7e1a48>,\n",
       " 'notice': <gensim.models.keyedvectors.Vocab at 0x27afe7e1a88>,\n",
       " 'sip': <gensim.models.keyedvectors.Vocab at 0x27afe7e1ac8>,\n",
       " 'sooooo': <gensim.models.keyedvectors.Vocab at 0x27afe7e1b08>,\n",
       " 'ate': <gensim.models.keyedvectors.Vocab at 0x27afe7e1b48>,\n",
       " 'em': <gensim.models.keyedvectors.Vocab at 0x27afe7e1b88>,\n",
       " 'gained': <gensim.models.keyedvectors.Vocab at 0x27afe7e1bc8>,\n",
       " 'fault': <gensim.models.keyedvectors.Vocab at 0x27afe7e1c08>,\n",
       " 'gummi': <gensim.models.keyedvectors.Vocab at 0x27afe7e1c48>,\n",
       " 'bears': <gensim.models.keyedvectors.Vocab at 0x27afe7e1c88>,\n",
       " 'rings': <gensim.models.keyedvectors.Vocab at 0x27afe7e1cc8>,\n",
       " 'faces': <gensim.models.keyedvectors.Vocab at 0x27afe7e1d08>,\n",
       " 'type': <gensim.models.keyedvectors.Vocab at 0x27afe7e1d48>,\n",
       " 'balls': <gensim.models.keyedvectors.Vocab at 0x27afe7e1d88>,\n",
       " 'worms': <gensim.models.keyedvectors.Vocab at 0x27afe7e1dc8>,\n",
       " 'whatever': <gensim.models.keyedvectors.Vocab at 0x27afe7e1e08>,\n",
       " 'twin': <gensim.models.keyedvectors.Vocab at 0x27afe7e1e48>,\n",
       " 'screaming': <gensim.models.keyedvectors.Vocab at 0x27afe7e1e88>,\n",
       " 'far': <gensim.models.keyedvectors.Vocab at 0x27afe7e1ec8>,\n",
       " 'concerned': <gensim.models.keyedvectors.Vocab at 0x27afe7e1f08>,\n",
       " 'deep': <gensim.models.keyedvectors.Vocab at 0x27afe7e1f48>,\n",
       " 'things': <gensim.models.keyedvectors.Vocab at 0x27afe7e1f88>,\n",
       " 'consumed': <gensim.models.keyedvectors.Vocab at 0x27afe7e1fc8>,\n",
       " 'gummy': <gensim.models.keyedvectors.Vocab at 0x27afe7e5048>,\n",
       " 'area': <gensim.models.keyedvectors.Vocab at 0x27afe7e5088>,\n",
       " 'talk': <gensim.models.keyedvectors.Vocab at 0x27afe7e50c8>,\n",
       " 'think': <gensim.models.keyedvectors.Vocab at 0x27afe7e5108>,\n",
       " 'lying': <gensim.models.keyedvectors.Vocab at 0x27afe7e5148>,\n",
       " 'bigger': <gensim.models.keyedvectors.Vocab at 0x27afe7e5188>,\n",
       " 'sour': <gensim.models.keyedvectors.Vocab at 0x27afe7e51c8>,\n",
       " 'kick': <gensim.models.keyedvectors.Vocab at 0x27afe7e5208>,\n",
       " 'nothing': <gensim.models.keyedvectors.Vocab at 0x27afe7e5248>,\n",
       " 'another': <gensim.models.keyedvectors.Vocab at 0x27afe7e5288>,\n",
       " 'opinion': <gensim.models.keyedvectors.Vocab at 0x27afe7e52c8>,\n",
       " 'salt': <gensim.models.keyedvectors.Vocab at 0x27afe7e5308>,\n",
       " 'softer': <gensim.models.keyedvectors.Vocab at 0x27afe7e5348>,\n",
       " 'frozen': <gensim.models.keyedvectors.Vocab at 0x27afe7e5388>,\n",
       " 'tarts': <gensim.models.keyedvectors.Vocab at 0x27afe7e53c8>,\n",
       " 'directly': <gensim.models.keyedvectors.Vocab at 0x27afe7e5408>,\n",
       " 'website': <gensim.models.keyedvectors.Vocab at 0x27afe7e5448>,\n",
       " 'dinner': <gensim.models.keyedvectors.Vocab at 0x27afe7e5488>,\n",
       " 'intact': <gensim.models.keyedvectors.Vocab at 0x27afe7e54c8>,\n",
       " 'froze': <gensim.models.keyedvectors.Vocab at 0x27afe7e5508>,\n",
       " 'later': <gensim.models.keyedvectors.Vocab at 0x27afe7e5548>,\n",
       " 'pastry': <gensim.models.keyedvectors.Vocab at 0x27afe7e5588>,\n",
       " 'jam': <gensim.models.keyedvectors.Vocab at 0x27afe7e55c8>,\n",
       " 'gone': <gensim.models.keyedvectors.Vocab at 0x27afe7e5608>,\n",
       " 'guests': <gensim.models.keyedvectors.Vocab at 0x27afe7e5648>,\n",
       " 'beware': <gensim.models.keyedvectors.Vocab at 0x27afe7e5688>,\n",
       " 'please': <gensim.models.keyedvectors.Vocab at 0x27afe7e56c8>,\n",
       " 'sweetener': <gensim.models.keyedvectors.Vocab at 0x27afe7e5708>,\n",
       " 'everybody': <gensim.models.keyedvectors.Vocab at 0x27afe7e5748>,\n",
       " 'maltitol': <gensim.models.keyedvectors.Vocab at 0x27afe7e5788>,\n",
       " 'alcohol': <gensim.models.keyedvectors.Vocab at 0x27afe7e57c8>,\n",
       " 'short': <gensim.models.keyedvectors.Vocab at 0x27afe7e5808>,\n",
       " 'digest': <gensim.models.keyedvectors.Vocab at 0x27afe7e5848>,\n",
       " 'intestinal': <gensim.models.keyedvectors.Vocab at 0x27afe7e5888>,\n",
       " 'bloating': <gensim.models.keyedvectors.Vocab at 0x27afe7e58c8>,\n",
       " 'massive': <gensim.models.keyedvectors.Vocab at 0x27afe7e5908>,\n",
       " 'gas': <gensim.models.keyedvectors.Vocab at 0x27afe7e5948>,\n",
       " 'nausea': <gensim.models.keyedvectors.Vocab at 0x27afe7e5988>,\n",
       " 'diarrhea': <gensim.models.keyedvectors.Vocab at 0x27afe7e59c8>,\n",
       " 'headaches': <gensim.models.keyedvectors.Vocab at 0x27afe7e5a08>,\n",
       " 'experienced': <gensim.models.keyedvectors.Vocab at 0x27afe7e5a48>,\n",
       " 'learned': <gensim.models.keyedvectors.Vocab at 0x27afe7e5a88>,\n",
       " 'lesson': <gensim.models.keyedvectors.Vocab at 0x27afe7e5ac8>,\n",
       " 'fell': <gensim.models.keyedvectors.Vocab at 0x27afe7e5b08>,\n",
       " 'nirvana': <gensim.models.keyedvectors.Vocab at 0x27afe7e5b48>,\n",
       " 'bliss': <gensim.models.keyedvectors.Vocab at 0x27afe7e5b88>,\n",
       " 'side': <gensim.models.keyedvectors.Vocab at 0x27afe7e5bc8>,\n",
       " 'effects': <gensim.models.keyedvectors.Vocab at 0x27afe7e5c08>,\n",
       " 'kicked': <gensim.models.keyedvectors.Vocab at 0x27afe7e5c48>,\n",
       " 'discomfort': <gensim.models.keyedvectors.Vocab at 0x27afe7e5c88>,\n",
       " 'unlike': <gensim.models.keyedvectors.Vocab at 0x27afe7e5cc8>,\n",
       " 'felt': <gensim.models.keyedvectors.Vocab at 0x27afe7e5d08>,\n",
       " 'blew': <gensim.models.keyedvectors.Vocab at 0x27afe7e5d48>,\n",
       " 'painful': <gensim.models.keyedvectors.Vocab at 0x27afe7e5d88>,\n",
       " 'abdominal': <gensim.models.keyedvectors.Vocab at 0x27afe7e5dc8>,\n",
       " 'symptoms': <gensim.models.keyedvectors.Vocab at 0x27afe7e5e08>,\n",
       " 'passed': <gensim.models.keyedvectors.Vocab at 0x27afe7e5e48>,\n",
       " 'unpleasant': <gensim.models.keyedvectors.Vocab at 0x27afe7e5e88>,\n",
       " 'calorie': <gensim.models.keyedvectors.Vocab at 0x27afe7e5ec8>,\n",
       " 'culprit': <gensim.models.keyedvectors.Vocab at 0x27afe7e5f08>,\n",
       " 'stopped': <gensim.models.keyedvectors.Vocab at 0x27afe7e5f48>,\n",
       " 'confirmed': <gensim.models.keyedvectors.Vocab at 0x27afe7e5f88>,\n",
       " 'year': <gensim.models.keyedvectors.Vocab at 0x27afe7e5fc8>,\n",
       " 'market': <gensim.models.keyedvectors.Vocab at 0x27afe7e9048>,\n",
       " 'label': <gensim.models.keyedvectors.Vocab at 0x27afe7e9088>,\n",
       " 'wondering': <gensim.models.keyedvectors.Vocab at 0x27afe7e90c8>,\n",
       " 'possibly': <gensim.models.keyedvectors.Vocab at 0x27afe7e9108>,\n",
       " 'sugarfree': <gensim.models.keyedvectors.Vocab at 0x27afe7e9148>,\n",
       " 'next': <gensim.models.keyedvectors.Vocab at 0x27afe7e9188>,\n",
       " 'bottom': <gensim.models.keyedvectors.Vocab at 0x27afe7e91c8>,\n",
       " 'read': <gensim.models.keyedvectors.Vocab at 0x27afe7e9208>,\n",
       " 'letters': <gensim.models.keyedvectors.Vocab at 0x27afe7e9248>,\n",
       " ...}"
      ]
     },
     "execution_count": 36,
     "metadata": {},
     "output_type": "execute_result"
    }
   ],
   "source": [
    "w2v_words"
   ]
  },
  {
   "cell_type": "code",
   "execution_count": 41,
   "metadata": {},
   "outputs": [
    {
     "name": "stderr",
     "output_type": "stream",
     "text": [
      "100%|██████████████████████████████████████████████████████████████████████████| 22661/22661 [00:02<00:00, 9708.14it/s]\n",
      "100%|███████████████████████████████████████████████████████████████████████████| 7554/7554 [00:00<00:00, 10222.16it/s]\n"
     ]
    }
   ],
   "source": [
    "review_train_w2v=avg_w2v(reviews_train)\n",
    "#review_valid_w2v=avg_w2v(reviews_valid)\n",
    "review_test_w2v=avg_w2v(reviews_test)"
   ]
  },
  {
   "cell_type": "code",
   "execution_count": 42,
   "metadata": {},
   "outputs": [
    {
     "data": {
      "text/plain": [
       "(22661, 7554)"
      ]
     },
     "execution_count": 42,
     "metadata": {},
     "output_type": "execute_result"
    }
   ],
   "source": [
    "len(review_train_w2v),  len(review_test_w2v)"
   ]
  },
  {
   "cell_type": "code",
   "execution_count": 47,
   "metadata": {},
   "outputs": [],
   "source": [
    "train_w2v=pd.DataFrame({'test':review_train_w2v,'sentiment':sentiment_train})\n",
    "train_w2v=pd.DataFrame({'test':review_train_w2v,'sentiment':sentiment_train})\n",
    "train_w2v=pd.DataFrame({'test':review_train_w2v,'sentiment':sentiment_train})\n"
   ]
  },
  {
   "cell_type": "code",
   "execution_count": 51,
   "metadata": {},
   "outputs": [],
   "source": [
    "import pickle\n",
    "pickle.dump(w2v_model.wv,(open('w2v.pkl','wb')))"
   ]
  },
  {
   "cell_type": "code",
   "execution_count": 55,
   "metadata": {},
   "outputs": [],
   "source": [
    "w2=pickle.load(open('w2v.pkl','rb'))"
   ]
  },
  {
   "cell_type": "code",
   "execution_count": 58,
   "metadata": {},
   "outputs": [
    {
     "data": {
      "text/plain": [
       "<bound method Word2VecKeyedVectors.load_word2vec_format of <class 'gensim.models.keyedvectors.Word2VecKeyedVectors'>>"
      ]
     },
     "execution_count": 58,
     "metadata": {},
     "output_type": "execute_result"
    }
   ],
   "source": [
    "w2."
   ]
  },
  {
   "cell_type": "code",
   "execution_count": 48,
   "metadata": {},
   "outputs": [
    {
     "name": "stderr",
     "output_type": "stream",
     "text": [
      "100%|██████████████████████████████████████████████████████████████████████████| 30215/30215 [00:03<00:00, 8873.10it/s]\n"
     ]
    }
   ],
   "source": [
    "cleaned_data=avg_w2v(pre_processed_reviews)"
   ]
  },
  {
   "cell_type": "code",
   "execution_count": 49,
   "metadata": {},
   "outputs": [],
   "source": [
    "cleaned_data_w2v=pd.DataFrame({'reviews':cleaned_data,'sentiment':preporcessed_data['Sentiment']})"
   ]
  },
  {
   "cell_type": "code",
   "execution_count": 50,
   "metadata": {},
   "outputs": [
    {
     "data": {
      "text/html": [
       "<div>\n",
       "<style scoped>\n",
       "    .dataframe tbody tr th:only-of-type {\n",
       "        vertical-align: middle;\n",
       "    }\n",
       "\n",
       "    .dataframe tbody tr th {\n",
       "        vertical-align: top;\n",
       "    }\n",
       "\n",
       "    .dataframe thead th {\n",
       "        text-align: right;\n",
       "    }\n",
       "</style>\n",
       "<table border=\"1\" class=\"dataframe\">\n",
       "  <thead>\n",
       "    <tr style=\"text-align: right;\">\n",
       "      <th></th>\n",
       "      <th>reviews</th>\n",
       "      <th>sentiment</th>\n",
       "    </tr>\n",
       "  </thead>\n",
       "  <tbody>\n",
       "    <tr>\n",
       "      <td>0</td>\n",
       "      <td>[0.3193761995467155, 0.06168496276697387, 0.40...</td>\n",
       "      <td>1.0</td>\n",
       "    </tr>\n",
       "    <tr>\n",
       "      <td>1</td>\n",
       "      <td>[-0.003723637249908949, 0.0564720313015737, 0....</td>\n",
       "      <td>0.0</td>\n",
       "    </tr>\n",
       "    <tr>\n",
       "      <td>2</td>\n",
       "      <td>[0.36857374659074205, 0.2421747285872698, -0.0...</td>\n",
       "      <td>1.0</td>\n",
       "    </tr>\n",
       "    <tr>\n",
       "      <td>3</td>\n",
       "      <td>[0.8247355166822672, 0.3909959378926193, 0.233...</td>\n",
       "      <td>0.0</td>\n",
       "    </tr>\n",
       "    <tr>\n",
       "      <td>4</td>\n",
       "      <td>[0.32465053636294144, 0.05416563189087006, 0.7...</td>\n",
       "      <td>1.0</td>\n",
       "    </tr>\n",
       "  </tbody>\n",
       "</table>\n",
       "</div>"
      ],
      "text/plain": [
       "                                             reviews  sentiment\n",
       "0  [0.3193761995467155, 0.06168496276697387, 0.40...        1.0\n",
       "1  [-0.003723637249908949, 0.0564720313015737, 0....        0.0\n",
       "2  [0.36857374659074205, 0.2421747285872698, -0.0...        1.0\n",
       "3  [0.8247355166822672, 0.3909959378926193, 0.233...        0.0\n",
       "4  [0.32465053636294144, 0.05416563189087006, 0.7...        1.0"
      ]
     },
     "execution_count": 50,
     "metadata": {},
     "output_type": "execute_result"
    }
   ],
   "source": [
    "cleaned_data_w2v.head()"
   ]
  },
  {
   "cell_type": "code",
   "execution_count": 51,
   "metadata": {},
   "outputs": [],
   "source": [
    "#cleaned_data_w2v.to_csv('cleaned_data.csv')"
   ]
  },
  {
   "cell_type": "code",
   "execution_count": 52,
   "metadata": {},
   "outputs": [
    {
     "data": {
      "text/plain": [
       "array([ 0.26772818, -0.20688301,  0.23760161, -0.69734184, -0.37124857,\n",
       "       -0.37838179,  0.43133286,  0.2577066 ,  0.3622393 ,  0.02288228,\n",
       "        0.11915935, -0.85624746,  0.93961431, -0.02447382,  0.26294741,\n",
       "       -0.0064035 , -0.82529307,  0.40406981,  1.43209739,  0.17831561,\n",
       "       -0.46708535,  0.03696232, -0.52099738, -0.19553984,  0.29786816,\n",
       "       -0.76581931, -0.58133178,  0.56427324,  0.60681393,  0.69724266,\n",
       "        0.64067366,  0.67364454, -0.08519701,  0.63054077, -0.41061876,\n",
       "        0.26000822,  0.99506901, -0.19316991,  0.08023337, -0.0874847 ,\n",
       "        0.1635774 , -0.71005504,  0.49818505, -0.57325272,  0.4079247 ,\n",
       "        1.25691801,  0.49990119, -0.03144827, -0.00370069, -0.14391693])"
      ]
     },
     "execution_count": 52,
     "metadata": {},
     "output_type": "execute_result"
    }
   ],
   "source": [
    "review_train_w2v[1]"
   ]
  },
  {
   "cell_type": "markdown",
   "metadata": {},
   "source": [
    "## 1.  KNN"
   ]
  },
  {
   "cell_type": "code",
   "execution_count": 151,
   "metadata": {},
   "outputs": [
    {
     "name": "stderr",
     "output_type": "stream",
     "text": [
      "C:\\Users\\shari\\Anaconda3\\lib\\site-packages\\sklearn\\model_selection\\_split.py:1978: FutureWarning: The default value of cv will change from 3 to 5 in version 0.22. Specify it explicitly to silence this warning.\n",
      "  warnings.warn(CV_WARNING, FutureWarning)\n"
     ]
    },
    {
     "data": {
      "text/plain": [
       "RandomizedSearchCV(cv='warn', error_score='raise-deprecating',\n",
       "                   estimator=KNeighborsClassifier(algorithm='auto',\n",
       "                                                  leaf_size=30,\n",
       "                                                  metric='minkowski',\n",
       "                                                  metric_params=None,\n",
       "                                                  n_jobs=None, n_neighbors=5,\n",
       "                                                  p=2, weights='uniform'),\n",
       "                   iid='warn', n_iter=10, n_jobs=None,\n",
       "                   param_distributions={'n_neighbors': [1, 3, 5, 7, 9, 11, 13,\n",
       "                                                        15, 17, 19, 21, 23, 25,\n",
       "                                                        27, 29]},\n",
       "                   pre_dispatch='2*n_jobs', random_state=None, refit=True,\n",
       "                   return_train_score=False, scoring='roc_auc', verbose=0)"
      ]
     },
     "execution_count": 151,
     "metadata": {},
     "output_type": "execute_result"
    }
   ],
   "source": [
    "from sklearn.neighbors import KNeighborsClassifier\n",
    "#from sklearn.metrics import \n",
    "import pandas as pd\n",
    "import numpy as np\n",
    "import matplotlib.pyplot as plt\n",
    "from sklearn.model_selection import train_test_split,GridSearchCV,RandomizedSearchCV\n",
    "\n",
    "\n",
    "#lets start our KNN model\n",
    "params={'n_neighbors':[i for i in range(1,30,2)],\n",
    "                   }\n",
    "knn_classifier=KNeighborsClassifier()\n",
    "\n",
    "rndm_clf=RandomizedSearchCV(knn_classifier,params,scoring='roc_auc')\n",
    "rndm_clf.fit(reviews_train_tfidf,sentiment_train)\n"
   ]
  },
  {
   "cell_type": "code",
   "execution_count": 152,
   "metadata": {},
   "outputs": [
    {
     "data": {
      "text/plain": [
       "KNeighborsClassifier(algorithm='auto', leaf_size=30, metric='minkowski',\n",
       "                     metric_params=None, n_jobs=None, n_neighbors=29, p=2,\n",
       "                     weights='uniform')"
      ]
     },
     "execution_count": 152,
     "metadata": {},
     "output_type": "execute_result"
    }
   ],
   "source": [
    "best_params=rndm_clf.best_estimator_\n",
    "best_params"
   ]
  },
  {
   "cell_type": "code",
   "execution_count": 153,
   "metadata": {},
   "outputs": [],
   "source": [
    "from sklearn.metrics import roc_curve,auc"
   ]
  },
  {
   "cell_type": "code",
   "execution_count": 154,
   "metadata": {},
   "outputs": [
    {
     "data": {
      "text/plain": [
       "<matplotlib.legend.Legend at 0x1ae8f90ea48>"
      ]
     },
     "execution_count": 154,
     "metadata": {},
     "output_type": "execute_result"
    },
    {
     "data": {
      "image/png": "[encoded data removed]",
      "text/plain": [
       "<Figure size 432x288 with 1 Axes>"
      ]
     },
     "metadata": {
      "needs_background": "light"
     },
     "output_type": "display_data"
    }
   ],
   "source": [
    "neighbor=29\n",
    "knn_model=KNeighborsClassifier(neighbor,)\n",
    "knn_model.fit(reviews_train_tfidf,sentiment_train)\n",
    "train_fpr,train_tpr,threshold=roc_curve(sentiment_train,knn_model.predict_proba(reviews_train_tfidf)[:,1])\n",
    "test_fpr,test_tpr,threshold=roc_curve(sentiment_test,knn_model.predict_proba(reviews_test_tfidf)[:,1])\n",
    "plt.plot(train_fpr,train_tpr,label=\" Train AUC = \"+str(auc(train_fpr,train_tpr)))\n",
    "plt.plot(test_fpr,test_tpr,label=\" Test AUC = \"+str(auc(test_fpr,test_tpr)))\n",
    "plt.legend()"
   ]
  },
  {
   "cell_type": "code",
   "execution_count": 155,
   "metadata": {},
   "outputs": [
    {
     "data": {
      "text/plain": [
       "<matplotlib.axes._subplots.AxesSubplot at 0x1ae8fd79948>"
      ]
     },
     "execution_count": 155,
     "metadata": {},
     "output_type": "execute_result"
    },
    {
     "data": {
      "image/png": "[encoded data removed]",
      "text/plain": [
       "<Figure size 432x288 with 2 Axes>"
      ]
     },
     "metadata": {
      "needs_background": "light"
     },
     "output_type": "display_data"
    }
   ],
   "source": [
    "from scikitplot.metrics import plot_confusion_matrix\n",
    "plot_confusion_matrix(sentiment_train,knn_model.predict(reviews_train_tfidf))"
   ]
  },
  {
   "cell_type": "code",
   "execution_count": 156,
   "metadata": {},
   "outputs": [
    {
     "data": {
      "image/png": "[encoded data removed]",
      "text/plain": [
       "<Figure size 432x288 with 2 Axes>"
      ]
     },
     "metadata": {
      "needs_background": "light"
     },
     "output_type": "display_data"
    }
   ],
   "source": [
    "plot_confusion_matrix(sentiment_test,knn_model.predict(reviews_test_tfidf))\n",
    "plt.show()"
   ]
  },
  {
   "cell_type": "code",
   "execution_count": 164,
   "metadata": {},
   "outputs": [],
   "source": [
    "from sklearn.metrics import precision_score,recall_score,f1_score"
   ]
  },
  {
   "cell_type": "code",
   "execution_count": 166,
   "metadata": {},
   "outputs": [
    {
     "data": {
      "text/plain": [
       "0.8400182315405652"
      ]
     },
     "execution_count": 166,
     "metadata": {},
     "output_type": "execute_result"
    }
   ],
   "source": [
    "precision_score(sentiment_test,knn_model.predict(reviews_test_tfidf))"
   ]
  },
  {
   "cell_type": "code",
   "execution_count": 167,
   "metadata": {},
   "outputs": [
    {
     "data": {
      "text/plain": [
       "1.0"
      ]
     },
     "execution_count": 167,
     "metadata": {},
     "output_type": "execute_result"
    }
   ],
   "source": [
    "recall_score(sentiment_test,knn_model.predict(reviews_test_tfidf))"
   ]
  },
  {
   "cell_type": "code",
   "execution_count": 168,
   "metadata": {},
   "outputs": [
    {
     "data": {
      "text/plain": [
       "0.9130542482041121"
      ]
     },
     "execution_count": 168,
     "metadata": {},
     "output_type": "execute_result"
    }
   ],
   "source": [
    "knn_f1_score=f1_score(sentiment_test,knn_model.predict(reviews_test_tfidf))\n",
    "knn_f1_score"
   ]
  },
  {
   "cell_type": "markdown",
   "metadata": {},
   "source": [
    "### Observation"
   ]
  },
  {
   "cell_type": "markdown",
   "metadata": {},
   "source": [
    "1. "
   ]
  },
  {
   "cell_type": "markdown",
   "metadata": {},
   "source": [
    "## Logistic Regression"
   ]
  },
  {
   "cell_type": "code",
   "execution_count": 157,
   "metadata": {},
   "outputs": [],
   "source": [
    "from sklearn.linear_model import LogisticRegression\n",
    "import warnings\n",
    "warnings.simplefilter('ignore')"
   ]
  },
  {
   "cell_type": "code",
   "execution_count": 95,
   "metadata": {},
   "outputs": [
    {
     "data": {
      "text/plain": [
       "RandomizedSearchCV(cv='warn', error_score='raise-deprecating',\n",
       "                   estimator=LogisticRegression(C=1.0, class_weight=None,\n",
       "                                                dual=False, fit_intercept=True,\n",
       "                                                intercept_scaling=1,\n",
       "                                                l1_ratio=None, max_iter=100,\n",
       "                                                multi_class='warn', n_jobs=None,\n",
       "                                                penalty='l2', random_state=None,\n",
       "                                                solver='warn', tol=0.0001,\n",
       "                                                verbose=0, warm_start=False),\n",
       "                   iid='warn', n_iter=10, n_jobs=None,\n",
       "                   param_distributions={'C': [0.0001, 0.001, 0.01, 0.1, 1, 10,\n",
       "                                              100, 1000],\n",
       "                                        'penalty': ['l1', 'l2']},\n",
       "                   pre_dispatch='2*n_jobs', random_state=None, refit=True,\n",
       "                   return_train_score=False, scoring=None, verbose=0)"
      ]
     },
     "execution_count": 95,
     "metadata": {},
     "output_type": "execute_result"
    }
   ],
   "source": [
    "lr_params={'penalty':['l1','l2'],\n",
    "        'C':[10**i for i in range(-4,4)]}\n",
    "    \n",
    "logistic_model=LogisticRegression()\n",
    "rndm_clf=RandomizedSearchCV(logistic_model,lr_params)\n",
    "rndm_clf.fit(review_train_w2v,sentiment_train)"
   ]
  },
  {
   "cell_type": "code",
   "execution_count": 96,
   "metadata": {},
   "outputs": [
    {
     "data": {
      "text/plain": [
       "{'penalty': 'l1', 'C': 1}"
      ]
     },
     "execution_count": 96,
     "metadata": {},
     "output_type": "execute_result"
    }
   ],
   "source": [
    "rndm_clf.best_params_"
   ]
  },
  {
   "cell_type": "code",
   "execution_count": 515,
   "metadata": {},
   "outputs": [
    {
     "data": {
      "image/png": "[encoded data removed]",
      "text/plain": [
       "<Figure size 432x288 with 1 Axes>"
      ]
     },
     "metadata": {
      "needs_background": "light"
     },
     "output_type": "display_data"
    }
   ],
   "source": [
    "lr_model=LogisticRegression(penalty='l1',C=1)\n",
    "lr_model.fit(reviews_train_tfidf,sentiment_train)\n",
    "train_fpr,train_tpr,threshold=roc_curve(sentiment_train,lr_model.predict_proba(reviews_train_tfidf)[:,1])\n",
    "test_fpr,test_tpr,threshold=roc_curve(sentiment_test,lr_model.predict_proba(reviews_test_tfidf)[:,1])\n",
    "plt.plot(train_fpr,train_tpr,label='Train Auc = '+str(auc(train_fpr,train_tpr)))\n",
    "plt.plot(test_fpr,test_tpr,label='Test AUC = '+str(auc(test_fpr,test_tpr)))\n",
    "plt.legend()\n",
    "plt.title(\"Roc Curves\")\n",
    "plt.show()"
   ]
  },
  {
   "cell_type": "code",
   "execution_count": 514,
   "metadata": {},
   "outputs": [
    {
     "data": {
      "image/png": "[encoded data removed]",
      "text/plain": [
       "<Figure size 432x288 with 2 Axes>"
      ]
     },
     "metadata": {
      "needs_background": "light"
     },
     "output_type": "display_data"
    },
    {
     "data": {
      "image/png": "[encoded data removed]",
      "text/plain": [
       "<Figure size 432x288 with 2 Axes>"
      ]
     },
     "metadata": {
      "needs_background": "light"
     },
     "output_type": "display_data"
    }
   ],
   "source": [
    "\n",
    "plot_confusion_matrix(sentiment_train,lr_model.predict(reviews_train_tfidf))\n",
    "plot_confusion_matrix(sentiment_test,lr_model.predict(reviews_test_tfidf))\n",
    "plt.tight_layout()\n",
    "plt.ylim([1.5, -.5])\n",
    "plt.show()"
   ]
  },
  {
   "cell_type": "code",
   "execution_count": 172,
   "metadata": {},
   "outputs": [
    {
     "name": "stdout",
     "output_type": "stream",
     "text": [
      "precision : 0.9217317487266553\n",
      "Recall : 0.9819135467534816\n",
      "Logistic regression f1_Score: 0.9508713547596113\n"
     ]
    }
   ],
   "source": [
    "lr_f1_score=f1_score(sentiment_test,lr_model.predict(reviews_test_tfidf))\n",
    "print('precision :' ,precision_score(sentiment_test,lr_model.predict(reviews_test_tfidf)))\n",
    "print('Recall :' ,recall_score(sentiment_test,lr_model.predict(reviews_test_tfidf)))\n",
    "print('Logistic regression f1_Score:',lr_f1_score)"
   ]
  },
  {
   "cell_type": "markdown",
   "metadata": {},
   "source": [
    "### Observation:"
   ]
  },
  {
   "cell_type": "markdown",
   "metadata": {},
   "source": [
    "1. "
   ]
  },
  {
   "cell_type": "markdown",
   "metadata": {},
   "source": [
    "## SVM"
   ]
  },
  {
   "cell_type": "code",
   "execution_count": 174,
   "metadata": {},
   "outputs": [],
   "source": [
    "from sklearn.svm import LinearSVC\n",
    "from sklearn.linear_model  import SGDClassifier\n",
    "svc_params={'penalty':['l1','l2'],\n",
    "        'C':[10**i for i in range(-4,4)]}\n",
    "sgd_params={'penalty':['l1','l2'],\n",
    "        'alpha':[10**i for i in range(-4,4)]}\n",
    "svc_model=LinearSVC(dual=False)\n",
    "sgd_svm=SGDClassifier()"
   ]
  },
  {
   "cell_type": "code",
   "execution_count": 134,
   "metadata": {},
   "outputs": [
    {
     "data": {
      "text/plain": [
       "RandomizedSearchCV(cv='warn', error_score='raise-deprecating',\n",
       "                   estimator=LinearSVC(C=1.0, class_weight=None, dual=False,\n",
       "                                       fit_intercept=True, intercept_scaling=1,\n",
       "                                       loss='squared_hinge', max_iter=1000,\n",
       "                                       multi_class='ovr', penalty='l2',\n",
       "                                       random_state=None, tol=0.0001,\n",
       "                                       verbose=0),\n",
       "                   iid='warn', n_iter=10, n_jobs=None,\n",
       "                   param_distributions={'C': [0.0001, 0.001, 0.01, 0.1, 1, 10,\n",
       "                                              100, 1000],\n",
       "                                        'penalty': ['l1', 'l2']},\n",
       "                   pre_dispatch='2*n_jobs', random_state=None, refit=True,\n",
       "                   return_train_score=False, scoring=None, verbose=0)"
      ]
     },
     "execution_count": 134,
     "metadata": {},
     "output_type": "execute_result"
    }
   ],
   "source": [
    "rndm_clf=RandomizedSearchCV(svc_model,svc_params)\n",
    "rndm_clf.fit(review_train_w2v,sentiment_train)"
   ]
  },
  {
   "cell_type": "code",
   "execution_count": 135,
   "metadata": {},
   "outputs": [
    {
     "data": {
      "text/plain": [
       "LinearSVC(C=1, class_weight=None, dual=False, fit_intercept=True,\n",
       "          intercept_scaling=1, loss='squared_hinge', max_iter=1000,\n",
       "          multi_class='ovr', penalty='l1', random_state=None, tol=0.0001,\n",
       "          verbose=0)"
      ]
     },
     "execution_count": 135,
     "metadata": {},
     "output_type": "execute_result"
    }
   ],
   "source": [
    "rndm_clf.best_estimator_"
   ]
  },
  {
   "cell_type": "code",
   "execution_count": 136,
   "metadata": {},
   "outputs": [
    {
     "data": {
      "text/plain": [
       "SGDClassifier(alpha=0.001, average=False, class_weight=None,\n",
       "              early_stopping=False, epsilon=0.1, eta0=0.0, fit_intercept=True,\n",
       "              l1_ratio=0.15, learning_rate='optimal', loss='hinge',\n",
       "              max_iter=1000, n_iter_no_change=5, n_jobs=None, penalty='l2',\n",
       "              power_t=0.5, random_state=None, shuffle=True, tol=0.001,\n",
       "              validation_fraction=0.1, verbose=0, warm_start=False)"
      ]
     },
     "execution_count": 136,
     "metadata": {},
     "output_type": "execute_result"
    }
   ],
   "source": [
    "rnd_clf=RandomizedSearchCV(sgd_svm,sgd_params,scoring='roc_auc')\n",
    "rnd_clf.fit(review_train_w2v,sentiment_train)\n",
    "rnd_clf.best_estimator_"
   ]
  },
  {
   "cell_type": "code",
   "execution_count": 176,
   "metadata": {},
   "outputs": [],
   "source": [
    "from sklearn.calibration import CalibratedClassifierCV"
   ]
  },
  {
   "cell_type": "code",
   "execution_count": 177,
   "metadata": {},
   "outputs": [
    {
     "data": {
      "image/png": "[encoded data removed]",
      "text/plain": [
       "<Figure size 432x288 with 1 Axes>"
      ]
     },
     "metadata": {
      "needs_background": "light"
     },
     "output_type": "display_data"
    }
   ],
   "source": [
    "#reglar svm\n",
    "svm_model=LinearSVC(penalty='l1',C=1,dual=False)\n",
    "cal_clf=CalibratedClassifierCV(svm_model,cv=5)\n",
    "cal_clf.fit(reviews_train_tfidf,sentiment_train)\n",
    "train_fpr,train_tpr,thresh=roc_curve(sentiment_train,cal_clf.predict_proba(reviews_train_tfidf)[:,1])\n",
    "test_fpr,test_tpr,thresh=roc_curve(sentiment_test,cal_clf.predict_proba(reviews_test_tfidf)[:,1])\n",
    "plt.plot(train_fpr,train_tpr,label=\"Train AUC = \"+str(auc(train_fpr,train_tpr)))\n",
    "plt.plot(test_fpr,test_tpr,label='test AUC = '+str(auc(test_fpr,test_tpr)))\n",
    "plt.legend()\n",
    "plt.show()"
   ]
  },
  {
   "cell_type": "code",
   "execution_count": 179,
   "metadata": {},
   "outputs": [
    {
     "data": {
      "image/png": "[encoded data removed]",
      "text/plain": [
       "<Figure size 432x288 with 1 Axes>"
      ]
     },
     "metadata": {
      "needs_background": "light"
     },
     "output_type": "display_data"
    }
   ],
   "source": [
    "#svm with SGD\n",
    "sgd_svm_model=SGDClassifier(penalty='l2',alpha=0.001)\n",
    "cal_clf1=CalibratedClassifierCV(sgd_svm_model,cv=5)\n",
    "cal_clf1.fit(reviews_train_tfidf,sentiment_train)\n",
    "train_fpr,train_tpr,thresh=roc_curve(sentiment_train,cal_clf1.predict_proba(reviews_train_tfidf)[:,1])\n",
    "test_fpr,test_tpr,thresh=roc_curve(sentiment_test,cal_clf1.predict_proba(reviews_test_tfidf)[:,1])\n",
    "plt.plot(train_fpr,train_tpr,label=\"Train AUC = \"+str(auc(train_fpr,train_tpr)))\n",
    "plt.plot(test_fpr,test_tpr,label='test AUC = '+str(auc(test_fpr,test_tpr)))\n",
    "plt.legend()\n",
    "plt.show()"
   ]
  },
  {
   "cell_type": "code",
   "execution_count": 180,
   "metadata": {},
   "outputs": [
    {
     "data": {
      "text/plain": [
       "<matplotlib.axes._subplots.AxesSubplot at 0x1ae90421548>"
      ]
     },
     "execution_count": 180,
     "metadata": {},
     "output_type": "execute_result"
    },
    {
     "data": {
      "image/png": "[encoded data removed]",
      "text/plain": [
       "<Figure size 432x288 with 2 Axes>"
      ]
     },
     "metadata": {
      "needs_background": "light"
     },
     "output_type": "display_data"
    },
    {
     "data": {
      "image/png": "[encoded data removed]",
      "text/plain": [
       "<Figure size 432x288 with 2 Axes>"
      ]
     },
     "metadata": {
      "needs_background": "light"
     },
     "output_type": "display_data"
    }
   ],
   "source": [
    "plot_confusion_matrix(sentiment_train,cal_clf.predict(reviews_train_tfidf))\n",
    "plot_confusion_matrix(sentiment_test,cal_clf.predict(reviews_test_tfidf))"
   ]
  },
  {
   "cell_type": "code",
   "execution_count": 181,
   "metadata": {},
   "outputs": [
    {
     "data": {
      "text/plain": [
       "<matplotlib.axes._subplots.AxesSubplot at 0x1ae8e39a688>"
      ]
     },
     "execution_count": 181,
     "metadata": {},
     "output_type": "execute_result"
    },
    {
     "data": {
      "image/png": "[encoded data removed]",
      "text/plain": [
       "<Figure size 432x288 with 2 Axes>"
      ]
     },
     "metadata": {
      "needs_background": "light"
     },
     "output_type": "display_data"
    },
    {
     "data": {
      "image/png": "[encoded data removed]",
      "text/plain": [
       "<Figure size 432x288 with 2 Axes>"
      ]
     },
     "metadata": {
      "needs_background": "light"
     },
     "output_type": "display_data"
    }
   ],
   "source": [
    "plot_confusion_matrix(sentiment_train,cal_clf1.predict(reviews_train_tfidf))\n",
    "plot_confusion_matrix(sentiment_test,cal_clf1.predict(reviews_test_tfidf))"
   ]
  },
  {
   "cell_type": "code",
   "execution_count": 200,
   "metadata": {},
   "outputs": [
    {
     "data": {
      "text/plain": [
       "0.954954954954955"
      ]
     },
     "execution_count": 200,
     "metadata": {},
     "output_type": "execute_result"
    }
   ],
   "source": [
    "svm_f1=f1_score(sentiment_test,cal_clf.predict(reviews_test_tfidf))\n",
    "svm_f1"
   ]
  },
  {
   "cell_type": "markdown",
   "metadata": {},
   "source": [
    "### Observation"
   ]
  },
  {
   "cell_type": "markdown",
   "metadata": {},
   "source": [
    "1."
   ]
  },
  {
   "cell_type": "markdown",
   "metadata": {},
   "source": [
    "## Decision Trees"
   ]
  },
  {
   "cell_type": "code",
   "execution_count": 183,
   "metadata": {},
   "outputs": [],
   "source": [
    "from sklearn.tree import DecisionTreeClassifier"
   ]
  },
  {
   "cell_type": "code",
   "execution_count": 184,
   "metadata": {},
   "outputs": [
    {
     "data": {
      "text/plain": [
       "RandomizedSearchCV(cv='warn', error_score='raise-deprecating',\n",
       "                   estimator=DecisionTreeClassifier(class_weight=None,\n",
       "                                                    criterion='gini',\n",
       "                                                    max_depth=None,\n",
       "                                                    max_features=None,\n",
       "                                                    max_leaf_nodes=None,\n",
       "                                                    min_impurity_decrease=0.0,\n",
       "                                                    min_impurity_split=None,\n",
       "                                                    min_samples_leaf=1,\n",
       "                                                    min_samples_split=2,\n",
       "                                                    min_weight_fraction_leaf=0.0,\n",
       "                                                    presort=False,\n",
       "                                                    random_state=None,\n",
       "                                                    splitter='best'),\n",
       "                   i...s=None,\n",
       "                   param_distributions={'max_depth': [5, 8, 11, 14, 17, 20, 23,\n",
       "                                                      26, 29, 32, 35, 38, 41,\n",
       "                                                      44, 47, 50, 53, 56, 59,\n",
       "                                                      62, 65, 68, 71, 74, 77,\n",
       "                                                      80, 83, 86, 89, 92, ...],\n",
       "                                        'min_samples_split': [5, 8, 11, 14, 17,\n",
       "                                                              20, 23, 26, 29,\n",
       "                                                              32, 35, 38, 41,\n",
       "                                                              44, 47, 50, 53,\n",
       "                                                              56, 59, 62, 65,\n",
       "                                                              68, 71, 74, 77,\n",
       "                                                              80, 83, 86, 89,\n",
       "                                                              92, ...]},\n",
       "                   pre_dispatch='2*n_jobs', random_state=None, refit=True,\n",
       "                   return_train_score=False, scoring=None, verbose=0)"
      ]
     },
     "execution_count": 184,
     "metadata": {},
     "output_type": "execute_result"
    }
   ],
   "source": [
    "dt_param={'max_depth':[i for i in range(5,2000,3)],\n",
    "         'min_samples_split':[i for i in range(5,2000,3)]}\n",
    "dt_clf=DecisionTreeClassifier()\n",
    "rndm_clf=RandomizedSearchCV(dt_clf,dt_param)\n",
    "rndm_clf.fit(reviews_train_tfidf,sentiment_train)"
   ]
  },
  {
   "cell_type": "code",
   "execution_count": 185,
   "metadata": {},
   "outputs": [
    {
     "data": {
      "text/plain": [
       "{'min_samples_split': 275, 'max_depth': 41}"
      ]
     },
     "execution_count": 185,
     "metadata": {},
     "output_type": "execute_result"
    }
   ],
   "source": [
    "rndm_clf.best_params_"
   ]
  },
  {
   "cell_type": "code",
   "execution_count": 187,
   "metadata": {},
   "outputs": [
    {
     "data": {
      "text/plain": [
       "<matplotlib.legend.Legend at 0x1ae908b3848>"
      ]
     },
     "execution_count": 187,
     "metadata": {},
     "output_type": "execute_result"
    },
    {
     "data": {
      "image/png": "[encoded data removed]",
      "text/plain": [
       "<Figure size 432x288 with 1 Axes>"
      ]
     },
     "metadata": {
      "needs_background": "light"
     },
     "output_type": "display_data"
    }
   ],
   "source": [
    "dt_clf=DecisionTreeClassifier(max_depth=41,min_samples_split=275\n",
    "                             )\n",
    "dt_clf.fit(reviews_train_tfidf,sentiment_train)\n",
    "train_fpr,train_tpr,thresh=roc_curve(sentiment_train,dt_clf.predict_proba(reviews_train_tfidf)[:,1])\n",
    "test_fpr,test_tpr,thresh=roc_curve(sentiment_test,dt_clf.predict_proba(reviews_test_tfidf)[:,1])\n",
    "plt.plot(train_fpr,train_tpr,label='Train Auc = '+str(auc(train_fpr,train_tpr)))\n",
    "plt.plot(test_fpr,test_tpr,label='test Auc = '+str(auc(test_fpr,test_tpr)))\n",
    "plt.legend()"
   ]
  },
  {
   "cell_type": "code",
   "execution_count": 189,
   "metadata": {
    "scrolled": true
   },
   "outputs": [
    {
     "data": {
      "text/plain": [
       "<matplotlib.axes._subplots.AxesSubplot at 0x1ae91892c08>"
      ]
     },
     "execution_count": 189,
     "metadata": {},
     "output_type": "execute_result"
    },
    {
     "data": {
      "image/png": "[encoded data removed]",
      "text/plain": [
       "<Figure size 432x288 with 2 Axes>"
      ]
     },
     "metadata": {
      "needs_background": "light"
     },
     "output_type": "display_data"
    },
    {
     "data": {
      "image/png": "[encoded data removed]",
      "text/plain": [
       "<Figure size 432x288 with 2 Axes>"
      ]
     },
     "metadata": {
      "needs_background": "light"
     },
     "output_type": "display_data"
    }
   ],
   "source": [
    "plot_confusion_matrix(sentiment_train,dt_clf.predict(reviews_train_tfidf))\n",
    "plot_confusion_matrix(sentiment_test,dt_clf.predict(reviews_test_tfidf))"
   ]
  },
  {
   "cell_type": "code",
   "execution_count": 198,
   "metadata": {},
   "outputs": [
    {
     "data": {
      "text/plain": [
       "0.9101464808860308"
      ]
     },
     "execution_count": 198,
     "metadata": {},
     "output_type": "execute_result"
    }
   ],
   "source": [
    "DT_f1=f1_score(sentiment_test,dt_clf.predict(reviews_test_tfidf))\n",
    "DT_f1"
   ]
  },
  {
   "cell_type": "markdown",
   "metadata": {},
   "source": [
    "#### Observation\n",
    "1."
   ]
  },
  {
   "cell_type": "markdown",
   "metadata": {},
   "source": [
    "## Random forrests"
   ]
  },
  {
   "cell_type": "code",
   "execution_count": 190,
   "metadata": {},
   "outputs": [],
   "source": [
    "from sklearn.ensemble import RandomForestClassifier"
   ]
  },
  {
   "cell_type": "code",
   "execution_count": 191,
   "metadata": {},
   "outputs": [
    {
     "ename": "KeyboardInterrupt",
     "evalue": "",
     "output_type": "error",
     "traceback": [
      "\u001b[1;31m---------------------------------------------------------------------------\u001b[0m",
      "\u001b[1;31mKeyboardInterrupt\u001b[0m                         Traceback (most recent call last)",
      "\u001b[1;32m<ipython-input-191-4d9a138a03fd>\u001b[0m in \u001b[0;36m<module>\u001b[1;34m\u001b[0m\n\u001b[0;32m      4\u001b[0m \u001b[0mrf_clf\u001b[0m\u001b[1;33m=\u001b[0m\u001b[0mRandomForestClassifier\u001b[0m\u001b[1;33m(\u001b[0m\u001b[1;33m)\u001b[0m\u001b[1;33m\u001b[0m\u001b[1;33m\u001b[0m\u001b[0m\n\u001b[0;32m      5\u001b[0m \u001b[0mrndm_clf\u001b[0m\u001b[1;33m=\u001b[0m\u001b[0mRandomizedSearchCV\u001b[0m\u001b[1;33m(\u001b[0m\u001b[0mrf_clf\u001b[0m\u001b[1;33m,\u001b[0m\u001b[0mrf_param\u001b[0m\u001b[1;33m,\u001b[0m\u001b[0mscoring\u001b[0m\u001b[1;33m=\u001b[0m\u001b[1;34m'roc_auc'\u001b[0m\u001b[1;33m)\u001b[0m\u001b[1;33m\u001b[0m\u001b[1;33m\u001b[0m\u001b[0m\n\u001b[1;32m----> 6\u001b[1;33m \u001b[0mrndm_clf\u001b[0m\u001b[1;33m.\u001b[0m\u001b[0mfit\u001b[0m\u001b[1;33m(\u001b[0m\u001b[0mreviews_train_tfidf\u001b[0m\u001b[1;33m,\u001b[0m\u001b[0msentiment_train\u001b[0m\u001b[1;33m)\u001b[0m\u001b[1;33m\u001b[0m\u001b[1;33m\u001b[0m\u001b[0m\n\u001b[0m\u001b[0;32m      7\u001b[0m \u001b[0mrndm_clf\u001b[0m\u001b[1;33m.\u001b[0m\u001b[0mbest_params_\u001b[0m\u001b[1;33m\u001b[0m\u001b[1;33m\u001b[0m\u001b[0m\n",
      "\u001b[1;32m~\\Anaconda3\\lib\\site-packages\\sklearn\\model_selection\\_search.py\u001b[0m in \u001b[0;36mfit\u001b[1;34m(self, X, y, groups, **fit_params)\u001b[0m\n\u001b[0;32m    686\u001b[0m                 \u001b[1;32mreturn\u001b[0m \u001b[0mresults\u001b[0m\u001b[1;33m\u001b[0m\u001b[1;33m\u001b[0m\u001b[0m\n\u001b[0;32m    687\u001b[0m \u001b[1;33m\u001b[0m\u001b[0m\n\u001b[1;32m--> 688\u001b[1;33m             \u001b[0mself\u001b[0m\u001b[1;33m.\u001b[0m\u001b[0m_run_search\u001b[0m\u001b[1;33m(\u001b[0m\u001b[0mevaluate_candidates\u001b[0m\u001b[1;33m)\u001b[0m\u001b[1;33m\u001b[0m\u001b[1;33m\u001b[0m\u001b[0m\n\u001b[0m\u001b[0;32m    689\u001b[0m \u001b[1;33m\u001b[0m\u001b[0m\n\u001b[0;32m    690\u001b[0m         \u001b[1;31m# For multi-metric evaluation, store the best_index_, best_params_ and\u001b[0m\u001b[1;33m\u001b[0m\u001b[1;33m\u001b[0m\u001b[1;33m\u001b[0m\u001b[0m\n",
      "\u001b[1;32m~\\Anaconda3\\lib\\site-packages\\sklearn\\model_selection\\_search.py\u001b[0m in \u001b[0;36m_run_search\u001b[1;34m(self, evaluate_candidates)\u001b[0m\n\u001b[0;32m   1467\u001b[0m         evaluate_candidates(ParameterSampler(\n\u001b[0;32m   1468\u001b[0m             \u001b[0mself\u001b[0m\u001b[1;33m.\u001b[0m\u001b[0mparam_distributions\u001b[0m\u001b[1;33m,\u001b[0m \u001b[0mself\u001b[0m\u001b[1;33m.\u001b[0m\u001b[0mn_iter\u001b[0m\u001b[1;33m,\u001b[0m\u001b[1;33m\u001b[0m\u001b[1;33m\u001b[0m\u001b[0m\n\u001b[1;32m-> 1469\u001b[1;33m             random_state=self.random_state))\n\u001b[0m",
      "\u001b[1;32m~\\Anaconda3\\lib\\site-packages\\sklearn\\model_selection\\_search.py\u001b[0m in \u001b[0;36mevaluate_candidates\u001b[1;34m(candidate_params)\u001b[0m\n\u001b[0;32m    665\u001b[0m                                \u001b[1;32mfor\u001b[0m \u001b[0mparameters\u001b[0m\u001b[1;33m,\u001b[0m \u001b[1;33m(\u001b[0m\u001b[0mtrain\u001b[0m\u001b[1;33m,\u001b[0m \u001b[0mtest\u001b[0m\u001b[1;33m)\u001b[0m\u001b[1;33m\u001b[0m\u001b[1;33m\u001b[0m\u001b[0m\n\u001b[0;32m    666\u001b[0m                                in product(candidate_params,\n\u001b[1;32m--> 667\u001b[1;33m                                           cv.split(X, y, groups)))\n\u001b[0m\u001b[0;32m    668\u001b[0m \u001b[1;33m\u001b[0m\u001b[0m\n\u001b[0;32m    669\u001b[0m                 \u001b[1;32mif\u001b[0m \u001b[0mlen\u001b[0m\u001b[1;33m(\u001b[0m\u001b[0mout\u001b[0m\u001b[1;33m)\u001b[0m \u001b[1;33m<\u001b[0m \u001b[1;36m1\u001b[0m\u001b[1;33m:\u001b[0m\u001b[1;33m\u001b[0m\u001b[1;33m\u001b[0m\u001b[0m\n",
      "\u001b[1;32m~\\Anaconda3\\lib\\site-packages\\joblib\\parallel.py\u001b[0m in \u001b[0;36m__call__\u001b[1;34m(self, iterable)\u001b[0m\n\u001b[0;32m    922\u001b[0m                 \u001b[0mself\u001b[0m\u001b[1;33m.\u001b[0m\u001b[0m_iterating\u001b[0m \u001b[1;33m=\u001b[0m \u001b[0mself\u001b[0m\u001b[1;33m.\u001b[0m\u001b[0m_original_iterator\u001b[0m \u001b[1;32mis\u001b[0m \u001b[1;32mnot\u001b[0m \u001b[1;32mNone\u001b[0m\u001b[1;33m\u001b[0m\u001b[1;33m\u001b[0m\u001b[0m\n\u001b[0;32m    923\u001b[0m \u001b[1;33m\u001b[0m\u001b[0m\n\u001b[1;32m--> 924\u001b[1;33m             \u001b[1;32mwhile\u001b[0m \u001b[0mself\u001b[0m\u001b[1;33m.\u001b[0m\u001b[0mdispatch_one_batch\u001b[0m\u001b[1;33m(\u001b[0m\u001b[0miterator\u001b[0m\u001b[1;33m)\u001b[0m\u001b[1;33m:\u001b[0m\u001b[1;33m\u001b[0m\u001b[1;33m\u001b[0m\u001b[0m\n\u001b[0m\u001b[0;32m    925\u001b[0m                 \u001b[1;32mpass\u001b[0m\u001b[1;33m\u001b[0m\u001b[1;33m\u001b[0m\u001b[0m\n\u001b[0;32m    926\u001b[0m \u001b[1;33m\u001b[0m\u001b[0m\n",
      "\u001b[1;32m~\\Anaconda3\\lib\\site-packages\\joblib\\parallel.py\u001b[0m in \u001b[0;36mdispatch_one_batch\u001b[1;34m(self, iterator)\u001b[0m\n\u001b[0;32m    757\u001b[0m                 \u001b[1;32mreturn\u001b[0m \u001b[1;32mFalse\u001b[0m\u001b[1;33m\u001b[0m\u001b[1;33m\u001b[0m\u001b[0m\n\u001b[0;32m    758\u001b[0m             \u001b[1;32melse\u001b[0m\u001b[1;33m:\u001b[0m\u001b[1;33m\u001b[0m\u001b[1;33m\u001b[0m\u001b[0m\n\u001b[1;32m--> 759\u001b[1;33m                 \u001b[0mself\u001b[0m\u001b[1;33m.\u001b[0m\u001b[0m_dispatch\u001b[0m\u001b[1;33m(\u001b[0m\u001b[0mtasks\u001b[0m\u001b[1;33m)\u001b[0m\u001b[1;33m\u001b[0m\u001b[1;33m\u001b[0m\u001b[0m\n\u001b[0m\u001b[0;32m    760\u001b[0m                 \u001b[1;32mreturn\u001b[0m \u001b[1;32mTrue\u001b[0m\u001b[1;33m\u001b[0m\u001b[1;33m\u001b[0m\u001b[0m\n\u001b[0;32m    761\u001b[0m \u001b[1;33m\u001b[0m\u001b[0m\n",
      "\u001b[1;32m~\\Anaconda3\\lib\\site-packages\\joblib\\parallel.py\u001b[0m in \u001b[0;36m_dispatch\u001b[1;34m(self, batch)\u001b[0m\n\u001b[0;32m    714\u001b[0m         \u001b[1;32mwith\u001b[0m \u001b[0mself\u001b[0m\u001b[1;33m.\u001b[0m\u001b[0m_lock\u001b[0m\u001b[1;33m:\u001b[0m\u001b[1;33m\u001b[0m\u001b[1;33m\u001b[0m\u001b[0m\n\u001b[0;32m    715\u001b[0m             \u001b[0mjob_idx\u001b[0m \u001b[1;33m=\u001b[0m \u001b[0mlen\u001b[0m\u001b[1;33m(\u001b[0m\u001b[0mself\u001b[0m\u001b[1;33m.\u001b[0m\u001b[0m_jobs\u001b[0m\u001b[1;33m)\u001b[0m\u001b[1;33m\u001b[0m\u001b[1;33m\u001b[0m\u001b[0m\n\u001b[1;32m--> 716\u001b[1;33m             \u001b[0mjob\u001b[0m \u001b[1;33m=\u001b[0m \u001b[0mself\u001b[0m\u001b[1;33m.\u001b[0m\u001b[0m_backend\u001b[0m\u001b[1;33m.\u001b[0m\u001b[0mapply_async\u001b[0m\u001b[1;33m(\u001b[0m\u001b[0mbatch\u001b[0m\u001b[1;33m,\u001b[0m \u001b[0mcallback\u001b[0m\u001b[1;33m=\u001b[0m\u001b[0mcb\u001b[0m\u001b[1;33m)\u001b[0m\u001b[1;33m\u001b[0m\u001b[1;33m\u001b[0m\u001b[0m\n\u001b[0m\u001b[0;32m    717\u001b[0m             \u001b[1;31m# A job can complete so quickly than its callback is\u001b[0m\u001b[1;33m\u001b[0m\u001b[1;33m\u001b[0m\u001b[1;33m\u001b[0m\u001b[0m\n\u001b[0;32m    718\u001b[0m             \u001b[1;31m# called before we get here, causing self._jobs to\u001b[0m\u001b[1;33m\u001b[0m\u001b[1;33m\u001b[0m\u001b[1;33m\u001b[0m\u001b[0m\n",
      "\u001b[1;32m~\\Anaconda3\\lib\\site-packages\\joblib\\_parallel_backends.py\u001b[0m in \u001b[0;36mapply_async\u001b[1;34m(self, func, callback)\u001b[0m\n\u001b[0;32m    180\u001b[0m     \u001b[1;32mdef\u001b[0m \u001b[0mapply_async\u001b[0m\u001b[1;33m(\u001b[0m\u001b[0mself\u001b[0m\u001b[1;33m,\u001b[0m \u001b[0mfunc\u001b[0m\u001b[1;33m,\u001b[0m \u001b[0mcallback\u001b[0m\u001b[1;33m=\u001b[0m\u001b[1;32mNone\u001b[0m\u001b[1;33m)\u001b[0m\u001b[1;33m:\u001b[0m\u001b[1;33m\u001b[0m\u001b[1;33m\u001b[0m\u001b[0m\n\u001b[0;32m    181\u001b[0m         \u001b[1;34m\"\"\"Schedule a func to be run\"\"\"\u001b[0m\u001b[1;33m\u001b[0m\u001b[1;33m\u001b[0m\u001b[0m\n\u001b[1;32m--> 182\u001b[1;33m         \u001b[0mresult\u001b[0m \u001b[1;33m=\u001b[0m \u001b[0mImmediateResult\u001b[0m\u001b[1;33m(\u001b[0m\u001b[0mfunc\u001b[0m\u001b[1;33m)\u001b[0m\u001b[1;33m\u001b[0m\u001b[1;33m\u001b[0m\u001b[0m\n\u001b[0m\u001b[0;32m    183\u001b[0m         \u001b[1;32mif\u001b[0m \u001b[0mcallback\u001b[0m\u001b[1;33m:\u001b[0m\u001b[1;33m\u001b[0m\u001b[1;33m\u001b[0m\u001b[0m\n\u001b[0;32m    184\u001b[0m             \u001b[0mcallback\u001b[0m\u001b[1;33m(\u001b[0m\u001b[0mresult\u001b[0m\u001b[1;33m)\u001b[0m\u001b[1;33m\u001b[0m\u001b[1;33m\u001b[0m\u001b[0m\n",
      "\u001b[1;32m~\\Anaconda3\\lib\\site-packages\\joblib\\_parallel_backends.py\u001b[0m in \u001b[0;36m__init__\u001b[1;34m(self, batch)\u001b[0m\n\u001b[0;32m    547\u001b[0m         \u001b[1;31m# Don't delay the application, to avoid keeping the input\u001b[0m\u001b[1;33m\u001b[0m\u001b[1;33m\u001b[0m\u001b[1;33m\u001b[0m\u001b[0m\n\u001b[0;32m    548\u001b[0m         \u001b[1;31m# arguments in memory\u001b[0m\u001b[1;33m\u001b[0m\u001b[1;33m\u001b[0m\u001b[1;33m\u001b[0m\u001b[0m\n\u001b[1;32m--> 549\u001b[1;33m         \u001b[0mself\u001b[0m\u001b[1;33m.\u001b[0m\u001b[0mresults\u001b[0m \u001b[1;33m=\u001b[0m \u001b[0mbatch\u001b[0m\u001b[1;33m(\u001b[0m\u001b[1;33m)\u001b[0m\u001b[1;33m\u001b[0m\u001b[1;33m\u001b[0m\u001b[0m\n\u001b[0m\u001b[0;32m    550\u001b[0m \u001b[1;33m\u001b[0m\u001b[0m\n\u001b[0;32m    551\u001b[0m     \u001b[1;32mdef\u001b[0m \u001b[0mget\u001b[0m\u001b[1;33m(\u001b[0m\u001b[0mself\u001b[0m\u001b[1;33m)\u001b[0m\u001b[1;33m:\u001b[0m\u001b[1;33m\u001b[0m\u001b[1;33m\u001b[0m\u001b[0m\n",
      "\u001b[1;32m~\\Anaconda3\\lib\\site-packages\\joblib\\parallel.py\u001b[0m in \u001b[0;36m__call__\u001b[1;34m(self)\u001b[0m\n\u001b[0;32m    223\u001b[0m         \u001b[1;32mwith\u001b[0m \u001b[0mparallel_backend\u001b[0m\u001b[1;33m(\u001b[0m\u001b[0mself\u001b[0m\u001b[1;33m.\u001b[0m\u001b[0m_backend\u001b[0m\u001b[1;33m,\u001b[0m \u001b[0mn_jobs\u001b[0m\u001b[1;33m=\u001b[0m\u001b[0mself\u001b[0m\u001b[1;33m.\u001b[0m\u001b[0m_n_jobs\u001b[0m\u001b[1;33m)\u001b[0m\u001b[1;33m:\u001b[0m\u001b[1;33m\u001b[0m\u001b[1;33m\u001b[0m\u001b[0m\n\u001b[0;32m    224\u001b[0m             return [func(*args, **kwargs)\n\u001b[1;32m--> 225\u001b[1;33m                     for func, args, kwargs in self.items]\n\u001b[0m\u001b[0;32m    226\u001b[0m \u001b[1;33m\u001b[0m\u001b[0m\n\u001b[0;32m    227\u001b[0m     \u001b[1;32mdef\u001b[0m \u001b[0m__len__\u001b[0m\u001b[1;33m(\u001b[0m\u001b[0mself\u001b[0m\u001b[1;33m)\u001b[0m\u001b[1;33m:\u001b[0m\u001b[1;33m\u001b[0m\u001b[1;33m\u001b[0m\u001b[0m\n",
      "\u001b[1;32m~\\Anaconda3\\lib\\site-packages\\joblib\\parallel.py\u001b[0m in \u001b[0;36m<listcomp>\u001b[1;34m(.0)\u001b[0m\n\u001b[0;32m    223\u001b[0m         \u001b[1;32mwith\u001b[0m \u001b[0mparallel_backend\u001b[0m\u001b[1;33m(\u001b[0m\u001b[0mself\u001b[0m\u001b[1;33m.\u001b[0m\u001b[0m_backend\u001b[0m\u001b[1;33m,\u001b[0m \u001b[0mn_jobs\u001b[0m\u001b[1;33m=\u001b[0m\u001b[0mself\u001b[0m\u001b[1;33m.\u001b[0m\u001b[0m_n_jobs\u001b[0m\u001b[1;33m)\u001b[0m\u001b[1;33m:\u001b[0m\u001b[1;33m\u001b[0m\u001b[1;33m\u001b[0m\u001b[0m\n\u001b[0;32m    224\u001b[0m             return [func(*args, **kwargs)\n\u001b[1;32m--> 225\u001b[1;33m                     for func, args, kwargs in self.items]\n\u001b[0m\u001b[0;32m    226\u001b[0m \u001b[1;33m\u001b[0m\u001b[0m\n\u001b[0;32m    227\u001b[0m     \u001b[1;32mdef\u001b[0m \u001b[0m__len__\u001b[0m\u001b[1;33m(\u001b[0m\u001b[0mself\u001b[0m\u001b[1;33m)\u001b[0m\u001b[1;33m:\u001b[0m\u001b[1;33m\u001b[0m\u001b[1;33m\u001b[0m\u001b[0m\n",
      "\u001b[1;32m~\\Anaconda3\\lib\\site-packages\\sklearn\\model_selection\\_validation.py\u001b[0m in \u001b[0;36m_fit_and_score\u001b[1;34m(estimator, X, y, scorer, train, test, verbose, parameters, fit_params, return_train_score, return_parameters, return_n_test_samples, return_times, return_estimator, error_score)\u001b[0m\n\u001b[0;32m    514\u001b[0m             \u001b[0mestimator\u001b[0m\u001b[1;33m.\u001b[0m\u001b[0mfit\u001b[0m\u001b[1;33m(\u001b[0m\u001b[0mX_train\u001b[0m\u001b[1;33m,\u001b[0m \u001b[1;33m**\u001b[0m\u001b[0mfit_params\u001b[0m\u001b[1;33m)\u001b[0m\u001b[1;33m\u001b[0m\u001b[1;33m\u001b[0m\u001b[0m\n\u001b[0;32m    515\u001b[0m         \u001b[1;32melse\u001b[0m\u001b[1;33m:\u001b[0m\u001b[1;33m\u001b[0m\u001b[1;33m\u001b[0m\u001b[0m\n\u001b[1;32m--> 516\u001b[1;33m             \u001b[0mestimator\u001b[0m\u001b[1;33m.\u001b[0m\u001b[0mfit\u001b[0m\u001b[1;33m(\u001b[0m\u001b[0mX_train\u001b[0m\u001b[1;33m,\u001b[0m \u001b[0my_train\u001b[0m\u001b[1;33m,\u001b[0m \u001b[1;33m**\u001b[0m\u001b[0mfit_params\u001b[0m\u001b[1;33m)\u001b[0m\u001b[1;33m\u001b[0m\u001b[1;33m\u001b[0m\u001b[0m\n\u001b[0m\u001b[0;32m    517\u001b[0m \u001b[1;33m\u001b[0m\u001b[0m\n\u001b[0;32m    518\u001b[0m     \u001b[1;32mexcept\u001b[0m \u001b[0mException\u001b[0m \u001b[1;32mas\u001b[0m \u001b[0me\u001b[0m\u001b[1;33m:\u001b[0m\u001b[1;33m\u001b[0m\u001b[1;33m\u001b[0m\u001b[0m\n",
      "\u001b[1;32m~\\Anaconda3\\lib\\site-packages\\sklearn\\ensemble\\forest.py\u001b[0m in \u001b[0;36mfit\u001b[1;34m(self, X, y, sample_weight)\u001b[0m\n\u001b[0;32m    328\u001b[0m                     \u001b[0mt\u001b[0m\u001b[1;33m,\u001b[0m \u001b[0mself\u001b[0m\u001b[1;33m,\u001b[0m \u001b[0mX\u001b[0m\u001b[1;33m,\u001b[0m \u001b[0my\u001b[0m\u001b[1;33m,\u001b[0m \u001b[0msample_weight\u001b[0m\u001b[1;33m,\u001b[0m \u001b[0mi\u001b[0m\u001b[1;33m,\u001b[0m \u001b[0mlen\u001b[0m\u001b[1;33m(\u001b[0m\u001b[0mtrees\u001b[0m\u001b[1;33m)\u001b[0m\u001b[1;33m,\u001b[0m\u001b[1;33m\u001b[0m\u001b[1;33m\u001b[0m\u001b[0m\n\u001b[0;32m    329\u001b[0m                     verbose=self.verbose, class_weight=self.class_weight)\n\u001b[1;32m--> 330\u001b[1;33m                 for i, t in enumerate(trees))\n\u001b[0m\u001b[0;32m    331\u001b[0m \u001b[1;33m\u001b[0m\u001b[0m\n\u001b[0;32m    332\u001b[0m             \u001b[1;31m# Collect newly grown trees\u001b[0m\u001b[1;33m\u001b[0m\u001b[1;33m\u001b[0m\u001b[1;33m\u001b[0m\u001b[0m\n",
      "\u001b[1;32m~\\Anaconda3\\lib\\site-packages\\joblib\\parallel.py\u001b[0m in \u001b[0;36m__call__\u001b[1;34m(self, iterable)\u001b[0m\n\u001b[0;32m    922\u001b[0m                 \u001b[0mself\u001b[0m\u001b[1;33m.\u001b[0m\u001b[0m_iterating\u001b[0m \u001b[1;33m=\u001b[0m \u001b[0mself\u001b[0m\u001b[1;33m.\u001b[0m\u001b[0m_original_iterator\u001b[0m \u001b[1;32mis\u001b[0m \u001b[1;32mnot\u001b[0m \u001b[1;32mNone\u001b[0m\u001b[1;33m\u001b[0m\u001b[1;33m\u001b[0m\u001b[0m\n\u001b[0;32m    923\u001b[0m \u001b[1;33m\u001b[0m\u001b[0m\n\u001b[1;32m--> 924\u001b[1;33m             \u001b[1;32mwhile\u001b[0m \u001b[0mself\u001b[0m\u001b[1;33m.\u001b[0m\u001b[0mdispatch_one_batch\u001b[0m\u001b[1;33m(\u001b[0m\u001b[0miterator\u001b[0m\u001b[1;33m)\u001b[0m\u001b[1;33m:\u001b[0m\u001b[1;33m\u001b[0m\u001b[1;33m\u001b[0m\u001b[0m\n\u001b[0m\u001b[0;32m    925\u001b[0m                 \u001b[1;32mpass\u001b[0m\u001b[1;33m\u001b[0m\u001b[1;33m\u001b[0m\u001b[0m\n\u001b[0;32m    926\u001b[0m \u001b[1;33m\u001b[0m\u001b[0m\n",
      "\u001b[1;32m~\\Anaconda3\\lib\\site-packages\\joblib\\parallel.py\u001b[0m in \u001b[0;36mdispatch_one_batch\u001b[1;34m(self, iterator)\u001b[0m\n\u001b[0;32m    757\u001b[0m                 \u001b[1;32mreturn\u001b[0m \u001b[1;32mFalse\u001b[0m\u001b[1;33m\u001b[0m\u001b[1;33m\u001b[0m\u001b[0m\n\u001b[0;32m    758\u001b[0m             \u001b[1;32melse\u001b[0m\u001b[1;33m:\u001b[0m\u001b[1;33m\u001b[0m\u001b[1;33m\u001b[0m\u001b[0m\n\u001b[1;32m--> 759\u001b[1;33m                 \u001b[0mself\u001b[0m\u001b[1;33m.\u001b[0m\u001b[0m_dispatch\u001b[0m\u001b[1;33m(\u001b[0m\u001b[0mtasks\u001b[0m\u001b[1;33m)\u001b[0m\u001b[1;33m\u001b[0m\u001b[1;33m\u001b[0m\u001b[0m\n\u001b[0m\u001b[0;32m    760\u001b[0m                 \u001b[1;32mreturn\u001b[0m \u001b[1;32mTrue\u001b[0m\u001b[1;33m\u001b[0m\u001b[1;33m\u001b[0m\u001b[0m\n\u001b[0;32m    761\u001b[0m \u001b[1;33m\u001b[0m\u001b[0m\n",
      "\u001b[1;32m~\\Anaconda3\\lib\\site-packages\\joblib\\parallel.py\u001b[0m in \u001b[0;36m_dispatch\u001b[1;34m(self, batch)\u001b[0m\n\u001b[0;32m    714\u001b[0m         \u001b[1;32mwith\u001b[0m \u001b[0mself\u001b[0m\u001b[1;33m.\u001b[0m\u001b[0m_lock\u001b[0m\u001b[1;33m:\u001b[0m\u001b[1;33m\u001b[0m\u001b[1;33m\u001b[0m\u001b[0m\n\u001b[0;32m    715\u001b[0m             \u001b[0mjob_idx\u001b[0m \u001b[1;33m=\u001b[0m \u001b[0mlen\u001b[0m\u001b[1;33m(\u001b[0m\u001b[0mself\u001b[0m\u001b[1;33m.\u001b[0m\u001b[0m_jobs\u001b[0m\u001b[1;33m)\u001b[0m\u001b[1;33m\u001b[0m\u001b[1;33m\u001b[0m\u001b[0m\n\u001b[1;32m--> 716\u001b[1;33m             \u001b[0mjob\u001b[0m \u001b[1;33m=\u001b[0m \u001b[0mself\u001b[0m\u001b[1;33m.\u001b[0m\u001b[0m_backend\u001b[0m\u001b[1;33m.\u001b[0m\u001b[0mapply_async\u001b[0m\u001b[1;33m(\u001b[0m\u001b[0mbatch\u001b[0m\u001b[1;33m,\u001b[0m \u001b[0mcallback\u001b[0m\u001b[1;33m=\u001b[0m\u001b[0mcb\u001b[0m\u001b[1;33m)\u001b[0m\u001b[1;33m\u001b[0m\u001b[1;33m\u001b[0m\u001b[0m\n\u001b[0m\u001b[0;32m    717\u001b[0m             \u001b[1;31m# A job can complete so quickly than its callback is\u001b[0m\u001b[1;33m\u001b[0m\u001b[1;33m\u001b[0m\u001b[1;33m\u001b[0m\u001b[0m\n\u001b[0;32m    718\u001b[0m             \u001b[1;31m# called before we get here, causing self._jobs to\u001b[0m\u001b[1;33m\u001b[0m\u001b[1;33m\u001b[0m\u001b[1;33m\u001b[0m\u001b[0m\n",
      "\u001b[1;32m~\\Anaconda3\\lib\\site-packages\\joblib\\_parallel_backends.py\u001b[0m in \u001b[0;36mapply_async\u001b[1;34m(self, func, callback)\u001b[0m\n\u001b[0;32m    180\u001b[0m     \u001b[1;32mdef\u001b[0m \u001b[0mapply_async\u001b[0m\u001b[1;33m(\u001b[0m\u001b[0mself\u001b[0m\u001b[1;33m,\u001b[0m \u001b[0mfunc\u001b[0m\u001b[1;33m,\u001b[0m \u001b[0mcallback\u001b[0m\u001b[1;33m=\u001b[0m\u001b[1;32mNone\u001b[0m\u001b[1;33m)\u001b[0m\u001b[1;33m:\u001b[0m\u001b[1;33m\u001b[0m\u001b[1;33m\u001b[0m\u001b[0m\n\u001b[0;32m    181\u001b[0m         \u001b[1;34m\"\"\"Schedule a func to be run\"\"\"\u001b[0m\u001b[1;33m\u001b[0m\u001b[1;33m\u001b[0m\u001b[0m\n\u001b[1;32m--> 182\u001b[1;33m         \u001b[0mresult\u001b[0m \u001b[1;33m=\u001b[0m \u001b[0mImmediateResult\u001b[0m\u001b[1;33m(\u001b[0m\u001b[0mfunc\u001b[0m\u001b[1;33m)\u001b[0m\u001b[1;33m\u001b[0m\u001b[1;33m\u001b[0m\u001b[0m\n\u001b[0m\u001b[0;32m    183\u001b[0m         \u001b[1;32mif\u001b[0m \u001b[0mcallback\u001b[0m\u001b[1;33m:\u001b[0m\u001b[1;33m\u001b[0m\u001b[1;33m\u001b[0m\u001b[0m\n\u001b[0;32m    184\u001b[0m             \u001b[0mcallback\u001b[0m\u001b[1;33m(\u001b[0m\u001b[0mresult\u001b[0m\u001b[1;33m)\u001b[0m\u001b[1;33m\u001b[0m\u001b[1;33m\u001b[0m\u001b[0m\n",
      "\u001b[1;32m~\\Anaconda3\\lib\\site-packages\\joblib\\_parallel_backends.py\u001b[0m in \u001b[0;36m__init__\u001b[1;34m(self, batch)\u001b[0m\n\u001b[0;32m    547\u001b[0m         \u001b[1;31m# Don't delay the application, to avoid keeping the input\u001b[0m\u001b[1;33m\u001b[0m\u001b[1;33m\u001b[0m\u001b[1;33m\u001b[0m\u001b[0m\n\u001b[0;32m    548\u001b[0m         \u001b[1;31m# arguments in memory\u001b[0m\u001b[1;33m\u001b[0m\u001b[1;33m\u001b[0m\u001b[1;33m\u001b[0m\u001b[0m\n\u001b[1;32m--> 549\u001b[1;33m         \u001b[0mself\u001b[0m\u001b[1;33m.\u001b[0m\u001b[0mresults\u001b[0m \u001b[1;33m=\u001b[0m \u001b[0mbatch\u001b[0m\u001b[1;33m(\u001b[0m\u001b[1;33m)\u001b[0m\u001b[1;33m\u001b[0m\u001b[1;33m\u001b[0m\u001b[0m\n\u001b[0m\u001b[0;32m    550\u001b[0m \u001b[1;33m\u001b[0m\u001b[0m\n\u001b[0;32m    551\u001b[0m     \u001b[1;32mdef\u001b[0m \u001b[0mget\u001b[0m\u001b[1;33m(\u001b[0m\u001b[0mself\u001b[0m\u001b[1;33m)\u001b[0m\u001b[1;33m:\u001b[0m\u001b[1;33m\u001b[0m\u001b[1;33m\u001b[0m\u001b[0m\n",
      "\u001b[1;32m~\\Anaconda3\\lib\\site-packages\\joblib\\parallel.py\u001b[0m in \u001b[0;36m__call__\u001b[1;34m(self)\u001b[0m\n\u001b[0;32m    223\u001b[0m         \u001b[1;32mwith\u001b[0m \u001b[0mparallel_backend\u001b[0m\u001b[1;33m(\u001b[0m\u001b[0mself\u001b[0m\u001b[1;33m.\u001b[0m\u001b[0m_backend\u001b[0m\u001b[1;33m,\u001b[0m \u001b[0mn_jobs\u001b[0m\u001b[1;33m=\u001b[0m\u001b[0mself\u001b[0m\u001b[1;33m.\u001b[0m\u001b[0m_n_jobs\u001b[0m\u001b[1;33m)\u001b[0m\u001b[1;33m:\u001b[0m\u001b[1;33m\u001b[0m\u001b[1;33m\u001b[0m\u001b[0m\n\u001b[0;32m    224\u001b[0m             return [func(*args, **kwargs)\n\u001b[1;32m--> 225\u001b[1;33m                     for func, args, kwargs in self.items]\n\u001b[0m\u001b[0;32m    226\u001b[0m \u001b[1;33m\u001b[0m\u001b[0m\n\u001b[0;32m    227\u001b[0m     \u001b[1;32mdef\u001b[0m \u001b[0m__len__\u001b[0m\u001b[1;33m(\u001b[0m\u001b[0mself\u001b[0m\u001b[1;33m)\u001b[0m\u001b[1;33m:\u001b[0m\u001b[1;33m\u001b[0m\u001b[1;33m\u001b[0m\u001b[0m\n",
      "\u001b[1;32m~\\Anaconda3\\lib\\site-packages\\joblib\\parallel.py\u001b[0m in \u001b[0;36m<listcomp>\u001b[1;34m(.0)\u001b[0m\n\u001b[0;32m    223\u001b[0m         \u001b[1;32mwith\u001b[0m \u001b[0mparallel_backend\u001b[0m\u001b[1;33m(\u001b[0m\u001b[0mself\u001b[0m\u001b[1;33m.\u001b[0m\u001b[0m_backend\u001b[0m\u001b[1;33m,\u001b[0m \u001b[0mn_jobs\u001b[0m\u001b[1;33m=\u001b[0m\u001b[0mself\u001b[0m\u001b[1;33m.\u001b[0m\u001b[0m_n_jobs\u001b[0m\u001b[1;33m)\u001b[0m\u001b[1;33m:\u001b[0m\u001b[1;33m\u001b[0m\u001b[1;33m\u001b[0m\u001b[0m\n\u001b[0;32m    224\u001b[0m             return [func(*args, **kwargs)\n\u001b[1;32m--> 225\u001b[1;33m                     for func, args, kwargs in self.items]\n\u001b[0m\u001b[0;32m    226\u001b[0m \u001b[1;33m\u001b[0m\u001b[0m\n\u001b[0;32m    227\u001b[0m     \u001b[1;32mdef\u001b[0m \u001b[0m__len__\u001b[0m\u001b[1;33m(\u001b[0m\u001b[0mself\u001b[0m\u001b[1;33m)\u001b[0m\u001b[1;33m:\u001b[0m\u001b[1;33m\u001b[0m\u001b[1;33m\u001b[0m\u001b[0m\n",
      "\u001b[1;32m~\\Anaconda3\\lib\\site-packages\\sklearn\\ensemble\\forest.py\u001b[0m in \u001b[0;36m_parallel_build_trees\u001b[1;34m(tree, forest, X, y, sample_weight, tree_idx, n_trees, verbose, class_weight)\u001b[0m\n\u001b[0;32m    116\u001b[0m             \u001b[0mcurr_sample_weight\u001b[0m \u001b[1;33m*=\u001b[0m \u001b[0mcompute_sample_weight\u001b[0m\u001b[1;33m(\u001b[0m\u001b[1;34m'balanced'\u001b[0m\u001b[1;33m,\u001b[0m \u001b[0my\u001b[0m\u001b[1;33m,\u001b[0m \u001b[0mindices\u001b[0m\u001b[1;33m)\u001b[0m\u001b[1;33m\u001b[0m\u001b[1;33m\u001b[0m\u001b[0m\n\u001b[0;32m    117\u001b[0m \u001b[1;33m\u001b[0m\u001b[0m\n\u001b[1;32m--> 118\u001b[1;33m         \u001b[0mtree\u001b[0m\u001b[1;33m.\u001b[0m\u001b[0mfit\u001b[0m\u001b[1;33m(\u001b[0m\u001b[0mX\u001b[0m\u001b[1;33m,\u001b[0m \u001b[0my\u001b[0m\u001b[1;33m,\u001b[0m \u001b[0msample_weight\u001b[0m\u001b[1;33m=\u001b[0m\u001b[0mcurr_sample_weight\u001b[0m\u001b[1;33m,\u001b[0m \u001b[0mcheck_input\u001b[0m\u001b[1;33m=\u001b[0m\u001b[1;32mFalse\u001b[0m\u001b[1;33m)\u001b[0m\u001b[1;33m\u001b[0m\u001b[1;33m\u001b[0m\u001b[0m\n\u001b[0m\u001b[0;32m    119\u001b[0m     \u001b[1;32melse\u001b[0m\u001b[1;33m:\u001b[0m\u001b[1;33m\u001b[0m\u001b[1;33m\u001b[0m\u001b[0m\n\u001b[0;32m    120\u001b[0m         \u001b[0mtree\u001b[0m\u001b[1;33m.\u001b[0m\u001b[0mfit\u001b[0m\u001b[1;33m(\u001b[0m\u001b[0mX\u001b[0m\u001b[1;33m,\u001b[0m \u001b[0my\u001b[0m\u001b[1;33m,\u001b[0m \u001b[0msample_weight\u001b[0m\u001b[1;33m=\u001b[0m\u001b[0msample_weight\u001b[0m\u001b[1;33m,\u001b[0m \u001b[0mcheck_input\u001b[0m\u001b[1;33m=\u001b[0m\u001b[1;32mFalse\u001b[0m\u001b[1;33m)\u001b[0m\u001b[1;33m\u001b[0m\u001b[1;33m\u001b[0m\u001b[0m\n",
      "\u001b[1;32m~\\Anaconda3\\lib\\site-packages\\sklearn\\tree\\tree.py\u001b[0m in \u001b[0;36mfit\u001b[1;34m(self, X, y, sample_weight, check_input, X_idx_sorted)\u001b[0m\n\u001b[0;32m    814\u001b[0m             \u001b[0msample_weight\u001b[0m\u001b[1;33m=\u001b[0m\u001b[0msample_weight\u001b[0m\u001b[1;33m,\u001b[0m\u001b[1;33m\u001b[0m\u001b[1;33m\u001b[0m\u001b[0m\n\u001b[0;32m    815\u001b[0m             \u001b[0mcheck_input\u001b[0m\u001b[1;33m=\u001b[0m\u001b[0mcheck_input\u001b[0m\u001b[1;33m,\u001b[0m\u001b[1;33m\u001b[0m\u001b[1;33m\u001b[0m\u001b[0m\n\u001b[1;32m--> 816\u001b[1;33m             X_idx_sorted=X_idx_sorted)\n\u001b[0m\u001b[0;32m    817\u001b[0m         \u001b[1;32mreturn\u001b[0m \u001b[0mself\u001b[0m\u001b[1;33m\u001b[0m\u001b[1;33m\u001b[0m\u001b[0m\n\u001b[0;32m    818\u001b[0m \u001b[1;33m\u001b[0m\u001b[0m\n",
      "\u001b[1;32m~\\Anaconda3\\lib\\site-packages\\sklearn\\tree\\tree.py\u001b[0m in \u001b[0;36mfit\u001b[1;34m(self, X, y, sample_weight, check_input, X_idx_sorted)\u001b[0m\n\u001b[0;32m    378\u001b[0m                                            min_impurity_split)\n\u001b[0;32m    379\u001b[0m \u001b[1;33m\u001b[0m\u001b[0m\n\u001b[1;32m--> 380\u001b[1;33m         \u001b[0mbuilder\u001b[0m\u001b[1;33m.\u001b[0m\u001b[0mbuild\u001b[0m\u001b[1;33m(\u001b[0m\u001b[0mself\u001b[0m\u001b[1;33m.\u001b[0m\u001b[0mtree_\u001b[0m\u001b[1;33m,\u001b[0m \u001b[0mX\u001b[0m\u001b[1;33m,\u001b[0m \u001b[0my\u001b[0m\u001b[1;33m,\u001b[0m \u001b[0msample_weight\u001b[0m\u001b[1;33m,\u001b[0m \u001b[0mX_idx_sorted\u001b[0m\u001b[1;33m)\u001b[0m\u001b[1;33m\u001b[0m\u001b[1;33m\u001b[0m\u001b[0m\n\u001b[0m\u001b[0;32m    381\u001b[0m \u001b[1;33m\u001b[0m\u001b[0m\n\u001b[0;32m    382\u001b[0m         \u001b[1;32mif\u001b[0m \u001b[0mself\u001b[0m\u001b[1;33m.\u001b[0m\u001b[0mn_outputs_\u001b[0m \u001b[1;33m==\u001b[0m \u001b[1;36m1\u001b[0m\u001b[1;33m:\u001b[0m\u001b[1;33m\u001b[0m\u001b[1;33m\u001b[0m\u001b[0m\n",
      "\u001b[1;31mKeyboardInterrupt\u001b[0m: "
     ]
    }
   ],
   "source": [
    "rf_param={'n_estimators':[i for i in range(10,1000,10)],\n",
    "          'max_depth':[i for i in range(5,2000,3)]}\n",
    "\n",
    "rf_clf=RandomForestClassifier()\n",
    "rndm_clf=RandomizedSearchCV(rf_clf,rf_param,scoring='roc_auc')\n",
    "rndm_clf.fit(reviews_train_tfidf,sentiment_train)\n",
    "rndm_clf.best_params_"
   ]
  },
  {
   "cell_type": "code",
   "execution_count": 193,
   "metadata": {},
   "outputs": [
    {
     "data": {
      "text/plain": [
       "<matplotlib.legend.Legend at 0x1ae90335ec8>"
      ]
     },
     "execution_count": 193,
     "metadata": {},
     "output_type": "execute_result"
    },
    {
     "data": {
      "image/png": "[encoded data removed]",
      "text/plain": [
       "<Figure size 432x288 with 1 Axes>"
      ]
     },
     "metadata": {
      "needs_background": "light"
     },
     "output_type": "display_data"
    }
   ],
   "source": [
    "rf_clf=RandomForestClassifier(n_estimators=910,max_depth=26)\n",
    "rf_clf.fit(reviews_train_tfidf,sentiment_train)\n",
    "train_fpr,train_tpr,thresh=roc_curve(sentiment_train,rf_clf.predict(reviews_train_tfidf))\n",
    "test_fpr,test_tpr,thresh=roc_curve(sentiment_test,rf_clf.predict(reviews_test_tfidf))\n",
    "plt.plot(train_fpr,train_tpr,label='Train AUC = '+str(auc(train_fpr,train_tpr)))\n",
    "plt.plot(test_fpr,test_tpr,label='Test AUC = '+str(auc(test_fpr,test_tpr)))\n",
    "plt.legend()"
   ]
  },
  {
   "cell_type": "code",
   "execution_count": 194,
   "metadata": {},
   "outputs": [
    {
     "data": {
      "text/plain": [
       "<matplotlib.axes._subplots.AxesSubplot at 0x1ae8f87eb88>"
      ]
     },
     "execution_count": 194,
     "metadata": {},
     "output_type": "execute_result"
    },
    {
     "data": {
      "image/png": "[encoded data removed]",
      "text/plain": [
       "<Figure size 432x288 with 2 Axes>"
      ]
     },
     "metadata": {
      "needs_background": "light"
     },
     "output_type": "display_data"
    },
    {
     "data": {
      "image/png": "[encoded data removed]",
      "text/plain": [
       "<Figure size 432x288 with 2 Axes>"
      ]
     },
     "metadata": {
      "needs_background": "light"
     },
     "output_type": "display_data"
    }
   ],
   "source": [
    "plot_confusion_matrix(sentiment_train,rf_clf.predict(reviews_train_tfidf))\n",
    "plot_confusion_matrix(sentiment_test,rf_clf.predict(reviews_test_tfidf))"
   ]
  },
  {
   "cell_type": "code",
   "execution_count": 195,
   "metadata": {},
   "outputs": [],
   "source": [
    "random_forrest_f1=f1_score(sentiment_test,rf_clf.predict(reviews_test_tfidf))"
   ]
  },
  {
   "cell_type": "code",
   "execution_count": 196,
   "metadata": {},
   "outputs": [
    {
     "data": {
      "text/plain": [
       "0.9193280106453761"
      ]
     },
     "execution_count": 196,
     "metadata": {},
     "output_type": "execute_result"
    }
   ],
   "source": [
    "random_forrest_f1"
   ]
  },
  {
   "cell_type": "markdown",
   "metadata": {},
   "source": [
    "### Observation"
   ]
  },
  {
   "cell_type": "code",
   "execution_count": null,
   "metadata": {},
   "outputs": [],
   "source": []
  },
  {
   "cell_type": "markdown",
   "metadata": {},
   "source": [
    "## Summarizing all the models F1_score"
   ]
  },
  {
   "cell_type": "code",
   "execution_count": 216,
   "metadata": {},
   "outputs": [],
   "source": [
    "models=['KNN','LogisticRegression','SVM','DecisionTree','RandomForest']\n",
    "f1_scoress=[knn_f1_score,lr_f1_score,svm_f1  , DT_f1 ,random_forrest_f1]\n",
    "\n",
    "model_p={'KNN':knn_f1_score,'LogisticRegression':lr_f1_score,'SVM':svm_f1,'DecisionTree':DT_f1,'RandomForest':random_forrest_f1\n",
    "        }"
   ]
  },
  {
   "cell_type": "code",
   "execution_count": 455,
   "metadata": {},
   "outputs": [
    {
     "data": {
      "image/png": "[encoded data removed]",
      "text/plain": [
       "<Figure size 360x360 with 1 Axes>"
      ]
     },
     "metadata": {
      "needs_background": "light"
     },
     "output_type": "display_data"
    }
   ],
   "source": [
    "plt.figure(figsize=(5,5))\n",
    "colors = ['c','r','m','y','b']\n",
    "plt.barh(models,f1_scoress,color=colors)\n",
    "plt.title(\"Classificatiion model Performances\")\n",
    "for index, value in enumerate(f1_scoress):\n",
    "    plt.text(value+0.1,index,str(round(value,4)))\n",
    "plt.xlabel('F1_SCores',)\n",
    "plt.ylabel(\"Models\")\n",
    "plt.savefig(\"f1_scores.png\")\n",
    "plt.show()\n"
   ]
  },
  {
   "cell_type": "code",
   "execution_count": 383,
   "metadata": {},
   "outputs": [
    {
     "data": {
      "image/png": "[encoded data removed]",
      "text/plain": [
       "<Figure size 432x360 with 1 Axes>"
      ]
     },
     "metadata": {
      "needs_background": "light"
     },
     "output_type": "display_data"
    }
   ],
   "source": [
    "plt.figure(figsize=(6,5))\n",
    "pos = [0,5,5,7,10.5]\n",
    "f1_scoresss=[]\n",
    "for i in f1_scoress:\n",
    "    i=round(i,3)\n",
    "    f1_scoresss.append(i)\n",
    "p=plt.bar(y_pos,f1_scoresss)\n",
    "#plt.xticks(rotation=45)\n",
    "plt.xticks(y_pos, models)\n",
    "p[1].set_color('r')\n",
    "p[2].set_color('b')\n",
    "p[3].set_color('g')\n",
    "p[4].set_color('y')\n",
    "plt.title(\"Classificatiion model Performances\")\n",
    "plt.ylabel('F1_SCores',fontsize=18)\n",
    "\n",
    "\n",
    "plt.xlabel(\"Models\",fontsize=18)\n",
    "\n",
    "for i in range(len(f1_scoresss)):\n",
    "    plt.annotate(str(f1_scoresss[i]), xy=(y_pos[i],f1_scoresss[i]))\n",
    "\n",
    "plt.show()\n"
   ]
  },
  {
   "cell_type": "markdown",
   "metadata": {},
   "source": [
    "#### Observation:\n",
    "    From Above plot we can see that all models are doing just fine\n",
    "    Logistic regression and SVM models have the highest Accuracy of around 95%\n",
    "    We will Use any one of these two and see the other plottings."
   ]
  },
  {
   "cell_type": "markdown",
   "metadata": {},
   "source": [
    "### Obtaining the top 15 positive and Negative features"
   ]
  },
  {
   "cell_type": "code",
   "execution_count": 478,
   "metadata": {},
   "outputs": [
    {
     "data": {
      "text/plain": [
       "['ability',\n",
       " 'able',\n",
       " 'able find',\n",
       " 'able get',\n",
       " 'absolute',\n",
       " 'absolute favorite',\n",
       " 'absolutely',\n",
       " 'absolutely delicious',\n",
       " 'absolutely love',\n",
       " 'absolutely loves',\n",
       " 'absolutely no',\n",
       " 'acceptable',\n",
       " 'accident',\n",
       " 'accidentally',\n",
       " 'according',\n",
       " 'accustomed',\n",
       " 'acerola',\n",
       " 'acid',\n",
       " 'acid coffee',\n",
       " 'acid reflux',\n",
       " 'acidic',\n",
       " 'acidity',\n",
       " 'acids',\n",
       " 'across',\n",
       " 'action',\n",
       " 'active',\n",
       " 'activity',\n",
       " 'actual',\n",
       " 'actually',\n",
       " 'actually good',\n",
       " 'actually like',\n",
       " 'actually taste',\n",
       " 'actually tastes',\n",
       " 'add',\n",
       " 'add little',\n",
       " 'add water',\n",
       " 'added',\n",
       " 'added bonus',\n",
       " 'added sugar',\n",
       " 'addict',\n",
       " 'addicted',\n",
       " 'addicting',\n",
       " 'addiction',\n",
       " 'addictive',\n",
       " 'adding',\n",
       " 'addition',\n",
       " 'additional',\n",
       " 'additives',\n",
       " 'address',\n",
       " 'adds',\n",
       " 'adequate',\n",
       " 'adjust',\n",
       " 'admit',\n",
       " 'adopted',\n",
       " 'adore',\n",
       " 'adult',\n",
       " 'adults',\n",
       " 'advantage',\n",
       " 'advertised',\n",
       " 'advertising',\n",
       " 'advice',\n",
       " 'affect',\n",
       " 'afford',\n",
       " 'affordable',\n",
       " 'afraid',\n",
       " 'afternoon',\n",
       " 'aftertaste',\n",
       " 'afterwards',\n",
       " 'agave',\n",
       " 'agave nectar',\n",
       " 'age',\n",
       " 'ages',\n",
       " 'ago',\n",
       " 'agree',\n",
       " 'ahead',\n",
       " 'aid',\n",
       " 'air',\n",
       " 'al',\n",
       " 'alcohol',\n",
       " 'ale',\n",
       " 'alive',\n",
       " 'allergic',\n",
       " 'allergies',\n",
       " 'allergy',\n",
       " 'allow',\n",
       " 'allowance',\n",
       " 'allowed',\n",
       " 'allows',\n",
       " 'almond',\n",
       " 'almond milk',\n",
       " 'almonds',\n",
       " 'almost',\n",
       " 'almost every',\n",
       " 'almost like',\n",
       " 'almost no',\n",
       " 'alone',\n",
       " 'along',\n",
       " 'alot',\n",
       " 'already',\n",
       " 'also',\n",
       " 'also add',\n",
       " 'also good',\n",
       " 'also great',\n",
       " 'also like',\n",
       " 'also love',\n",
       " 'also make',\n",
       " 'also makes',\n",
       " 'also not',\n",
       " 'also tried',\n",
       " 'also use',\n",
       " 'also used',\n",
       " 'alternate',\n",
       " 'alternative',\n",
       " 'alternative regular',\n",
       " 'alternatives',\n",
       " 'although',\n",
       " 'although not',\n",
       " 'altoids',\n",
       " 'aluminum',\n",
       " 'always',\n",
       " 'always looking',\n",
       " 'amazed',\n",
       " 'amazing',\n",
       " 'amazingly',\n",
       " 'amazon',\n",
       " 'amazon best',\n",
       " 'amazon com',\n",
       " 'amazon good',\n",
       " 'amazon great',\n",
       " 'amazon not',\n",
       " 'amazon price',\n",
       " 'amazon prime',\n",
       " 'amazon subscribe',\n",
       " 'amazon would',\n",
       " 'amber',\n",
       " 'america',\n",
       " 'american',\n",
       " 'among',\n",
       " 'amount',\n",
       " 'amount salt',\n",
       " 'amount time',\n",
       " 'amount water',\n",
       " 'amounts',\n",
       " 'animal',\n",
       " 'animals',\n",
       " 'annie',\n",
       " 'annoying',\n",
       " 'another',\n",
       " 'another brand',\n",
       " 'another one',\n",
       " 'another reviewer',\n",
       " 'answer',\n",
       " 'antibiotics',\n",
       " 'antioxidants',\n",
       " 'anybody',\n",
       " 'anymore',\n",
       " 'anyone',\n",
       " 'anyone looking',\n",
       " 'anything',\n",
       " 'anything else',\n",
       " 'anything like',\n",
       " 'anytime',\n",
       " 'anyway',\n",
       " 'anyways',\n",
       " 'anywhere',\n",
       " 'anywhere else',\n",
       " 'apart',\n",
       " 'apparently',\n",
       " 'appeal',\n",
       " 'appealing',\n",
       " 'appear',\n",
       " 'appeared',\n",
       " 'appears',\n",
       " 'appetite',\n",
       " 'apple',\n",
       " 'apple grape',\n",
       " 'apple juice',\n",
       " 'apples',\n",
       " 'appreciate',\n",
       " 'appreciated',\n",
       " 'appropriate',\n",
       " 'approx',\n",
       " 'approximately',\n",
       " 'area',\n",
       " 'areas',\n",
       " 'arm',\n",
       " 'aroma',\n",
       " 'aromatic',\n",
       " 'around',\n",
       " 'around house',\n",
       " 'arrive',\n",
       " 'arrived',\n",
       " 'arrived quickly',\n",
       " 'arrived time',\n",
       " 'arrives',\n",
       " 'arthritis',\n",
       " 'artificial',\n",
       " 'artificial flavors',\n",
       " 'artificial sweeteners',\n",
       " 'asian',\n",
       " 'aside',\n",
       " 'ask',\n",
       " 'asked',\n",
       " 'asking',\n",
       " 'aspartame',\n",
       " 'aspect',\n",
       " 'assam',\n",
       " 'associated',\n",
       " 'assorted',\n",
       " 'assortment',\n",
       " 'assume',\n",
       " 'assumed',\n",
       " 'assuming',\n",
       " 'ate',\n",
       " 'attempt',\n",
       " 'attention',\n",
       " 'attractive',\n",
       " 'authentic',\n",
       " 'auto',\n",
       " 'auto ship',\n",
       " 'automatic',\n",
       " 'automatically',\n",
       " 'available',\n",
       " 'available amazon',\n",
       " 'average',\n",
       " 'avid',\n",
       " 'avocado',\n",
       " 'avocado oil',\n",
       " 'avoid',\n",
       " 'aware',\n",
       " 'away',\n",
       " 'away not',\n",
       " 'awesome',\n",
       " 'awful',\n",
       " 'awhile',\n",
       " 'babies',\n",
       " 'baby',\n",
       " 'baby food',\n",
       " 'baby loves',\n",
       " 'back',\n",
       " 'bacon',\n",
       " 'bad',\n",
       " 'bad batch',\n",
       " 'bad not',\n",
       " 'bad taste',\n",
       " 'badly',\n",
       " 'bag',\n",
       " 'bag not',\n",
       " 'bag one',\n",
       " 'bagged',\n",
       " 'bags',\n",
       " 'bags not',\n",
       " 'bake',\n",
       " 'baked',\n",
       " 'baked goods',\n",
       " 'bakery',\n",
       " 'baking',\n",
       " 'baking mix',\n",
       " 'baking soda',\n",
       " 'balance',\n",
       " 'balanced',\n",
       " 'ball',\n",
       " 'balls',\n",
       " 'banana',\n",
       " 'bananas',\n",
       " 'bar',\n",
       " 'barbecue',\n",
       " 'barbeque',\n",
       " 'barely',\n",
       " 'bargain',\n",
       " 'barley',\n",
       " 'bars',\n",
       " 'base',\n",
       " 'based',\n",
       " 'based reviews',\n",
       " 'basic',\n",
       " 'basically',\n",
       " 'basil',\n",
       " 'basis',\n",
       " 'basket',\n",
       " 'batch',\n",
       " 'batches',\n",
       " 'bath',\n",
       " 'bathroom',\n",
       " 'batter',\n",
       " 'bbq',\n",
       " 'bbq flavor',\n",
       " 'bbq sauce',\n",
       " 'beach',\n",
       " 'beagle',\n",
       " 'bean',\n",
       " 'beans',\n",
       " 'bear',\n",
       " 'bears',\n",
       " 'beat',\n",
       " 'beats',\n",
       " 'beautiful',\n",
       " 'beautifully',\n",
       " 'became',\n",
       " 'become',\n",
       " 'become favorite',\n",
       " 'becomes',\n",
       " 'becoming',\n",
       " 'bed',\n",
       " 'beef',\n",
       " 'beef jerky',\n",
       " 'beer',\n",
       " 'began',\n",
       " 'begin',\n",
       " 'beginning',\n",
       " 'behind',\n",
       " 'belgian',\n",
       " 'believe',\n",
       " 'believe not',\n",
       " 'belly',\n",
       " 'beloved',\n",
       " 'benefit',\n",
       " 'benefits',\n",
       " 'bergamot',\n",
       " 'berries',\n",
       " 'berry',\n",
       " 'berry flavor',\n",
       " 'besides',\n",
       " 'best',\n",
       " 'best chips',\n",
       " 'best chocolate',\n",
       " 'best coffee',\n",
       " 'best cup',\n",
       " 'best ever',\n",
       " 'best flavor',\n",
       " 'best found',\n",
       " 'best hot',\n",
       " 'best not',\n",
       " 'best one',\n",
       " 'best part',\n",
       " 'best popcorn',\n",
       " 'best price',\n",
       " 'best tasting',\n",
       " 'best thing',\n",
       " 'best tried',\n",
       " 'best way',\n",
       " 'bet',\n",
       " 'better',\n",
       " 'better coffee',\n",
       " 'better deal',\n",
       " 'better not',\n",
       " 'better price',\n",
       " 'better quality',\n",
       " 'better regular',\n",
       " 'better tasting',\n",
       " 'betty',\n",
       " 'betty crocker',\n",
       " 'beverage',\n",
       " 'beverages',\n",
       " 'beware',\n",
       " 'beyond',\n",
       " 'big',\n",
       " 'big box',\n",
       " 'big deal',\n",
       " 'big easy',\n",
       " 'big fan',\n",
       " 'big hit',\n",
       " 'bigelow',\n",
       " 'bigger',\n",
       " 'biggest',\n",
       " 'bill',\n",
       " 'bills',\n",
       " 'birthday',\n",
       " 'biscuit',\n",
       " 'biscuits',\n",
       " 'bisquick',\n",
       " 'bit',\n",
       " 'bit expensive',\n",
       " 'bit pricey',\n",
       " 'bite',\n",
       " 'bites',\n",
       " 'bits',\n",
       " 'bitter',\n",
       " 'bitter aftertaste',\n",
       " 'bitter not',\n",
       " 'bitter taste',\n",
       " 'bitterness',\n",
       " 'black',\n",
       " 'black cherry',\n",
       " 'black licorice',\n",
       " 'black pepper',\n",
       " 'black tea',\n",
       " 'blackberry',\n",
       " 'blame',\n",
       " 'bland',\n",
       " 'blend',\n",
       " 'blend coffee',\n",
       " 'blend not',\n",
       " 'blended',\n",
       " 'blender',\n",
       " 'blends',\n",
       " 'blood',\n",
       " 'blood pressure',\n",
       " 'blood sugar',\n",
       " 'blue',\n",
       " 'blue buffalo',\n",
       " 'blue diamond',\n",
       " 'blueberries',\n",
       " 'blueberry',\n",
       " 'board',\n",
       " 'bob',\n",
       " 'bob red',\n",
       " 'bodied',\n",
       " 'body',\n",
       " 'boil',\n",
       " 'boiled',\n",
       " 'boiling',\n",
       " 'boiling water',\n",
       " 'bold',\n",
       " 'bold coffee',\n",
       " 'bold flavor',\n",
       " 'bolder',\n",
       " 'bomb',\n",
       " 'bone',\n",
       " 'boneless',\n",
       " 'bones',\n",
       " 'bonsai',\n",
       " 'bonus',\n",
       " 'book',\n",
       " 'boost',\n",
       " 'boot',\n",
       " 'bored',\n",
       " 'boring',\n",
       " 'born',\n",
       " 'bother',\n",
       " 'bottle',\n",
       " 'bottled',\n",
       " 'bottles',\n",
       " 'bottom',\n",
       " 'bottom line',\n",
       " 'bought',\n",
       " 'bought box',\n",
       " 'bought case',\n",
       " 'bought one',\n",
       " 'bought product',\n",
       " 'bought two',\n",
       " 'bowel',\n",
       " 'bowl',\n",
       " 'bowls',\n",
       " 'box',\n",
       " 'box not',\n",
       " 'boxed',\n",
       " 'boxes',\n",
       " 'boy',\n",
       " 'boyfriend',\n",
       " 'boys',\n",
       " 'bpa',\n",
       " 'brand',\n",
       " 'brand chips',\n",
       " 'brand coffee',\n",
       " 'brand not',\n",
       " 'brands',\n",
       " 'brands like',\n",
       " 'brands not',\n",
       " 'brands tried',\n",
       " 'bread',\n",
       " 'breading',\n",
       " 'breads',\n",
       " 'break',\n",
       " 'break half',\n",
       " 'breakfast',\n",
       " 'breakfast blend',\n",
       " 'breaking',\n",
       " 'breaks',\n",
       " 'breast',\n",
       " 'breath',\n",
       " 'breed',\n",
       " 'breeder',\n",
       " 'brew',\n",
       " 'brewed',\n",
       " 'brewed coffee',\n",
       " 'brewer',\n",
       " 'brewing',\n",
       " 'brews',\n",
       " 'bright',\n",
       " 'bring',\n",
       " 'bring back',\n",
       " 'brings',\n",
       " 'british',\n",
       " 'broccoli',\n",
       " 'broke',\n",
       " 'broken',\n",
       " 'broth',\n",
       " 'brother',\n",
       " 'brought',\n",
       " 'brought back',\n",
       " 'brown',\n",
       " 'brown rice',\n",
       " 'brown sugar',\n",
       " 'brownie',\n",
       " 'brownie mix',\n",
       " 'brownies',\n",
       " 'brush',\n",
       " 'btw',\n",
       " 'bubble',\n",
       " 'bubble wrap',\n",
       " 'bubbles',\n",
       " 'buck',\n",
       " 'bucket',\n",
       " 'bucks',\n",
       " 'buddy',\n",
       " 'budget',\n",
       " 'buds',\n",
       " 'buffalo',\n",
       " 'bugs',\n",
       " 'bulk',\n",
       " 'bull',\n",
       " 'bully',\n",
       " 'bunch',\n",
       " 'burn',\n",
       " 'burned',\n",
       " 'burning',\n",
       " 'burnt',\n",
       " 'burst',\n",
       " 'business',\n",
       " 'busy',\n",
       " 'butter',\n",
       " 'butter flavor',\n",
       " 'butter not',\n",
       " 'buttery',\n",
       " 'buy',\n",
       " 'buy amazon',\n",
       " 'buy another',\n",
       " 'buy bulk',\n",
       " 'buy case',\n",
       " 'buy not',\n",
       " 'buy one',\n",
       " 'buy product',\n",
       " 'buy store',\n",
       " 'buyer',\n",
       " 'buying',\n",
       " 'buying amazon',\n",
       " 'buying bulk',\n",
       " 'buying one',\n",
       " 'buying product',\n",
       " 'ca',\n",
       " 'ca not',\n",
       " 'cabinet',\n",
       " 'cacao',\n",
       " 'cafe',\n",
       " 'caffeinated',\n",
       " 'caffeine',\n",
       " 'caffeine free',\n",
       " 'cajun',\n",
       " 'cake',\n",
       " 'cakes',\n",
       " 'cal',\n",
       " 'calcium',\n",
       " 'california',\n",
       " 'call',\n",
       " 'called',\n",
       " 'calling',\n",
       " 'calls',\n",
       " 'calorie',\n",
       " 'calorie count',\n",
       " 'calories',\n",
       " 'calories fat',\n",
       " 'calories not',\n",
       " 'calories per',\n",
       " 'came',\n",
       " 'came across',\n",
       " 'came back',\n",
       " 'camping',\n",
       " 'canada',\n",
       " 'cancer',\n",
       " 'candies',\n",
       " 'candy',\n",
       " 'candy bar',\n",
       " 'cane',\n",
       " 'cane sugar',\n",
       " 'canidae',\n",
       " 'canister',\n",
       " 'canisters',\n",
       " 'canned',\n",
       " 'canned food',\n",
       " 'cannot',\n",
       " 'cannot find',\n",
       " 'cannot get',\n",
       " 'canola',\n",
       " 'canola oil',\n",
       " 'cans',\n",
       " 'cant',\n",
       " 'cap',\n",
       " 'capsules',\n",
       " 'car',\n",
       " 'caramel',\n",
       " 'carb',\n",
       " 'carb diet',\n",
       " 'carbohydrates',\n",
       " 'carbonated',\n",
       " 'carbonated fruit',\n",
       " 'carbonated juice',\n",
       " 'carbonated water',\n",
       " 'carbonation',\n",
       " 'carbs',\n",
       " 'card',\n",
       " 'cardboard',\n",
       " 'care',\n",
       " 'careful',\n",
       " 'carefully',\n",
       " 'caribou',\n",
       " 'carpet',\n",
       " 'carried',\n",
       " 'carries',\n",
       " 'carrot',\n",
       " 'carrots',\n",
       " 'carry',\n",
       " 'carrying',\n",
       " 'carton',\n",
       " 'case',\n",
       " 'case not',\n",
       " 'cases',\n",
       " 'cat',\n",
       " 'cat food',\n",
       " 'cat foods',\n",
       " 'cat loves',\n",
       " 'cat not',\n",
       " 'catch',\n",
       " 'category',\n",
       " 'catnip',\n",
       " 'cats',\n",
       " 'cats love',\n",
       " 'cats not',\n",
       " 'caught',\n",
       " 'cause',\n",
       " 'caused',\n",
       " 'causes',\n",
       " 'causing',\n",
       " 'caution',\n",
       " 'cayenne',\n",
       " 'celery',\n",
       " 'celestial',\n",
       " 'celestial seasonings',\n",
       " 'celiac',\n",
       " 'celiac disease',\n",
       " 'center',\n",
       " 'cents',\n",
       " 'cents per',\n",
       " 'cereal',\n",
       " 'cereals',\n",
       " 'certain',\n",
       " 'certainly',\n",
       " 'certainly not',\n",
       " 'certified',\n",
       " 'certified organic',\n",
       " 'chai',\n",
       " 'chai tea',\n",
       " 'chain',\n",
       " 'challenge',\n",
       " 'challenging',\n",
       " 'chamomile',\n",
       " 'chance',\n",
       " 'change',\n",
       " 'changed',\n",
       " 'changes',\n",
       " 'changing',\n",
       " 'charge',\n",
       " 'charges',\n",
       " 'cheap',\n",
       " 'cheaper',\n",
       " 'cheaper amazon',\n",
       " 'cheaper buying',\n",
       " 'cheapest',\n",
       " 'check',\n",
       " 'checked',\n",
       " 'checking',\n",
       " 'cheddar',\n",
       " 'cheese',\n",
       " 'chef',\n",
       " 'chemical',\n",
       " 'chemicals',\n",
       " 'cherry',\n",
       " 'chestnuts',\n",
       " 'chew',\n",
       " 'chewed',\n",
       " 'chewer',\n",
       " 'chewing',\n",
       " 'chews',\n",
       " 'chewy',\n",
       " 'chia',\n",
       " 'chia seeds',\n",
       " 'chick',\n",
       " 'chicken',\n",
       " 'chicken jerky',\n",
       " 'chicken pot',\n",
       " 'chihuahua',\n",
       " 'child',\n",
       " 'childhood',\n",
       " 'children',\n",
       " 'chili',\n",
       " 'chilled',\n",
       " 'china',\n",
       " 'chinese',\n",
       " 'chip',\n",
       " 'chip cookie',\n",
       " 'chip cookies',\n",
       " 'chips',\n",
       " 'chips best',\n",
       " 'chips ever',\n",
       " 'chips good',\n",
       " 'chips great',\n",
       " 'chips not',\n",
       " 'chips really',\n",
       " 'chips taste',\n",
       " 'chocolate',\n",
       " 'chocolate chip',\n",
       " 'chocolate chips',\n",
       " 'chocolate flavor',\n",
       " 'chocolate milk',\n",
       " 'chocolate not',\n",
       " 'chocolate raspberry',\n",
       " 'chocolate taste',\n",
       " 'chocolates',\n",
       " 'chocolatey',\n",
       " 'choice',\n",
       " 'choices',\n",
       " 'choke',\n",
       " 'choking',\n",
       " 'cholesterol',\n",
       " 'choose',\n",
       " 'chop',\n",
       " 'chopped',\n",
       " 'chops',\n",
       " 'chose',\n",
       " 'chow',\n",
       " 'chowder',\n",
       " 'christmas',\n",
       " 'christmas gift',\n",
       " 'chunk',\n",
       " 'chunks',\n",
       " 'chunky',\n",
       " 'cider',\n",
       " 'cinnamon',\n",
       " 'citrus',\n",
       " 'city',\n",
       " 'claim',\n",
       " 'claims',\n",
       " 'clam',\n",
       " 'class',\n",
       " 'classic',\n",
       " 'clean',\n",
       " 'cleaned',\n",
       " 'cleaner',\n",
       " 'cleaning',\n",
       " 'clear',\n",
       " 'clearly',\n",
       " 'close',\n",
       " 'closed',\n",
       " 'closer',\n",
       " 'closest',\n",
       " 'club',\n",
       " 'co',\n",
       " 'co workers',\n",
       " 'coast',\n",
       " 'coat',\n",
       " 'coated',\n",
       " 'coating',\n",
       " 'coats',\n",
       " 'coco',\n",
       " 'cocoa',\n",
       " 'coconut',\n",
       " 'coconut oil',\n",
       " 'coconut sugar',\n",
       " 'coconut water',\n",
       " 'coffe',\n",
       " 'coffee',\n",
       " 'coffee bean',\n",
       " 'coffee beans',\n",
       " 'coffee best',\n",
       " 'coffee coffee',\n",
       " 'coffee cup',\n",
       " 'coffee cups',\n",
       " 'coffee drinker',\n",
       " 'coffee drinkers',\n",
       " 'coffee ever',\n",
       " 'coffee every',\n",
       " 'coffee flavor',\n",
       " 'coffee good',\n",
       " 'coffee great',\n",
       " 'coffee grounds',\n",
       " 'coffee like',\n",
       " 'coffee love',\n",
       " 'coffee machine',\n",
       " 'coffee maker',\n",
       " 'coffee morning',\n",
       " 'coffee no',\n",
       " 'coffee not',\n",
       " 'coffee one',\n",
       " 'coffee people',\n",
       " 'coffee really',\n",
       " 'coffee shop',\n",
       " 'coffee smooth',\n",
       " 'coffee strong',\n",
       " 'coffee taste',\n",
       " 'coffee tastes',\n",
       " 'coffee tea',\n",
       " 'coffee tried',\n",
       " 'coffee without',\n",
       " 'coffee would',\n",
       " 'coffees',\n",
       " 'coke',\n",
       " 'cola',\n",
       " 'cold',\n",
       " 'cold water',\n",
       " 'collection',\n",
       " 'college',\n",
       " 'collie',\n",
       " 'colombian',\n",
       " 'color',\n",
       " 'colored',\n",
       " 'coloring',\n",
       " 'colors',\n",
       " 'com',\n",
       " 'combination',\n",
       " 'combine',\n",
       " 'combined',\n",
       " 'combo',\n",
       " 'come',\n",
       " 'come across',\n",
       " 'come back',\n",
       " 'comes',\n",
       " 'comfort',\n",
       " 'coming',\n",
       " 'coming back',\n",
       " 'comment',\n",
       " 'commented',\n",
       " 'comments',\n",
       " 'commercial',\n",
       " 'common',\n",
       " 'community',\n",
       " 'companies',\n",
       " 'company',\n",
       " 'company not',\n",
       " 'comparable',\n",
       " 'compare',\n",
       " 'compared',\n",
       " 'compares',\n",
       " 'comparing',\n",
       " 'comparison',\n",
       " 'complain',\n",
       " 'complained',\n",
       " 'complaining',\n",
       " 'complaint',\n",
       " 'complaints',\n",
       " 'complete',\n",
       " 'completely',\n",
       " 'completely different',\n",
       " 'complex',\n",
       " 'compliment',\n",
       " 'compliments',\n",
       " 'computer',\n",
       " 'con',\n",
       " 'concentrate',\n",
       " 'concentrated',\n",
       " 'concentrates',\n",
       " 'concept',\n",
       " 'concern',\n",
       " 'concerned',\n",
       " 'concerns',\n",
       " 'condition',\n",
       " 'conditions',\n",
       " 'confused',\n",
       " 'connoisseur',\n",
       " 'cons',\n",
       " 'conscious',\n",
       " 'consider',\n",
       " 'considerably',\n",
       " 'considered',\n",
       " 'considering',\n",
       " 'consistency',\n",
       " 'consistent',\n",
       " 'consistently',\n",
       " 'constant',\n",
       " 'constantly',\n",
       " 'constipation',\n",
       " 'consume',\n",
       " 'consumed',\n",
       " 'consumer',\n",
       " 'consumers',\n",
       " 'consuming',\n",
       " 'consumption',\n",
       " 'contact',\n",
       " 'contacted',\n",
       " 'contain',\n",
       " 'contained',\n",
       " 'container',\n",
       " 'containers',\n",
       " 'containing',\n",
       " 'contains',\n",
       " 'content',\n",
       " 'contents',\n",
       " 'continue',\n",
       " 'continue buy',\n",
       " 'continue purchase',\n",
       " 'continued',\n",
       " 'continues',\n",
       " 'control',\n",
       " 'convenience',\n",
       " 'convenient',\n",
       " 'conventional',\n",
       " 'cook',\n",
       " 'cooked',\n",
       " 'cooker',\n",
       " 'cookie',\n",
       " 'cookies',\n",
       " 'cookies not',\n",
       " 'cooking',\n",
       " 'cooks',\n",
       " 'cool',\n",
       " 'cooler',\n",
       " 'corn',\n",
       " 'corn syrup',\n",
       " 'corner',\n",
       " 'correct',\n",
       " 'correctly',\n",
       " 'cosmic',\n",
       " 'cost',\n",
       " 'cost effective',\n",
       " 'costco',\n",
       " 'costs',\n",
       " 'could',\n",
       " 'could buy',\n",
       " 'could eat',\n",
       " 'could find',\n",
       " 'could get',\n",
       " 'could make',\n",
       " 'could not',\n",
       " 'count',\n",
       " 'counter',\n",
       " 'country',\n",
       " 'couple',\n",
       " 'couple days',\n",
       " 'couple minutes',\n",
       " 'couple times',\n",
       " 'couple weeks',\n",
       " 'couple years',\n",
       " 'coupon',\n",
       " 'course',\n",
       " 'cover',\n",
       " 'covered',\n",
       " 'cow',\n",
       " 'cow milk',\n",
       " 'crack',\n",
       " 'cracked',\n",
       " 'cracker',\n",
       " 'crackers',\n",
       " 'cranberries',\n",
       " 'cranberry',\n",
       " 'crap',\n",
       " 'crave',\n",
       " 'craving',\n",
       " 'cravings',\n",
       " 'crazy',\n",
       " 'cream',\n",
       " 'cream cheese',\n",
       " 'cream onion',\n",
       " 'cream sugar',\n",
       " 'creamer',\n",
       " 'creamers',\n",
       " 'creamy',\n",
       " 'create',\n",
       " 'created',\n",
       " 'creates',\n",
       " 'creating',\n",
       " 'crema',\n",
       " 'creme',\n",
       " 'crisp',\n",
       " 'crisps',\n",
       " 'crispy',\n",
       " 'crocker',\n",
       " 'cross',\n",
       " 'crude',\n",
       " 'crumble',\n",
       " 'crumbled',\n",
       " 'crumbly',\n",
       " 'crumbs',\n",
       " 'crunch',\n",
       " 'crunchy',\n",
       " 'crushed',\n",
       " 'crust',\n",
       " 'crystal',\n",
       " 'crystal light',\n",
       " 'crystals',\n",
       " 'cube',\n",
       " 'cubes',\n",
       " 'cuisine',\n",
       " 'cup',\n",
       " 'cup coffee',\n",
       " 'cup hot',\n",
       " 'cup not',\n",
       " 'cup size',\n",
       " 'cup tea',\n",
       " 'cupboard',\n",
       " 'cups',\n",
       " 'cups coffee',\n",
       " ...]"
      ]
     },
     "execution_count": 478,
     "metadata": {},
     "output_type": "execute_result"
    }
   ],
   "source": [
    "# we will do this with the help of feature importance\n",
    "features=tfidf_model.get_feature_names()\n",
    "features"
   ]
  },
  {
   "cell_type": "code",
   "execution_count": 479,
   "metadata": {},
   "outputs": [
    {
     "data": {
      "text/plain": [
       "[(-12.278236934430117, 'disappointed'),\n",
       " (-11.871366881070756, 'worst'),\n",
       " (-10.162635540692436, 'not worth'),\n",
       " (-10.109123484667927, 'awful'),\n",
       " (-9.485470324392791, 'not recommend'),\n",
       " (-9.088057293094502, 'not good'),\n",
       " (-8.953316560673638, 'disappointing'),\n",
       " (-8.841175432918629, 'terrible'),\n",
       " (-8.250187448944388, 'not happy'),\n",
       " (-7.958958008540033, 'unfortunately'),\n",
       " (-7.857088025706618, 'horrible'),\n",
       " (-6.309014013841914, 'not purchase'),\n",
       " (-6.103976246063277, 'refund'),\n",
       " (-6.060896780231568, 'grounds'),\n",
       " (-5.931822807092083, 'not'),\n",
       " (-5.839185406661142, 'died'),\n",
       " (-5.75665303592066, 'hopes'),\n",
       " (-5.6648104235740515, 'weak'),\n",
       " (-5.429166250119665, 'vomiting'),\n",
       " (-5.377386431542474, 'disappointment'),\n",
       " (-5.370262730569515, 'not buy'),\n",
       " (-5.32417269995966, 'hoping'),\n",
       " (-5.234014095729726, 'bad'),\n",
       " (-5.151139501426503, 'shame'),\n",
       " (-5.0658864310757385, 'would good'),\n",
       " (-5.033577402310435, 'not buying'),\n",
       " (-4.95324232687744, 'money'),\n",
       " (-4.945609850996539, 'thinking'),\n",
       " (-4.9282190693192005, 'waste'),\n",
       " (-4.924815202010488, 'ok'),\n",
       " (-4.909847897813734, 'dead'),\n",
       " (-4.895055662934497, 'tasteless'),\n",
       " (-4.802035456107756, 'swiss miss'),\n",
       " (-4.788881581711542, 'yuck'),\n",
       " (-4.785010752010154, 'threw'),\n",
       " (-4.74426141867164, 'smelled'),\n",
       " (-4.740418157014995, 'definitely not'),\n",
       " (-4.653533390491161, 'diarrhea'),\n",
       " (-4.570127315508922, 'not order'),\n",
       " (-4.510397487301702, 'return'),\n",
       " (-4.405342202731682, 'poor'),\n",
       " (-4.397456420496564, 'stick'),\n",
       " (-4.321334104213905, 'thought'),\n",
       " (-4.219245736858809, 'plastic'),\n",
       " (-4.19593762480093, 'positive'),\n",
       " (-4.113354008796324, 'away'),\n",
       " (-4.113038584437461, 'description'),\n",
       " (-4.08029997360126, 'china'),\n",
       " (-4.017120619917095, 'chewed'),\n",
       " (-4.010322950881879, 'barely'),\n",
       " (-4.007323554611592, 'changed'),\n",
       " (-4.000916015826958, 'not great'),\n",
       " (-3.871214603846329, 'expired'),\n",
       " (-3.834374945752539, 'didnt'),\n",
       " (-3.8089405179255653, 'stale'),\n",
       " (-3.690200151905549, 'maybe'),\n",
       " (-3.660181928100105, 'never buy'),\n",
       " (-3.563265932704622, 'earth best'),\n",
       " (-3.551100419564439, 'bland'),\n",
       " (-3.4652240542555366, 'no flavor'),\n",
       " (-3.4311697032712396, 'disgusting'),\n",
       " (-3.3475393444885198, 'date'),\n",
       " (-3.246752863552435, 'would rather'),\n",
       " (-3.2340764505050243, 'burnt'),\n",
       " (-3.204266468122728, 'idea'),\n",
       " (-3.1439320210436885, 'returned'),\n",
       " (-3.11452350485587, 'soil'),\n",
       " (-3.088911251646549, 'products'),\n",
       " (-3.08077381687351, 'wasted'),\n",
       " (-3.0707533184988236, 'old'),\n",
       " (-2.9831969427007308, 'pay'),\n",
       " (-2.9280439538142784, 'baby'),\n",
       " (-2.909679905198819, 'opening'),\n",
       " (-2.899693914581189, 'contains'),\n",
       " (-2.8527830504961553, 'hates'),\n",
       " (-2.8432269912285126, 'not even'),\n",
       " (-2.8167770442178246, 'throwing'),\n",
       " (-2.8067464553204458, 'unpleasant'),\n",
       " (-2.79007548918498, 'cheap'),\n",
       " (-2.750552740428248, 'neither'),\n",
       " (-2.749022450949765, 'ended'),\n",
       " (-2.7060532181442816, 'item'),\n",
       " (-2.6449206759546064, 'excited'),\n",
       " (-2.6344184880498807, 'beware'),\n",
       " (-2.6299826860219837, 'mess'),\n",
       " (-2.5935939604709324, 'nasty'),\n",
       " (-2.5663150913509942, 'fake'),\n",
       " (-2.5637870192862353, 'guess'),\n",
       " (-2.555886762150027, 'board'),\n",
       " (-2.5437925286818546, 'would not'),\n",
       " (-2.5318656602048195, 'google'),\n",
       " (-2.522855499820866, 'no matter'),\n",
       " (-2.5221376976600074, 'opened'),\n",
       " (-2.5091450618170295, 'not taste'),\n",
       " (-2.503951915863219, 'called'),\n",
       " (-2.4532084341879687, 'throw'),\n",
       " (-2.4212981311732347, 'artificial'),\n",
       " (-2.4180597735214096, 'cases'),\n",
       " (-2.4001756681435653, 'toy'),\n",
       " (-2.3938752692496776, 'made china'),\n",
       " (-2.367324229404384, 'reviews'),\n",
       " (-2.3486612203008357, 'nothing'),\n",
       " (-2.330016860625305, 'melted'),\n",
       " (-2.3170107859290963, 'product'),\n",
       " (-2.295914310292807, 'label'),\n",
       " (-2.282017027057803, 'ingredient'),\n",
       " (-2.2607428285310256, 'returns'),\n",
       " (-2.248708521452209, 'cannot'),\n",
       " (-2.240042731039844, 'sorry'),\n",
       " (-2.236988538358078, 'avoid'),\n",
       " (-2.2218317945510497, 'taste'),\n",
       " (-2.206707656881064, 'listed'),\n",
       " (-2.176841755271641, 'jerky'),\n",
       " (-2.1616909756612, 'unless'),\n",
       " (-2.1319602662470487, 'instead'),\n",
       " (-2.115783362983406, 'tastes like'),\n",
       " (-2.1150498943691654, 'something'),\n",
       " (-2.1103284505797317, 'returning'),\n",
       " (-2.0977048916751846, 'stuck'),\n",
       " (-2.0898752715901545, 'box'),\n",
       " (-2.0887475091321397, 'going'),\n",
       " (-2.0847792387813655, 'not care'),\n",
       " (-2.0716029220973433, 'nothing like'),\n",
       " (-2.0641436612562103, 'noticed'),\n",
       " (-2.060214054456171, 'flakes'),\n",
       " (-2.0474682975123604, 'bitter'),\n",
       " (-2.0432116036096137, 'rip'),\n",
       " (-2.041079509370572, 'ounce'),\n",
       " (-2.0302727272145207, 'not help'),\n",
       " (-2.0150789975139425, 'mistake'),\n",
       " (-2.0074504561401767, 'trash'),\n",
       " (-1.9954927017831616, 'way'),\n",
       " (-1.9829507157284685, 'half price'),\n",
       " (-1.9799693157280218, 'double'),\n",
       " (-1.977204953334191, 'realized'),\n",
       " (-1.9664912085059456, 'perhaps'),\n",
       " (-1.95924738807262, 'product not'),\n",
       " (-1.9513748014255745, 'received'),\n",
       " (-1.9354708960838483, 'interested'),\n",
       " (-1.9032476211239053, 'not work'),\n",
       " (-1.8974152007861147, 'gave'),\n",
       " (-1.884955633278721, 'rope'),\n",
       " (-1.876138570243889, 'looked'),\n",
       " (-1.86846819094905, 'rancid'),\n",
       " (-1.8268039902828093, 'customer'),\n",
       " (-1.8162930718320591, 'sick'),\n",
       " (-1.814494278733199, 'truffles'),\n",
       " (-1.8130219039107438, 'okay'),\n",
       " (-1.8004387139035294, 'fructose'),\n",
       " (-1.7958984426024815, 'not one'),\n",
       " (-1.7670702035545285, 'way much'),\n",
       " (-1.7532994041719434, 'says'),\n",
       " (-1.7351562828841607, 'could'),\n",
       " (-1.6707400833452628, 'lacking'),\n",
       " (-1.647918896470784, 'rubber'),\n",
       " (-1.644449479209087, 'paid'),\n",
       " (-1.6396082142522137, 'powder'),\n",
       " (-1.6305173164665974, 'clearly'),\n",
       " (-1.6300549385482168, 'company'),\n",
       " (-1.607319155734517, 'causing'),\n",
       " (-1.595099500986638, 'back'),\n",
       " (-1.5886811662985196, 'gritty'),\n",
       " (-1.5779758884106219, 'liquid'),\n",
       " (-1.5775039522940943, 'please'),\n",
       " (-1.5708094235637697, 'not impressed'),\n",
       " (-1.5659375303158862, 'appears'),\n",
       " (-1.5542321426150558, 'no one'),\n",
       " (-1.5521647940879946, 'worse'),\n",
       " (-1.5501886130469333, 'salty'),\n",
       " (-1.5468239490662918, 'aftertaste'),\n",
       " (-1.5334921198635059, 'may'),\n",
       " (-1.5165630968338475, 'might'),\n",
       " (-1.500540256333612, 'list'),\n",
       " (-1.4944368132994472, 'left'),\n",
       " (-1.480698292129595, 'even'),\n",
       " (-1.4777025758995679, 'thrown'),\n",
       " (-1.47714210494955, 'phone'),\n",
       " (-1.4653506979988182, 'bottom'),\n",
       " (-1.4588170519935015, 'would'),\n",
       " (-1.4456268390422906, 'bought'),\n",
       " (-1.4231990342837222, 'smells'),\n",
       " (-1.4125564676597069, 'overpriced'),\n",
       " (-1.4064983347770177, 'high hopes'),\n",
       " (-1.4042507339719257, 'look'),\n",
       " (-1.401474776434317, 'salty taste'),\n",
       " (-1.3986653898097312, 'past'),\n",
       " (-1.3823054949041749, 'hard'),\n",
       " (-1.3649855026149387, 'seemed'),\n",
       " (-1.3647259602554358, 'ordered'),\n",
       " (-1.320411809682789, 'absolutely no'),\n",
       " (-1.3075740073340358, 'edible'),\n",
       " (-1.3014854313182365, 'supposed'),\n",
       " (-1.2968604628413254, 'purchased'),\n",
       " (-1.2937392890082138, 'lack'),\n",
       " (-1.2868236862385265, 'another'),\n",
       " (-1.2828469576912684, 'sugar'),\n",
       " (-1.2806386917734045, 'really wanted'),\n",
       " (-1.2762649033964921, 'happened'),\n",
       " (-1.2548127094195554, 'smell'),\n",
       " (-1.2372087029457044, 'dissapointed'),\n",
       " (-1.226469905214637, 'almost'),\n",
       " (-1.2010992779384007, 'broke'),\n",
       " (-1.188826013965545, 'oz'),\n",
       " (-1.1565573029070286, 'not expected'),\n",
       " (-1.1512188913824604, 'pod'),\n",
       " (-1.1507715226458435, 'raspberry'),\n",
       " (-1.146382610865729, 'dangerous'),\n",
       " (-1.1440252749996245, 'gerber'),\n",
       " (-1.1285185985895936, 'star'),\n",
       " (-1.1267260136488535, 'tiny'),\n",
       " (-1.1242058116012847, 'like eating'),\n",
       " (-1.1232747897744504, 'salt'),\n",
       " (-1.1185064604449415, 'sells'),\n",
       " (-1.1178626400340397, 'matter'),\n",
       " (-1.1087768739550001, 'gross'),\n",
       " (-1.1040970893865485, 'package'),\n",
       " (-1.0629308765538927, 'watery'),\n",
       " (-1.0367412964210208, 'black'),\n",
       " (-1.0299203725511092, 'popped'),\n",
       " (-1.0018260084235275, 'least'),\n",
       " (-1.0015676187509874, 'hershey'),\n",
       " (-0.9921634360376961, 'check'),\n",
       " (-0.9866281450871365, 'walmart'),\n",
       " (-0.9861959680448689, 'contact'),\n",
       " (-0.966852776231839, 'great idea'),\n",
       " (-0.9645597329831112, 'concept'),\n",
       " (-0.9315196196695537, 'flavor'),\n",
       " (-0.9277594356082469, 'chemical'),\n",
       " (-0.9160877911975569, 'rest'),\n",
       " (-0.9094555266379584, 'rather'),\n",
       " (-0.9012835020089144, 'orange'),\n",
       " (-0.8839561732750164, 'plant'),\n",
       " (-0.8611120428845715, 'ounces'),\n",
       " (-0.8489732893914496, 'actual'),\n",
       " (-0.8481369526183674, 'dont'),\n",
       " (-0.8362731696369218, 'sencha'),\n",
       " (-0.8081934079172087, 'eggnog'),\n",
       " (-0.8060375862049377, 'spent'),\n",
       " (-0.8005087022007227, 'truffle'),\n",
       " (-0.7978856685003187, 'labeled'),\n",
       " (-0.7945385895425756, 'kettle'),\n",
       " (-0.7630149313307726, 'happy baby'),\n",
       " (-0.7557326606555266, 'new'),\n",
       " (-0.7205369958958399, 'lays'),\n",
       " (-0.714446481741743, 'design'),\n",
       " (-0.7143750961581047, 'litter'),\n",
       " (-0.7071899681998411, 'lab'),\n",
       " (-0.6915526697196441, 'tasted'),\n",
       " (-0.6646932404278036, 'would never'),\n",
       " (-0.6422005203533956, 'sour'),\n",
       " (-0.6367714127442887, 'yellow'),\n",
       " (-0.6186461795906959, 'cap'),\n",
       " (-0.6166703974171996, 'either'),\n",
       " (-0.6153201847404158, 'flat'),\n",
       " (-0.5959813376510428, 'msg'),\n",
       " (-0.5923783724760125, 'four'),\n",
       " (-0.5882113224653657, 'dried'),\n",
       " (-0.5841492440704608, 'good reviews'),\n",
       " (-0.5833945349047008, 'jug'),\n",
       " (-0.5827107437818112, 'consistency'),\n",
       " (-0.5791509466840495, 'donut'),\n",
       " (-0.5731119851736354, 'dry'),\n",
       " (-0.5674559411208699, 'leaves'),\n",
       " (-0.5622772201300993, 'ill'),\n",
       " (-0.5562410275268598, 'misleading'),\n",
       " (-0.5524808115262202, 'batch'),\n",
       " (-0.5162315212220906, 'next'),\n",
       " (-0.508013235323139, 'thats'),\n",
       " (-0.5057594104549712, 'looks like'),\n",
       " (-0.49524436937974065, 'broken'),\n",
       " (-0.4923676086396592, 'like coffee'),\n",
       " (-0.48419596545770627, 'toxic'),\n",
       " (-0.4788136600764336, 'cans'),\n",
       " (-0.4779123360550386, 'mouth'),\n",
       " (-0.4737192755582836, 'sold'),\n",
       " (-0.47026522949448774, 'texture'),\n",
       " (-0.46938121201579824, 'wanted'),\n",
       " (-0.46196170847044105, 'first'),\n",
       " (-0.4598974161985383, 'boxes'),\n",
       " (-0.4587249811387985, 'carbonated'),\n",
       " (-0.4536227022397013, 'not ordering'),\n",
       " (-0.45197923070190804, 'bottle'),\n",
       " (-0.44468931108949117, 'rating'),\n",
       " (-0.44244792296262153, 'got'),\n",
       " (-0.4421246814053002, 'vomit'),\n",
       " (-0.4345848912272104, 'totally'),\n",
       " (-0.4263588846305502, 'opinion'),\n",
       " (-0.42115073333728514, 'someone'),\n",
       " (-0.4170614136659853, 'creme'),\n",
       " (-0.41439829633850217, 'soup'),\n",
       " (-0.40671265342724827, 'brand'),\n",
       " (-0.4002858795175264, 'onion'),\n",
       " (-0.3874320252531827, 'jars'),\n",
       " (-0.3867135836002242, 'feeding'),\n",
       " (-0.3800116703050179, 'flavored'),\n",
       " (-0.3748449284165156, 'low acid'),\n",
       " (-0.37460489629674804, 'problem'),\n",
       " (-0.37163709459963923, 'water'),\n",
       " (-0.3714535437196397, 'black cherry'),\n",
       " (-0.36939705749707297, 'fine'),\n",
       " (-0.368800154285591, 'however'),\n",
       " (-0.3653998735599707, 'containers'),\n",
       " (-0.35431027367983275, 'tea not'),\n",
       " (-0.34793025595742927, 'receiving'),\n",
       " (-0.3433706467207172, 'juice'),\n",
       " (-0.3426095357746508, 'holes'),\n",
       " (-0.32584877425770353, 'today'),\n",
       " (-0.3094392552689111, 'two'),\n",
       " (-0.3000674473081458, 'warehouse'),\n",
       " (-0.2893768715043378, 'bags'),\n",
       " (-0.2792163827757138, 'formula'),\n",
       " (-0.2731110647250734, 'crackers'),\n",
       " (-0.27007421435225026, 'chocolate'),\n",
       " (-0.24940852816237602, 'going back'),\n",
       " (-0.24889986209998582, 'see'),\n",
       " (-0.21593647435613747, 'touch'),\n",
       " (-0.21207852909327765, 'waste money'),\n",
       " (-0.20192730548467475, 'ingredients'),\n",
       " (-0.1983565056271912, 'trying'),\n",
       " (-0.17587130436049778, 'unit'),\n",
       " (-0.1544631150151453, 'number'),\n",
       " (-0.14556360925049477, 'minutes'),\n",
       " (-0.1437482912901217, 'original'),\n",
       " (-0.13579996706769284, 'mostly'),\n",
       " (-0.12351772047053587, 'stopped'),\n",
       " (-0.12100721681143718, 'chinese'),\n",
       " (-0.11859122516597212, 'throw away'),\n",
       " (-0.1095039283919197, 'inedible'),\n",
       " (-0.10914955532090041, 'went'),\n",
       " (-0.09610418876994171, 'less'),\n",
       " (-0.08716429070115335, 'kiwi'),\n",
       " (-0.07963276815039366, 'three'),\n",
       " (-0.057765723550900414, 'tray'),\n",
       " (-0.056401251528342466, 'said'),\n",
       " (-0.052991006384075466, 'form'),\n",
       " (-0.03664437093586664, 'no'),\n",
       " (-0.023747435152017236, 'seasoning'),\n",
       " (-0.005773603519124757, 'instructions'),\n",
       " (0.0, 'ability'),\n",
       " (0.0, 'able'),\n",
       " (0.0, 'able find'),\n",
       " (0.0, 'able get'),\n",
       " (0.0, 'absolute'),\n",
       " (0.0, 'absolute favorite'),\n",
       " (0.0, 'absolutely'),\n",
       " (0.0, 'absolutely delicious'),\n",
       " (0.0, 'absolutely love'),\n",
       " (0.0, 'absolutely loves'),\n",
       " (0.0, 'acceptable'),\n",
       " (0.0, 'accident'),\n",
       " (0.0, 'accidentally'),\n",
       " (0.0, 'according'),\n",
       " (0.0, 'accustomed'),\n",
       " (0.0, 'acerola'),\n",
       " (0.0, 'acid'),\n",
       " (0.0, 'acid coffee'),\n",
       " (0.0, 'acid reflux'),\n",
       " (0.0, 'acidic'),\n",
       " (0.0, 'acidity'),\n",
       " (0.0, 'acids'),\n",
       " (0.0, 'across'),\n",
       " (0.0, 'action'),\n",
       " (0.0, 'active'),\n",
       " (0.0, 'activity'),\n",
       " (0.0, 'actually'),\n",
       " (0.0, 'actually good'),\n",
       " (0.0, 'actually like'),\n",
       " (0.0, 'actually taste'),\n",
       " (0.0, 'actually tastes'),\n",
       " (0.0, 'add little'),\n",
       " (0.0, 'add water'),\n",
       " (0.0, 'added bonus'),\n",
       " (0.0, 'added sugar'),\n",
       " (0.0, 'addict'),\n",
       " (0.0, 'addicting'),\n",
       " (0.0, 'addiction'),\n",
       " (0.0, 'addictive'),\n",
       " (0.0, 'adding'),\n",
       " (0.0, 'addition'),\n",
       " (0.0, 'additional'),\n",
       " (0.0, 'additives'),\n",
       " (0.0, 'address'),\n",
       " (0.0, 'adequate'),\n",
       " (0.0, 'adjust'),\n",
       " (0.0, 'admit'),\n",
       " (0.0, 'adopted'),\n",
       " (0.0, 'adore'),\n",
       " (0.0, 'adult'),\n",
       " (0.0, 'adults'),\n",
       " (0.0, 'advantage'),\n",
       " (0.0, 'advertised'),\n",
       " (0.0, 'advertising'),\n",
       " (0.0, 'advice'),\n",
       " (0.0, 'affect'),\n",
       " (0.0, 'afford'),\n",
       " (0.0, 'affordable'),\n",
       " (0.0, 'afraid'),\n",
       " (0.0, 'afternoon'),\n",
       " (0.0, 'afterwards'),\n",
       " (0.0, 'agave'),\n",
       " (0.0, 'agave nectar'),\n",
       " (0.0, 'age'),\n",
       " (0.0, 'ages'),\n",
       " (0.0, 'ago'),\n",
       " (0.0, 'agree'),\n",
       " (0.0, 'ahead'),\n",
       " (0.0, 'aid'),\n",
       " (0.0, 'air'),\n",
       " (0.0, 'al'),\n",
       " (0.0, 'alcohol'),\n",
       " (0.0, 'ale'),\n",
       " (0.0, 'alive'),\n",
       " (0.0, 'allergic'),\n",
       " (0.0, 'allergies'),\n",
       " (0.0, 'allergy'),\n",
       " (0.0, 'allow'),\n",
       " (0.0, 'allowance'),\n",
       " (0.0, 'allowed'),\n",
       " (0.0, 'allows'),\n",
       " (0.0, 'almond milk'),\n",
       " (0.0, 'almost every'),\n",
       " (0.0, 'almost like'),\n",
       " (0.0, 'almost no'),\n",
       " (0.0, 'alone'),\n",
       " (0.0, 'along'),\n",
       " (0.0, 'already'),\n",
       " (0.0, 'also add'),\n",
       " (0.0, 'also good'),\n",
       " (0.0, 'also great'),\n",
       " (0.0, 'also like'),\n",
       " (0.0, 'also love'),\n",
       " (0.0, 'also make'),\n",
       " (0.0, 'also makes'),\n",
       " (0.0, 'also not'),\n",
       " (0.0, 'also tried'),\n",
       " (0.0, 'also use'),\n",
       " (0.0, 'also used'),\n",
       " (0.0, 'alternate'),\n",
       " (0.0, 'alternative'),\n",
       " (0.0, 'alternative regular'),\n",
       " (0.0, 'alternatives'),\n",
       " (0.0, 'although'),\n",
       " (0.0, 'although not'),\n",
       " (0.0, 'altoids'),\n",
       " (0.0, 'aluminum'),\n",
       " (0.0, 'always looking'),\n",
       " (0.0, 'amazed'),\n",
       " (0.0, 'amazingly'),\n",
       " (0.0, 'amazon best'),\n",
       " (0.0, 'amazon com'),\n",
       " (0.0, 'amazon good'),\n",
       " (0.0, 'amazon great'),\n",
       " (0.0, 'amazon not'),\n",
       " (0.0, 'amazon price'),\n",
       " (0.0, 'amazon prime'),\n",
       " (0.0, 'amazon subscribe'),\n",
       " (0.0, 'amazon would'),\n",
       " (0.0, 'amber'),\n",
       " (0.0, 'america'),\n",
       " (0.0, 'american'),\n",
       " (0.0, 'among'),\n",
       " (0.0, 'amount'),\n",
       " (0.0, 'amount salt'),\n",
       " (0.0, 'amount time'),\n",
       " (0.0, 'amount water'),\n",
       " (0.0, 'amounts'),\n",
       " (0.0, 'animal'),\n",
       " (0.0, 'animals'),\n",
       " (0.0, 'annie'),\n",
       " (0.0, 'annoying'),\n",
       " (0.0, 'another brand'),\n",
       " (0.0, 'another one'),\n",
       " (0.0, 'another reviewer'),\n",
       " (0.0, 'answer'),\n",
       " (0.0, 'antibiotics'),\n",
       " (0.0, 'antioxidants'),\n",
       " (0.0, 'anybody'),\n",
       " (0.0, 'anymore'),\n",
       " (0.0, 'anyone'),\n",
       " (0.0, 'anyone looking'),\n",
       " (0.0, 'anything'),\n",
       " (0.0, 'anything else'),\n",
       " (0.0, 'anything like'),\n",
       " (0.0, 'anytime'),\n",
       " (0.0, 'anyway'),\n",
       " (0.0, 'anyways'),\n",
       " (0.0, 'anywhere else'),\n",
       " (0.0, 'apart'),\n",
       " (0.0, 'apparently'),\n",
       " (0.0, 'appeal'),\n",
       " (0.0, 'appealing'),\n",
       " (0.0, 'appear'),\n",
       " (0.0, 'appeared'),\n",
       " (0.0, 'appetite'),\n",
       " (0.0, 'apple'),\n",
       " (0.0, 'apple grape'),\n",
       " (0.0, 'apple juice'),\n",
       " (0.0, 'apples'),\n",
       " (0.0, 'appreciate'),\n",
       " (0.0, 'appreciated'),\n",
       " (0.0, 'appropriate'),\n",
       " (0.0, 'approx'),\n",
       " (0.0, 'approximately'),\n",
       " (0.0, 'area'),\n",
       " (0.0, 'areas'),\n",
       " (0.0, 'arm'),\n",
       " (0.0, 'aroma'),\n",
       " (0.0, 'aromatic'),\n",
       " (0.0, 'around house'),\n",
       " (0.0, 'arrive'),\n",
       " (0.0, 'arrived quickly'),\n",
       " (0.0, 'arrived time'),\n",
       " (0.0, 'arrives'),\n",
       " (0.0, 'arthritis'),\n",
       " (0.0, 'artificial flavors'),\n",
       " (0.0, 'artificial sweeteners'),\n",
       " (0.0, 'asian'),\n",
       " (0.0, 'aside'),\n",
       " (0.0, 'ask'),\n",
       " (0.0, 'asked'),\n",
       " (0.0, 'asking'),\n",
       " (0.0, 'aspartame'),\n",
       " (0.0, 'aspect'),\n",
       " (0.0, 'assam'),\n",
       " (0.0, 'associated'),\n",
       " (0.0, 'assorted'),\n",
       " (0.0, 'assortment'),\n",
       " (0.0, 'assume'),\n",
       " (0.0, 'assumed'),\n",
       " (0.0, 'assuming'),\n",
       " (0.0, 'ate'),\n",
       " (0.0, 'attempt'),\n",
       " (0.0, 'attention'),\n",
       " (0.0, 'attractive'),\n",
       " (0.0, 'authentic'),\n",
       " (0.0, 'auto'),\n",
       " (0.0, 'auto ship'),\n",
       " (0.0, 'automatic'),\n",
       " (0.0, 'automatically'),\n",
       " (0.0, 'available amazon'),\n",
       " (0.0, 'average'),\n",
       " (0.0, 'avid'),\n",
       " (0.0, 'avocado'),\n",
       " (0.0, 'avocado oil'),\n",
       " (0.0, 'aware'),\n",
       " (0.0, 'away not'),\n",
       " (0.0, 'awhile'),\n",
       " (0.0, 'babies'),\n",
       " (0.0, 'baby food'),\n",
       " (0.0, 'baby loves'),\n",
       " (0.0, 'bacon'),\n",
       " (0.0, 'bad batch'),\n",
       " (0.0, 'bad not'),\n",
       " (0.0, 'bad taste'),\n",
       " (0.0, 'badly'),\n",
       " (0.0, 'bag not'),\n",
       " (0.0, 'bag one'),\n",
       " (0.0, 'bagged'),\n",
       " (0.0, 'bags not'),\n",
       " (0.0, 'baked'),\n",
       " (0.0, 'baked goods'),\n",
       " (0.0, 'bakery'),\n",
       " (0.0, 'baking'),\n",
       " (0.0, 'baking mix'),\n",
       " (0.0, 'baking soda'),\n",
       " (0.0, 'balance'),\n",
       " (0.0, 'balanced'),\n",
       " (0.0, 'ball'),\n",
       " (0.0, 'balls'),\n",
       " (0.0, 'banana'),\n",
       " (0.0, 'bananas'),\n",
       " (0.0, 'bar'),\n",
       " (0.0, 'barbecue'),\n",
       " (0.0, 'barbeque'),\n",
       " (0.0, 'bargain'),\n",
       " (0.0, 'barley'),\n",
       " (0.0, 'bars'),\n",
       " (0.0, 'base'),\n",
       " (0.0, 'based'),\n",
       " (0.0, 'based reviews'),\n",
       " (0.0, 'basic'),\n",
       " (0.0, 'basically'),\n",
       " (0.0, 'basil'),\n",
       " (0.0, 'basis'),\n",
       " (0.0, 'basket'),\n",
       " (0.0, 'batches'),\n",
       " (0.0, 'bath'),\n",
       " (0.0, 'bathroom'),\n",
       " (0.0, 'batter'),\n",
       " (0.0, 'bbq'),\n",
       " (0.0, 'bbq flavor'),\n",
       " (0.0, 'bbq sauce'),\n",
       " (0.0, 'beach'),\n",
       " (0.0, 'beagle'),\n",
       " (0.0, 'bean'),\n",
       " (0.0, 'bear'),\n",
       " (0.0, 'bears'),\n",
       " (0.0, 'beats'),\n",
       " (0.0, 'beautifully'),\n",
       " (0.0, 'became'),\n",
       " (0.0, 'become favorite'),\n",
       " (0.0, 'becomes'),\n",
       " (0.0, 'becoming'),\n",
       " (0.0, 'bed'),\n",
       " (0.0, 'beef'),\n",
       " (0.0, 'beef jerky'),\n",
       " (0.0, 'beer'),\n",
       " (0.0, 'began'),\n",
       " (0.0, 'begin'),\n",
       " (0.0, 'beginning'),\n",
       " (0.0, 'behind'),\n",
       " (0.0, 'belgian'),\n",
       " (0.0, 'believe'),\n",
       " (0.0, 'believe not'),\n",
       " (0.0, 'belly'),\n",
       " (0.0, 'beloved'),\n",
       " (0.0, 'benefit'),\n",
       " (0.0, 'benefits'),\n",
       " (0.0, 'bergamot'),\n",
       " (0.0, 'berries'),\n",
       " (0.0, 'berry'),\n",
       " (0.0, 'berry flavor'),\n",
       " (0.0, 'besides'),\n",
       " (0.0, 'best chips'),\n",
       " (0.0, 'best chocolate'),\n",
       " (0.0, 'best coffee'),\n",
       " (0.0, 'best cup'),\n",
       " (0.0, 'best ever'),\n",
       " (0.0, 'best flavor'),\n",
       " (0.0, 'best found'),\n",
       " (0.0, 'best hot'),\n",
       " (0.0, 'best not'),\n",
       " (0.0, 'best one'),\n",
       " (0.0, 'best part'),\n",
       " (0.0, 'best popcorn'),\n",
       " (0.0, 'best price'),\n",
       " (0.0, 'best tasting'),\n",
       " (0.0, 'best thing'),\n",
       " (0.0, 'best tried'),\n",
       " (0.0, 'best way'),\n",
       " (0.0, 'bet'),\n",
       " (0.0, 'better'),\n",
       " (0.0, 'better coffee'),\n",
       " (0.0, 'better deal'),\n",
       " (0.0, 'better not'),\n",
       " (0.0, 'better price'),\n",
       " (0.0, 'better quality'),\n",
       " (0.0, 'better regular'),\n",
       " (0.0, 'better tasting'),\n",
       " (0.0, 'betty'),\n",
       " (0.0, 'betty crocker'),\n",
       " (0.0, 'beverage'),\n",
       " (0.0, 'beverages'),\n",
       " (0.0, 'beyond'),\n",
       " (0.0, 'big'),\n",
       " (0.0, 'big box'),\n",
       " (0.0, 'big deal'),\n",
       " (0.0, 'big easy'),\n",
       " (0.0, 'big fan'),\n",
       " (0.0, 'big hit'),\n",
       " (0.0, 'bigelow'),\n",
       " (0.0, 'bigger'),\n",
       " (0.0, 'biggest'),\n",
       " (0.0, 'bill'),\n",
       " (0.0, 'bills'),\n",
       " (0.0, 'birthday'),\n",
       " (0.0, 'biscuit'),\n",
       " (0.0, 'bisquick'),\n",
       " (0.0, 'bit expensive'),\n",
       " (0.0, 'bit pricey'),\n",
       " (0.0, 'bite'),\n",
       " (0.0, 'bites'),\n",
       " (0.0, 'bits'),\n",
       " (0.0, 'bitter aftertaste'),\n",
       " (0.0, 'bitter not'),\n",
       " (0.0, 'bitter taste'),\n",
       " (0.0, 'bitterness'),\n",
       " (0.0, 'black licorice'),\n",
       " (0.0, 'black pepper'),\n",
       " (0.0, 'black tea'),\n",
       " (0.0, 'blackberry'),\n",
       " (0.0, 'blame'),\n",
       " (0.0, 'blend coffee'),\n",
       " (0.0, 'blend not'),\n",
       " (0.0, 'blended'),\n",
       " (0.0, 'blender'),\n",
       " (0.0, 'blends'),\n",
       " (0.0, 'blood'),\n",
       " (0.0, 'blood pressure'),\n",
       " (0.0, 'blood sugar'),\n",
       " (0.0, 'blue'),\n",
       " (0.0, 'blue buffalo'),\n",
       " (0.0, 'blue diamond'),\n",
       " (0.0, 'blueberries'),\n",
       " (0.0, 'blueberry'),\n",
       " (0.0, 'bob'),\n",
       " (0.0, 'bob red'),\n",
       " (0.0, 'bodied'),\n",
       " (0.0, 'body'),\n",
       " (0.0, 'boil'),\n",
       " (0.0, 'boiled'),\n",
       " (0.0, 'boiling'),\n",
       " (0.0, 'boiling water'),\n",
       " (0.0, 'bold coffee'),\n",
       " (0.0, 'bold flavor'),\n",
       " (0.0, 'bolder'),\n",
       " (0.0, 'bomb'),\n",
       " (0.0, 'bone'),\n",
       " (0.0, 'boneless'),\n",
       " (0.0, 'bones'),\n",
       " (0.0, 'bonsai'),\n",
       " (0.0, 'bonus'),\n",
       " (0.0, 'book'),\n",
       " (0.0, 'boost'),\n",
       " (0.0, 'boot'),\n",
       " (0.0, 'bored'),\n",
       " (0.0, 'boring'),\n",
       " (0.0, 'born'),\n",
       " (0.0, 'bother'),\n",
       " (0.0, 'bottled'),\n",
       " (0.0, 'bottom line'),\n",
       " (0.0, 'bought box'),\n",
       " (0.0, 'bought case'),\n",
       " (0.0, 'bought one'),\n",
       " (0.0, 'bought product'),\n",
       " (0.0, 'bought two'),\n",
       " (0.0, 'bowel'),\n",
       " (0.0, 'bowl'),\n",
       " (0.0, 'bowls'),\n",
       " (0.0, 'box not'),\n",
       " (0.0, 'boxed'),\n",
       " (0.0, 'boy'),\n",
       " (0.0, 'boyfriend'),\n",
       " (0.0, 'boys'),\n",
       " (0.0, 'bpa'),\n",
       " (0.0, 'brand chips'),\n",
       " (0.0, 'brand coffee'),\n",
       " (0.0, 'brand not'),\n",
       " (0.0, 'brands'),\n",
       " (0.0, 'brands like'),\n",
       " (0.0, 'brands not'),\n",
       " (0.0, 'brands tried'),\n",
       " (0.0, 'bread'),\n",
       " (0.0, 'breading'),\n",
       " (0.0, 'breads'),\n",
       " (0.0, 'break'),\n",
       " (0.0, 'break half'),\n",
       " (0.0, 'breakfast blend'),\n",
       " (0.0, 'breaking'),\n",
       " (0.0, 'breaks'),\n",
       " (0.0, 'breast'),\n",
       " (0.0, 'breed'),\n",
       " (0.0, 'breeder'),\n",
       " (0.0, 'brew'),\n",
       " (0.0, 'brewed'),\n",
       " (0.0, 'brewed coffee'),\n",
       " (0.0, 'brewer'),\n",
       " (0.0, 'brewing'),\n",
       " (0.0, 'brews'),\n",
       " (0.0, 'bright'),\n",
       " (0.0, 'bring'),\n",
       " (0.0, 'bring back'),\n",
       " (0.0, 'brings'),\n",
       " (0.0, 'british'),\n",
       " (0.0, 'broccoli'),\n",
       " (0.0, 'broth'),\n",
       " (0.0, 'brother'),\n",
       " (0.0, 'brought'),\n",
       " (0.0, 'brought back'),\n",
       " (0.0, 'brown'),\n",
       " (0.0, 'brown rice'),\n",
       " (0.0, 'brownie'),\n",
       " (0.0, 'brownie mix'),\n",
       " (0.0, 'brownies'),\n",
       " (0.0, 'brush'),\n",
       " (0.0, 'btw'),\n",
       " (0.0, 'bubble'),\n",
       " (0.0, 'bubble wrap'),\n",
       " (0.0, 'bubbles'),\n",
       " (0.0, 'buck'),\n",
       " (0.0, 'bucket'),\n",
       " (0.0, 'bucks'),\n",
       " (0.0, 'buddy'),\n",
       " (0.0, 'budget'),\n",
       " (0.0, 'buds'),\n",
       " (0.0, 'buffalo'),\n",
       " (0.0, 'bugs'),\n",
       " (0.0, 'bull'),\n",
       " (0.0, 'bully'),\n",
       " (0.0, 'bunch'),\n",
       " (0.0, 'burn'),\n",
       " (0.0, 'burned'),\n",
       " (0.0, 'burning'),\n",
       " (0.0, 'burst'),\n",
       " (0.0, 'business'),\n",
       " (0.0, 'busy'),\n",
       " (0.0, 'butter flavor'),\n",
       " (0.0, 'butter not'),\n",
       " (0.0, 'buttery'),\n",
       " (0.0, 'buy amazon'),\n",
       " (0.0, 'buy another'),\n",
       " (0.0, 'buy bulk'),\n",
       " (0.0, 'buy case'),\n",
       " (0.0, 'buy not'),\n",
       " (0.0, 'buy one'),\n",
       " (0.0, 'buy product'),\n",
       " (0.0, 'buy store'),\n",
       " (0.0, 'buyer'),\n",
       " (0.0, 'buying'),\n",
       " (0.0, 'buying amazon'),\n",
       " (0.0, 'buying bulk'),\n",
       " (0.0, 'buying one'),\n",
       " (0.0, 'buying product'),\n",
       " (0.0, 'ca not'),\n",
       " (0.0, 'cabinet'),\n",
       " (0.0, 'cacao'),\n",
       " (0.0, 'cafe'),\n",
       " (0.0, 'caffeinated'),\n",
       " (0.0, 'caffeine'),\n",
       " (0.0, 'caffeine free'),\n",
       " (0.0, 'cajun'),\n",
       " (0.0, 'cake'),\n",
       " (0.0, 'cakes'),\n",
       " (0.0, 'cal'),\n",
       " (0.0, 'calcium'),\n",
       " (0.0, 'california'),\n",
       " (0.0, 'call'),\n",
       " (0.0, 'calling'),\n",
       " (0.0, 'calls'),\n",
       " (0.0, 'calorie count'),\n",
       " (0.0, 'calories fat'),\n",
       " (0.0, 'calories not'),\n",
       " (0.0, 'calories per'),\n",
       " (0.0, 'came across'),\n",
       " (0.0, 'came back'),\n",
       " (0.0, 'camping'),\n",
       " (0.0, 'canada'),\n",
       " (0.0, 'cancer'),\n",
       " (0.0, 'candies'),\n",
       " (0.0, 'candy'),\n",
       " (0.0, 'candy bar'),\n",
       " (0.0, 'cane'),\n",
       " (0.0, 'cane sugar'),\n",
       " (0.0, 'canidae'),\n",
       " (0.0, 'canister'),\n",
       " (0.0, 'canisters'),\n",
       " (0.0, 'canned'),\n",
       " (0.0, 'canned food'),\n",
       " (0.0, 'cannot find'),\n",
       " (0.0, 'cannot get'),\n",
       " (0.0, 'canola'),\n",
       " (0.0, 'canola oil'),\n",
       " (0.0, 'cant'),\n",
       " (0.0, 'capsules'),\n",
       " (0.0, 'car'),\n",
       " (0.0, 'caramel'),\n",
       " (0.0, 'carb'),\n",
       " (0.0, 'carb diet'),\n",
       " (0.0, 'carbohydrates'),\n",
       " (0.0, 'carbonated fruit'),\n",
       " (0.0, 'carbonated juice'),\n",
       " (0.0, 'carbonated water'),\n",
       " (0.0, 'carbonation'),\n",
       " (0.0, 'carbs'),\n",
       " (0.0, 'card'),\n",
       " (0.0, 'cardboard'),\n",
       " (0.0, 'care'),\n",
       " (0.0, 'careful'),\n",
       " (0.0, 'carefully'),\n",
       " (0.0, 'caribou'),\n",
       " (0.0, 'carpet'),\n",
       " (0.0, 'carried'),\n",
       " (0.0, 'carries'),\n",
       " (0.0, 'carrot'),\n",
       " (0.0, 'carrots'),\n",
       " (0.0, 'carton'),\n",
       " (0.0, 'case'),\n",
       " (0.0, 'case not'),\n",
       " (0.0, 'cat'),\n",
       " (0.0, 'cat food'),\n",
       " (0.0, 'cat foods'),\n",
       " (0.0, 'cat loves'),\n",
       " (0.0, 'cat not'),\n",
       " (0.0, 'catch'),\n",
       " (0.0, 'category'),\n",
       " (0.0, 'catnip'),\n",
       " (0.0, 'cats'),\n",
       " (0.0, 'cats love'),\n",
       " (0.0, 'cats not'),\n",
       " (0.0, 'caught'),\n",
       " (0.0, 'cause'),\n",
       " (0.0, 'caused'),\n",
       " (0.0, 'causes'),\n",
       " (0.0, 'caution'),\n",
       " (0.0, 'cayenne'),\n",
       " (0.0, 'celery'),\n",
       " (0.0, 'celestial'),\n",
       " (0.0, 'celestial seasonings'),\n",
       " (0.0, 'celiac'),\n",
       " (0.0, 'celiac disease'),\n",
       " (0.0, 'center'),\n",
       " (0.0, 'cents'),\n",
       " (0.0, 'cents per'),\n",
       " (0.0, 'cereal'),\n",
       " (0.0, 'cereals'),\n",
       " (0.0, 'certain'),\n",
       " (0.0, 'certainly'),\n",
       " (0.0, 'certainly not'),\n",
       " (0.0, 'certified'),\n",
       " (0.0, 'certified organic'),\n",
       " (0.0, 'chai'),\n",
       " (0.0, 'chai tea'),\n",
       " (0.0, 'chain'),\n",
       " (0.0, 'challenge'),\n",
       " (0.0, 'challenging'),\n",
       " (0.0, 'chamomile'),\n",
       " (0.0, 'chance'),\n",
       " (0.0, 'change'),\n",
       " (0.0, 'changes'),\n",
       " (0.0, 'changing'),\n",
       " (0.0, 'charge'),\n",
       " (0.0, 'charges'),\n",
       " (0.0, 'cheaper'),\n",
       " (0.0, 'cheaper amazon'),\n",
       " (0.0, 'cheaper buying'),\n",
       " (0.0, 'cheapest'),\n",
       " (0.0, 'checked'),\n",
       " (0.0, 'checking'),\n",
       " (0.0, 'cheddar'),\n",
       " (0.0, 'cheese'),\n",
       " (0.0, 'chef'),\n",
       " (0.0, 'chemicals'),\n",
       " (0.0, 'cherry'),\n",
       " (0.0, 'chestnuts'),\n",
       " (0.0, 'chew'),\n",
       " (0.0, 'chewer'),\n",
       " (0.0, 'chewing'),\n",
       " (0.0, 'chews'),\n",
       " (0.0, 'chewy'),\n",
       " (0.0, 'chia'),\n",
       " (0.0, 'chia seeds'),\n",
       " (0.0, 'chick'),\n",
       " (0.0, 'chicken'),\n",
       " (0.0, 'chicken jerky'),\n",
       " (0.0, 'chicken pot'),\n",
       " (0.0, 'chihuahua'),\n",
       " (0.0, 'child'),\n",
       " (0.0, 'childhood'),\n",
       " (0.0, 'children'),\n",
       " (0.0, 'chili'),\n",
       " (0.0, 'chilled'),\n",
       " (0.0, 'chip cookie'),\n",
       " (0.0, 'chip cookies'),\n",
       " (0.0, 'chips'),\n",
       " (0.0, 'chips best'),\n",
       " (0.0, 'chips ever'),\n",
       " (0.0, 'chips good'),\n",
       " (0.0, 'chips great'),\n",
       " (0.0, 'chips not'),\n",
       " (0.0, 'chips really'),\n",
       " (0.0, 'chips taste'),\n",
       " (0.0, 'chocolate chip'),\n",
       " (0.0, 'chocolate chips'),\n",
       " (0.0, 'chocolate flavor'),\n",
       " (0.0, 'chocolate milk'),\n",
       " (0.0, 'chocolate not'),\n",
       " (0.0, 'chocolate raspberry'),\n",
       " (0.0, 'chocolate taste'),\n",
       " (0.0, 'chocolates'),\n",
       " (0.0, 'chocolatey'),\n",
       " (0.0, 'choices'),\n",
       " (0.0, 'choke'),\n",
       " (0.0, 'choking'),\n",
       " (0.0, 'cholesterol'),\n",
       " (0.0, 'choose'),\n",
       " (0.0, 'chop'),\n",
       " (0.0, 'chopped'),\n",
       " (0.0, 'chops'),\n",
       " (0.0, 'chose'),\n",
       " (0.0, 'chow'),\n",
       " (0.0, 'chowder'),\n",
       " (0.0, 'christmas gift'),\n",
       " (0.0, 'chunk'),\n",
       " (0.0, 'chunks'),\n",
       " (0.0, 'chunky'),\n",
       " (0.0, 'cider'),\n",
       " (0.0, 'cinnamon'),\n",
       " (0.0, 'citrus'),\n",
       " (0.0, 'city'),\n",
       " (0.0, 'claim'),\n",
       " (0.0, 'claims'),\n",
       " (0.0, 'clam'),\n",
       " (0.0, 'class'),\n",
       " (0.0, 'classic'),\n",
       " (0.0, 'clean'),\n",
       " (0.0, 'cleaned'),\n",
       " (0.0, 'cleaner'),\n",
       " (0.0, 'cleaning'),\n",
       " (0.0, 'clear'),\n",
       " (0.0, 'close'),\n",
       " ...]"
      ]
     },
     "execution_count": 479,
     "metadata": {},
     "output_type": "execute_result"
    }
   ],
   "source": [
    "feature_weights=sorted(zip(lr_model.coef_[0],features))\n",
    "feature_weights"
   ]
  },
  {
   "cell_type": "code",
   "execution_count": 497,
   "metadata": {},
   "outputs": [
    {
     "data": {
      "text/plain": [
       "[(-12.278236934430117, 'disappointed'),\n",
       " (-11.871366881070756, 'worst'),\n",
       " (-10.162635540692436, 'not worth'),\n",
       " (-10.109123484667927, 'awful'),\n",
       " (-9.485470324392791, 'not recommend'),\n",
       " (-9.088057293094502, 'not good'),\n",
       " (-8.953316560673638, 'disappointing'),\n",
       " (-8.841175432918629, 'terrible'),\n",
       " (-8.250187448944388, 'not happy'),\n",
       " (-7.958958008540033, 'unfortunately'),\n",
       " (-7.857088025706618, 'horrible'),\n",
       " (-6.309014013841914, 'not purchase'),\n",
       " (-6.103976246063277, 'refund'),\n",
       " (-6.060896780231568, 'grounds'),\n",
       " (-5.931822807092083, 'not')]"
      ]
     },
     "execution_count": 497,
     "metadata": {},
     "output_type": "execute_result"
    }
   ],
   "source": [
    "neg_15=feature_weights[:15]\n",
    "neg_15"
   ]
  },
  {
   "cell_type": "code",
   "execution_count": 499,
   "metadata": {},
   "outputs": [
    {
     "data": {
      "text/plain": [
       "[(6.62785484346924, 'amazing'),\n",
       " (6.73775403941133, 'wonderful'),\n",
       " (6.764031941667135, 'hooked'),\n",
       " (6.772357936259725, 'happy'),\n",
       " (6.84083910558103, 'glad'),\n",
       " (6.907705694697376, 'nice'),\n",
       " (8.21049519452401, 'love'),\n",
       " (9.066862049668465, 'loves'),\n",
       " (9.161968297786343, 'excellent'),\n",
       " (9.56610180585917, 'perfect'),\n",
       " (9.8332982788538, 'good'),\n",
       " (10.62382518507478, 'best'),\n",
       " (11.702528925341307, 'delicious'),\n",
       " (12.124733301348027, 'great'),\n",
       " (14.996203390090008, 'not disappointed')]"
      ]
     },
     "execution_count": 499,
     "metadata": {},
     "output_type": "execute_result"
    }
   ],
   "source": [
    "pos_15=feature_weights[-15:]\n",
    "pos_15"
   ]
  },
  {
   "cell_type": "code",
   "execution_count": 507,
   "metadata": {},
   "outputs": [
    {
     "data": {
      "image/png": "[encoded data removed]",
      "text/plain": [
       "<Figure size 720x576 with 1 Axes>"
      ]
     },
     "metadata": {
      "needs_background": "light"
     },
     "output_type": "display_data"
    }
   ],
   "source": [
    "from wordcloud import WordCloud,STOPWORDS,ImageColorGenerator\n",
    "plt.figure(figsize=(10,8))\n",
    "#Create and generate a word cloud for positive and negative words\n",
    "word_cloud=WordCloud(max_words=20,background_color='white').generate(str(pos_15))\n",
    "plt.imshow(word_cloud, interpolation='bilinear')\n",
    "plt.suptitle('Top 15 Positive Words', size=18, y=0.85,color='b'); \n",
    "plt.axis(\"off\")\n",
    "plt.savefig(\"positive_wordcloud.png\")\n",
    "plt.show()"
   ]
  },
  {
   "cell_type": "code",
   "execution_count": 505,
   "metadata": {},
   "outputs": [
    {
     "data": {
      "image/png": "[encoded data removed]",
      "text/plain": [
       "<Figure size 720x576 with 1 Axes>"
      ]
     },
     "metadata": {
      "needs_background": "light"
     },
     "output_type": "display_data"
    }
   ],
   "source": [
    "plt.figure(figsize=(10,8))\n",
    "#Create and generate a word cloud for positive and negative words\n",
    "word_cloud=WordCloud(max_words=20,background_color='white').generate(str(neg_15))\n",
    "plt.imshow(word_cloud, interpolation='bilinear')\n",
    "#plt.title(\"Top 10 Negative images\",fontsize=18)\n",
    "plt.axis(\"off\")\n",
    "plt.suptitle('Top 15 Negative Words', size=18, y=0.85,color='r');      \n",
    "plt.savefig('negative_wordcloud.png')\n",
    "plt.show()\n"
   ]
  },
  {
   "cell_type": "code",
   "execution_count": null,
   "metadata": {},
   "outputs": [],
   "source": []
  }
 ],
 "metadata": {
  "kernelspec": {
   "display_name": "Python 3",
   "language": "python",
   "name": "python3"
  },
  "language_info": {
   "codemirror_mode": {
    "name": "ipython",
    "version": 3
   },
   "file_extension": ".py",
   "mimetype": "text/x-python",
   "name": "python",
   "nbconvert_exporter": "python",
   "pygments_lexer": "ipython3",
   "version": "3.7.4"
  }
 },
 "nbformat": 4,
 "nbformat_minor": 2
}

{
 "cells": [
  {
   "cell_type": "code",
   "execution_count": 4,
   "metadata": {},
   "outputs": [],
   "source": [
    "#import all necessary packages\n",
    "import pandas as pd\n",
    "import numpy as np\n",
    "import matplotlib.pyplot as plt\n",
    "\n",
    "from sklearn.neighbors import KNeighborsClassifier\n",
    "from sklearn.linear_model import LogisticRegression\n",
    "from sklearn.naive_bayes import MultinomialNB\n",
    "from sklearn.svm import LinearSVC\n",
    "from sklearn.metrics import confusion_matrix,auc,roc_auc_score,f1_score\n",
    "from sklearn.preprocessing import StandardScaler\n",
    "from sklearn.model_selection import train_test_split,RandomizedSearchCV\n",
    "from sklearn.feature_extraction.text import TfidfVectorizer\n",
    "from scikitplot.metrics import plot_confusion_matrix\n",
    "\n",
    "from tqdm import tqdm\n",
    "import re\n",
    "from bs4 import BeautifulSoup\n",
    "%matplotlib inline\n",
    "import warnings\n",
    "warnings.simplefilter(action='ignore', category=FutureWarning)\n"
   ]
  },
  {
   "cell_type": "code",
   "execution_count": 5,
   "metadata": {},
   "outputs": [
    {
     "data": {
      "text/html": [
       "<div>\n",
       "<style scoped>\n",
       "    .dataframe tbody tr th:only-of-type {\n",
       "        vertical-align: middle;\n",
       "    }\n",
       "\n",
       "    .dataframe tbody tr th {\n",
       "        vertical-align: top;\n",
       "    }\n",
       "\n",
       "    .dataframe thead th {\n",
       "        text-align: right;\n",
       "    }\n",
       "</style>\n",
       "<table border=\"1\" class=\"dataframe\">\n",
       "  <thead>\n",
       "    <tr style=\"text-align: right;\">\n",
       "      <th></th>\n",
       "      <th>Id</th>\n",
       "      <th>ProductId</th>\n",
       "      <th>UserId</th>\n",
       "      <th>ProfileName</th>\n",
       "      <th>HelpfulnessNumerator</th>\n",
       "      <th>HelpfulnessDenominator</th>\n",
       "      <th>Score</th>\n",
       "      <th>Time</th>\n",
       "      <th>Summary</th>\n",
       "      <th>Text</th>\n",
       "    </tr>\n",
       "  </thead>\n",
       "  <tbody>\n",
       "    <tr>\n",
       "      <td>0</td>\n",
       "      <td>1</td>\n",
       "      <td>B001E4KFG0</td>\n",
       "      <td>A3SGXH7AUHU8GW</td>\n",
       "      <td>delmartian</td>\n",
       "      <td>1</td>\n",
       "      <td>1</td>\n",
       "      <td>5</td>\n",
       "      <td>1303862400</td>\n",
       "      <td>Good Quality Dog Food</td>\n",
       "      <td>I have bought several of the Vitality canned d...</td>\n",
       "    </tr>\n",
       "    <tr>\n",
       "      <td>1</td>\n",
       "      <td>2</td>\n",
       "      <td>B00813GRG4</td>\n",
       "      <td>A1D87F6ZCVE5NK</td>\n",
       "      <td>dll pa</td>\n",
       "      <td>0</td>\n",
       "      <td>0</td>\n",
       "      <td>1</td>\n",
       "      <td>1346976000</td>\n",
       "      <td>Not as Advertised</td>\n",
       "      <td>Product arrived labeled as Jumbo Salted Peanut...</td>\n",
       "    </tr>\n",
       "    <tr>\n",
       "      <td>2</td>\n",
       "      <td>3</td>\n",
       "      <td>B000LQOCH0</td>\n",
       "      <td>ABXLMWJIXXAIN</td>\n",
       "      <td>Natalia Corres \"Natalia Corres\"</td>\n",
       "      <td>1</td>\n",
       "      <td>1</td>\n",
       "      <td>4</td>\n",
       "      <td>1219017600</td>\n",
       "      <td>\"Delight\" says it all</td>\n",
       "      <td>This is a confection that has been around a fe...</td>\n",
       "    </tr>\n",
       "    <tr>\n",
       "      <td>3</td>\n",
       "      <td>4</td>\n",
       "      <td>B000UA0QIQ</td>\n",
       "      <td>A395BORC6FGVXV</td>\n",
       "      <td>Karl</td>\n",
       "      <td>3</td>\n",
       "      <td>3</td>\n",
       "      <td>2</td>\n",
       "      <td>1307923200</td>\n",
       "      <td>Cough Medicine</td>\n",
       "      <td>If you are looking for the secret ingredient i...</td>\n",
       "    </tr>\n",
       "    <tr>\n",
       "      <td>4</td>\n",
       "      <td>5</td>\n",
       "      <td>B006K2ZZ7K</td>\n",
       "      <td>A1UQRSCLF8GW1T</td>\n",
       "      <td>Michael D. Bigham \"M. Wassir\"</td>\n",
       "      <td>0</td>\n",
       "      <td>0</td>\n",
       "      <td>5</td>\n",
       "      <td>1350777600</td>\n",
       "      <td>Great taffy</td>\n",
       "      <td>Great taffy at a great price.  There was a wid...</td>\n",
       "    </tr>\n",
       "  </tbody>\n",
       "</table>\n",
       "</div>"
      ],
      "text/plain": [
       "   Id   ProductId          UserId                      ProfileName  \\\n",
       "0   1  B001E4KFG0  A3SGXH7AUHU8GW                       delmartian   \n",
       "1   2  B00813GRG4  A1D87F6ZCVE5NK                           dll pa   \n",
       "2   3  B000LQOCH0   ABXLMWJIXXAIN  Natalia Corres \"Natalia Corres\"   \n",
       "3   4  B000UA0QIQ  A395BORC6FGVXV                             Karl   \n",
       "4   5  B006K2ZZ7K  A1UQRSCLF8GW1T    Michael D. Bigham \"M. Wassir\"   \n",
       "\n",
       "   HelpfulnessNumerator  HelpfulnessDenominator  Score        Time  \\\n",
       "0                     1                       1      5  1303862400   \n",
       "1                     0                       0      1  1346976000   \n",
       "2                     1                       1      4  1219017600   \n",
       "3                     3                       3      2  1307923200   \n",
       "4                     0                       0      5  1350777600   \n",
       "\n",
       "                 Summary                                               Text  \n",
       "0  Good Quality Dog Food  I have bought several of the Vitality canned d...  \n",
       "1      Not as Advertised  Product arrived labeled as Jumbo Salted Peanut...  \n",
       "2  \"Delight\" says it all  This is a confection that has been around a fe...  \n",
       "3         Cough Medicine  If you are looking for the secret ingredient i...  \n",
       "4            Great taffy  Great taffy at a great price.  There was a wid...  "
      ]
     },
     "execution_count": 5,
     "metadata": {},
     "output_type": "execute_result"
    }
   ],
   "source": [
    "#read the data\n",
    "reviews=pd.read_csv(\"Reviews.csv\")\n",
    "reviews=reviews[:30000]\n",
    "reviews.head()"
   ]
  },
  {
   "cell_type": "code",
   "execution_count": 6,
   "metadata": {},
   "outputs": [
    {
     "data": {
      "text/html": [
       "<div>\n",
       "<style scoped>\n",
       "    .dataframe tbody tr th:only-of-type {\n",
       "        vertical-align: middle;\n",
       "    }\n",
       "\n",
       "    .dataframe tbody tr th {\n",
       "        vertical-align: top;\n",
       "    }\n",
       "\n",
       "    .dataframe thead th {\n",
       "        text-align: right;\n",
       "    }\n",
       "</style>\n",
       "<table border=\"1\" class=\"dataframe\">\n",
       "  <thead>\n",
       "    <tr style=\"text-align: right;\">\n",
       "      <th></th>\n",
       "      <th>Id</th>\n",
       "      <th>ProductId</th>\n",
       "      <th>UserId</th>\n",
       "      <th>ProfileName</th>\n",
       "      <th>HelpfulnessNumerator</th>\n",
       "      <th>HelpfulnessDenominator</th>\n",
       "      <th>Score</th>\n",
       "      <th>Time</th>\n",
       "      <th>Summary</th>\n",
       "      <th>Text</th>\n",
       "    </tr>\n",
       "  </thead>\n",
       "  <tbody>\n",
       "    <tr>\n",
       "      <td>0</td>\n",
       "      <td>1</td>\n",
       "      <td>B001E4KFG0</td>\n",
       "      <td>A3SGXH7AUHU8GW</td>\n",
       "      <td>delmartian</td>\n",
       "      <td>1</td>\n",
       "      <td>1</td>\n",
       "      <td>1</td>\n",
       "      <td>1303862400</td>\n",
       "      <td>Good Quality Dog Food</td>\n",
       "      <td>I have bought several of the Vitality canned d...</td>\n",
       "    </tr>\n",
       "    <tr>\n",
       "      <td>1</td>\n",
       "      <td>2</td>\n",
       "      <td>B00813GRG4</td>\n",
       "      <td>A1D87F6ZCVE5NK</td>\n",
       "      <td>dll pa</td>\n",
       "      <td>0</td>\n",
       "      <td>0</td>\n",
       "      <td>0</td>\n",
       "      <td>1346976000</td>\n",
       "      <td>Not as Advertised</td>\n",
       "      <td>Product arrived labeled as Jumbo Salted Peanut...</td>\n",
       "    </tr>\n",
       "    <tr>\n",
       "      <td>2</td>\n",
       "      <td>3</td>\n",
       "      <td>B000LQOCH0</td>\n",
       "      <td>ABXLMWJIXXAIN</td>\n",
       "      <td>Natalia Corres \"Natalia Corres\"</td>\n",
       "      <td>1</td>\n",
       "      <td>1</td>\n",
       "      <td>1</td>\n",
       "      <td>1219017600</td>\n",
       "      <td>\"Delight\" says it all</td>\n",
       "      <td>This is a confection that has been around a fe...</td>\n",
       "    </tr>\n",
       "    <tr>\n",
       "      <td>3</td>\n",
       "      <td>4</td>\n",
       "      <td>B000UA0QIQ</td>\n",
       "      <td>A395BORC6FGVXV</td>\n",
       "      <td>Karl</td>\n",
       "      <td>3</td>\n",
       "      <td>3</td>\n",
       "      <td>0</td>\n",
       "      <td>1307923200</td>\n",
       "      <td>Cough Medicine</td>\n",
       "      <td>If you are looking for the secret ingredient i...</td>\n",
       "    </tr>\n",
       "    <tr>\n",
       "      <td>4</td>\n",
       "      <td>5</td>\n",
       "      <td>B006K2ZZ7K</td>\n",
       "      <td>A1UQRSCLF8GW1T</td>\n",
       "      <td>Michael D. Bigham \"M. Wassir\"</td>\n",
       "      <td>0</td>\n",
       "      <td>0</td>\n",
       "      <td>1</td>\n",
       "      <td>1350777600</td>\n",
       "      <td>Great taffy</td>\n",
       "      <td>Great taffy at a great price.  There was a wid...</td>\n",
       "    </tr>\n",
       "  </tbody>\n",
       "</table>\n",
       "</div>"
      ],
      "text/plain": [
       "   Id   ProductId          UserId                      ProfileName  \\\n",
       "0   1  B001E4KFG0  A3SGXH7AUHU8GW                       delmartian   \n",
       "1   2  B00813GRG4  A1D87F6ZCVE5NK                           dll pa   \n",
       "2   3  B000LQOCH0   ABXLMWJIXXAIN  Natalia Corres \"Natalia Corres\"   \n",
       "3   4  B000UA0QIQ  A395BORC6FGVXV                             Karl   \n",
       "4   5  B006K2ZZ7K  A1UQRSCLF8GW1T    Michael D. Bigham \"M. Wassir\"   \n",
       "\n",
       "   HelpfulnessNumerator  HelpfulnessDenominator  Score        Time  \\\n",
       "0                     1                       1      1  1303862400   \n",
       "1                     0                       0      0  1346976000   \n",
       "2                     1                       1      1  1219017600   \n",
       "3                     3                       3      0  1307923200   \n",
       "4                     0                       0      1  1350777600   \n",
       "\n",
       "                 Summary                                               Text  \n",
       "0  Good Quality Dog Food  I have bought several of the Vitality canned d...  \n",
       "1      Not as Advertised  Product arrived labeled as Jumbo Salted Peanut...  \n",
       "2  \"Delight\" says it all  This is a confection that has been around a fe...  \n",
       "3         Cough Medicine  If you are looking for the secret ingredient i...  \n",
       "4            Great taffy  Great taffy at a great price.  There was a wid...  "
      ]
     },
     "execution_count": 6,
     "metadata": {},
     "output_type": "execute_result"
    }
   ],
   "source": [
    "#Lets convert our sccores to three labels 0,1,2 for , negative(score>3),Positive(score>3),neutral(score==3)\n",
    "def label(x):\n",
    "    if x>3:\n",
    "        return 1\n",
    "    elif x<3:\n",
    "        return 0\n",
    "    elif x==3:\n",
    "        return 2\n",
    "reviews[\"Score\"]=reviews[\"Score\"].map(label)\n",
    "reviews.head()"
   ]
  },
  {
   "cell_type": "code",
   "execution_count": 7,
   "metadata": {},
   "outputs": [
    {
     "data": {
      "text/html": [
       "<div>\n",
       "<style scoped>\n",
       "    .dataframe tbody tr th:only-of-type {\n",
       "        vertical-align: middle;\n",
       "    }\n",
       "\n",
       "    .dataframe tbody tr th {\n",
       "        vertical-align: top;\n",
       "    }\n",
       "\n",
       "    .dataframe thead th {\n",
       "        text-align: right;\n",
       "    }\n",
       "</style>\n",
       "<table border=\"1\" class=\"dataframe\">\n",
       "  <thead>\n",
       "    <tr style=\"text-align: right;\">\n",
       "      <th></th>\n",
       "      <th>Id</th>\n",
       "      <th>ProductId</th>\n",
       "      <th>UserId</th>\n",
       "      <th>ProfileName</th>\n",
       "      <th>HelpfulnessNumerator</th>\n",
       "      <th>HelpfulnessDenominator</th>\n",
       "      <th>Score</th>\n",
       "      <th>Time</th>\n",
       "      <th>Summary</th>\n",
       "      <th>Text</th>\n",
       "    </tr>\n",
       "  </thead>\n",
       "  <tbody>\n",
       "    <tr>\n",
       "      <td>29</td>\n",
       "      <td>30</td>\n",
       "      <td>B0001PB9FY</td>\n",
       "      <td>A3HDKO7OW0QNK4</td>\n",
       "      <td>Canadian Fan</td>\n",
       "      <td>1</td>\n",
       "      <td>1</td>\n",
       "      <td>1</td>\n",
       "      <td>1107820800</td>\n",
       "      <td>The Best Hot Sauce in the World</td>\n",
       "      <td>I don't know if it's the cactus or the tequila...</td>\n",
       "    </tr>\n",
       "    <tr>\n",
       "      <td>574</td>\n",
       "      <td>575</td>\n",
       "      <td>B000G6RYNE</td>\n",
       "      <td>A3PJZ8TU8FDQ1K</td>\n",
       "      <td>Jared Castle</td>\n",
       "      <td>2</td>\n",
       "      <td>2</td>\n",
       "      <td>1</td>\n",
       "      <td>1231718400</td>\n",
       "      <td>One bite and you'll become a \"chippoisseur\"</td>\n",
       "      <td>I'm addicted to salty and tangy flavors, so wh...</td>\n",
       "    </tr>\n",
       "    <tr>\n",
       "      <td>1973</td>\n",
       "      <td>1974</td>\n",
       "      <td>B0017165OG</td>\n",
       "      <td>A2EPNS38TTLZYN</td>\n",
       "      <td>tedebear</td>\n",
       "      <td>0</td>\n",
       "      <td>0</td>\n",
       "      <td>2</td>\n",
       "      <td>1312675200</td>\n",
       "      <td>Pok Chops</td>\n",
       "      <td>The pork chops from Omaha Steaks were very tas...</td>\n",
       "    </tr>\n",
       "    <tr>\n",
       "      <td>2309</td>\n",
       "      <td>2310</td>\n",
       "      <td>B0001VWE0M</td>\n",
       "      <td>AQM74O8Z4FMS0</td>\n",
       "      <td>Sunshine</td>\n",
       "      <td>0</td>\n",
       "      <td>0</td>\n",
       "      <td>0</td>\n",
       "      <td>1127606400</td>\n",
       "      <td>Below standard</td>\n",
       "      <td>Too much of the white pith on this orange peel...</td>\n",
       "    </tr>\n",
       "    <tr>\n",
       "      <td>2323</td>\n",
       "      <td>2324</td>\n",
       "      <td>B0001VWE0C</td>\n",
       "      <td>AQM74O8Z4FMS0</td>\n",
       "      <td>Sunshine</td>\n",
       "      <td>0</td>\n",
       "      <td>0</td>\n",
       "      <td>0</td>\n",
       "      <td>1127606400</td>\n",
       "      <td>Below standard</td>\n",
       "      <td>Too much of the white pith on this orange peel...</td>\n",
       "    </tr>\n",
       "    <tr>\n",
       "      <td>...</td>\n",
       "      <td>...</td>\n",
       "      <td>...</td>\n",
       "      <td>...</td>\n",
       "      <td>...</td>\n",
       "      <td>...</td>\n",
       "      <td>...</td>\n",
       "      <td>...</td>\n",
       "      <td>...</td>\n",
       "      <td>...</td>\n",
       "      <td>...</td>\n",
       "    </tr>\n",
       "    <tr>\n",
       "      <td>29676</td>\n",
       "      <td>29677</td>\n",
       "      <td>B0002VXZ4K</td>\n",
       "      <td>A2NAGIYG83DCOH</td>\n",
       "      <td>StephenT</td>\n",
       "      <td>0</td>\n",
       "      <td>0</td>\n",
       "      <td>1</td>\n",
       "      <td>1314576000</td>\n",
       "      <td>Great Product at a Good Price</td>\n",
       "      <td>I have ordered these peanuts several times so ...</td>\n",
       "    </tr>\n",
       "    <tr>\n",
       "      <td>29677</td>\n",
       "      <td>29678</td>\n",
       "      <td>B0002VXZ4K</td>\n",
       "      <td>A19I65RQ81490W</td>\n",
       "      <td>Miner90</td>\n",
       "      <td>0</td>\n",
       "      <td>0</td>\n",
       "      <td>1</td>\n",
       "      <td>1293840000</td>\n",
       "      <td>Addicting</td>\n",
       "      <td>I bought these thinking that two pounds would ...</td>\n",
       "    </tr>\n",
       "    <tr>\n",
       "      <td>29678</td>\n",
       "      <td>29679</td>\n",
       "      <td>B0002VXZ4K</td>\n",
       "      <td>A322NZEBADB44C</td>\n",
       "      <td>Mike</td>\n",
       "      <td>0</td>\n",
       "      <td>0</td>\n",
       "      <td>1</td>\n",
       "      <td>1174694400</td>\n",
       "      <td>Perfect</td>\n",
       "      <td>Wasabi lovers, this is what you want. Not like...</td>\n",
       "    </tr>\n",
       "    <tr>\n",
       "      <td>29679</td>\n",
       "      <td>29680</td>\n",
       "      <td>B0002VXZ4K</td>\n",
       "      <td>A2U3MPKGI7CEGI</td>\n",
       "      <td>J. Hilty</td>\n",
       "      <td>0</td>\n",
       "      <td>1</td>\n",
       "      <td>0</td>\n",
       "      <td>1323993600</td>\n",
       "      <td>Cheap knock offs are not that hot</td>\n",
       "      <td>I remember years ago the first Wasabi peanuts ...</td>\n",
       "    </tr>\n",
       "    <tr>\n",
       "      <td>29840</td>\n",
       "      <td>29841</td>\n",
       "      <td>B000F9XBJ8</td>\n",
       "      <td>A33DKGANHQJSXC</td>\n",
       "      <td>Anastasia \"Stasia\"</td>\n",
       "      <td>0</td>\n",
       "      <td>0</td>\n",
       "      <td>1</td>\n",
       "      <td>1245715200</td>\n",
       "      <td>Very different than the original</td>\n",
       "      <td>But VERY delicious just the same. If you're lo...</td>\n",
       "    </tr>\n",
       "  </tbody>\n",
       "</table>\n",
       "<p>1313 rows × 10 columns</p>\n",
       "</div>"
      ],
      "text/plain": [
       "          Id   ProductId          UserId         ProfileName  \\\n",
       "29        30  B0001PB9FY  A3HDKO7OW0QNK4        Canadian Fan   \n",
       "574      575  B000G6RYNE  A3PJZ8TU8FDQ1K        Jared Castle   \n",
       "1973    1974  B0017165OG  A2EPNS38TTLZYN            tedebear   \n",
       "2309    2310  B0001VWE0M   AQM74O8Z4FMS0            Sunshine   \n",
       "2323    2324  B0001VWE0C   AQM74O8Z4FMS0            Sunshine   \n",
       "...      ...         ...             ...                 ...   \n",
       "29676  29677  B0002VXZ4K  A2NAGIYG83DCOH            StephenT   \n",
       "29677  29678  B0002VXZ4K  A19I65RQ81490W             Miner90   \n",
       "29678  29679  B0002VXZ4K  A322NZEBADB44C                Mike   \n",
       "29679  29680  B0002VXZ4K  A2U3MPKGI7CEGI            J. Hilty   \n",
       "29840  29841  B000F9XBJ8  A33DKGANHQJSXC  Anastasia \"Stasia\"   \n",
       "\n",
       "       HelpfulnessNumerator  HelpfulnessDenominator  Score        Time  \\\n",
       "29                        1                       1      1  1107820800   \n",
       "574                       2                       2      1  1231718400   \n",
       "1973                      0                       0      2  1312675200   \n",
       "2309                      0                       0      0  1127606400   \n",
       "2323                      0                       0      0  1127606400   \n",
       "...                     ...                     ...    ...         ...   \n",
       "29676                     0                       0      1  1314576000   \n",
       "29677                     0                       0      1  1293840000   \n",
       "29678                     0                       0      1  1174694400   \n",
       "29679                     0                       1      0  1323993600   \n",
       "29840                     0                       0      1  1245715200   \n",
       "\n",
       "                                           Summary  \\\n",
       "29                 The Best Hot Sauce in the World   \n",
       "574    One bite and you'll become a \"chippoisseur\"   \n",
       "1973                                     Pok Chops   \n",
       "2309                                Below standard   \n",
       "2323                                Below standard   \n",
       "...                                            ...   \n",
       "29676                Great Product at a Good Price   \n",
       "29677                                    Addicting   \n",
       "29678                                      Perfect   \n",
       "29679            Cheap knock offs are not that hot   \n",
       "29840             Very different than the original   \n",
       "\n",
       "                                                    Text  \n",
       "29     I don't know if it's the cactus or the tequila...  \n",
       "574    I'm addicted to salty and tangy flavors, so wh...  \n",
       "1973   The pork chops from Omaha Steaks were very tas...  \n",
       "2309   Too much of the white pith on this orange peel...  \n",
       "2323   Too much of the white pith on this orange peel...  \n",
       "...                                                  ...  \n",
       "29676  I have ordered these peanuts several times so ...  \n",
       "29677  I bought these thinking that two pounds would ...  \n",
       "29678  Wasabi lovers, this is what you want. Not like...  \n",
       "29679  I remember years ago the first Wasabi peanuts ...  \n",
       "29840  But VERY delicious just the same. If you're lo...  \n",
       "\n",
       "[1313 rows x 10 columns]"
      ]
     },
     "execution_count": 7,
     "metadata": {},
     "output_type": "execute_result"
    }
   ],
   "source": [
    "#lets check if our data is having duplicate values\n",
    "reviews[reviews[[\"UserId\",\"ProfileName\",\"Time\",\"Text\"]].duplicated()]"
   ]
  },
  {
   "cell_type": "code",
   "execution_count": 8,
   "metadata": {},
   "outputs": [
    {
     "name": "stdout",
     "output_type": "stream",
     "text": [
      "Data set size before dropping duplicates (30000, 10)\n",
      "Data set size after dropping duplicates (28687, 10)\n"
     ]
    }
   ],
   "source": [
    "# we can see in the above cell that there are duplicates in our data. Lets drop all of them.\n",
    "print(\"Data set size before dropping duplicates\",reviews.shape)\n",
    "\n",
    "reviews_df = reviews.drop_duplicates(subset={\"UserId\",\"ProfileName\",\"Time\",\"Text\"},keep='first')\n",
    "\n",
    "print(\"Data set size after dropping duplicates\",reviews_df.shape)"
   ]
  },
  {
   "cell_type": "code",
   "execution_count": 9,
   "metadata": {},
   "outputs": [
    {
     "data": {
      "text/plain": [
       "Text     False\n",
       "Score    False\n",
       "dtype: bool"
      ]
     },
     "execution_count": 9,
     "metadata": {},
     "output_type": "execute_result"
    }
   ],
   "source": [
    "#let us find if our data have any missing values\n",
    "# from now on we deal only with Text and Score columns, Text is our feature and score is our label.\n",
    "reviews_df[[\"Text\",\"Score\"]].isnull().any()"
   ]
  },
  {
   "cell_type": "code",
   "execution_count": 10,
   "metadata": {},
   "outputs": [
    {
     "name": "stdout",
     "output_type": "stream",
     "text": [
      "Amount of data retianed is :  0.9562333333333334\n"
     ]
    }
   ],
   "source": [
    "print(\"Amount of data retianed is : \", reviews_df.shape[0]/reviews.shape[0])"
   ]
  },
  {
   "cell_type": "code",
   "execution_count": 11,
   "metadata": {},
   "outputs": [
    {
     "data": {
      "image/png": "[encoded data removed]",
      "text/plain": [
       "<Figure size 432x288 with 1 Axes>"
      ]
     },
     "metadata": {
      "needs_background": "light"
     },
     "output_type": "display_data"
    }
   ],
   "source": [
    "plt.bar(reviews_df[\"Score\"].unique(),reviews_df[\"Score\"].value_counts())\n",
    "plt.xticks([0,1,2])\n",
    "plt.show()"
   ]
  },
  {
   "cell_type": "code",
   "execution_count": 12,
   "metadata": {},
   "outputs": [
    {
     "data": {
      "image/png": "[encoded data removed]",
      "text/plain": [
       "<Figure size 432x288 with 1 Axes>"
      ]
     },
     "metadata": {},
     "output_type": "display_data"
    }
   ],
   "source": [
    "plt.pie(reviews_df[\"Score\"].value_counts(),autopct='%1.0f%%',radius=2,labels=reviews_df[\"Score\"].unique(),colors=[\"g\",\"r\",\"y\"])\n",
    "plt.show()"
   ]
  },
  {
   "cell_type": "markdown",
   "metadata": {},
   "source": [
    "#### Observations:\n",
    "1. After removing duplicates and missing values we able to retain 69.2% of actual data.\n",
    "2. From the above bar plot we can clearly see that our data is imbalanced biasing towards to class 1(positive)."
   ]
  },
  {
   "cell_type": "markdown",
   "metadata": {},
   "source": [
    "# 3. Data Preprocessing"
   ]
  },
  {
   "cell_type": "markdown",
   "metadata": {},
   "source": [
    "Though we removed noise data, we need to make sure that our data is clean\n",
    "with text data comes a lot of unwanted characters, symbols, numbers and common words which is ofcourse no use for model building\n",
    "so we will try to remove this unwanted characters to get a clean data\n",
    "for this wee will be using only text(reviews)"
   ]
  },
  {
   "cell_type": "code",
   "execution_count": 13,
   "metadata": {},
   "outputs": [
    {
     "data": {
      "text/plain": [
       "\"Instant oatmeal can become soggy the minute the water hits the bowl. McCann's Instant Oatmeal holds its texture, has excellent flavor, and is good for you all at the same time. McCann's regular oat meal is excellent, too, but may take a bit longer to prepare than most have time for in the morning. This is the best instant brand I've ever eaten, and a very close second to the non-instant variety.<br /><br />McCann's Instant Irish Oatmeal, Variety Pack of Regular, Apples & Cinnamon, and Maple & Brown Sugar, 10-Count Boxes (Pack of 6)\""
      ]
     },
     "execution_count": 13,
     "metadata": {},
     "output_type": "execute_result"
    }
   ],
   "source": [
    "#21,15,28\n",
    "review34=reviews_df[\"Text\"][34]\n",
    "review34"
   ]
  },
  {
   "cell_type": "code",
   "execution_count": 14,
   "metadata": {},
   "outputs": [
    {
     "name": "stderr",
     "output_type": "stream",
     "text": [
      "[nltk_data] Downloading package stopwords to\n",
      "[nltk_data]     C:\\Users\\shari\\AppData\\Roaming\\nltk_data...\n",
      "[nltk_data]   Package stopwords is already up-to-date!\n"
     ]
    }
   ],
   "source": [
    "import nltk\n",
    "from nltk.stem import PorterStemmer\n",
    "from nltk.tokenize import word_tokenize\n",
    "from nltk.corpus import stopwords\n",
    "nltk.download('stopwords')\n",
    "stop_words = set(stopwords.words('english'))\n",
    "reviews_df=reviews_df[[\"Text\",\"Score\"]]\n"
   ]
  },
  {
   "cell_type": "code",
   "execution_count": 15,
   "metadata": {},
   "outputs": [
    {
     "name": "stdout",
     "output_type": "stream",
     "text": [
      "{'so', 'my', 'himself', 'few', 'for', 'up', \"she's\", 'further', \"mightn't\", 'ourselves', 'why', 'these', 'been', 'couldn', \"haven't\", \"wasn't\", 'mightn', 'have', \"mustn't\", 'as', 'such', 'only', \"you're\", 'which', 'are', 'with', 've', \"couldn't\", 'off', 'doesn', 'hasn', \"shan't\", 'be', 'isn', \"needn't\", \"weren't\", 'myself', 'it', 'me', 'below', 'during', 'when', 'theirs', 'then', 'any', \"wouldn't\", \"aren't\", 'does', 'what', 'herself', 'whom', 'o', 'he', 'we', 'do', 'should', 'hers', 'hadn', 'until', 'll', 'mustn', 'here', 'under', 'above', 'out', 'am', 'her', 's', 'y', 'wouldn', 'yours', 'once', 'they', 'an', 'can', 'now', 'didn', 'don', 'weren', 'a', 'doing', 'yourselves', 'no', 'this', \"doesn't\", 'did', 'if', 'will', 'ain', 'how', 'before', \"don't\", 'who', 'shouldn', 'is', 't', 'nor', \"hasn't\", 'or', \"you'll\", \"that'll\", 'had', 're', 'having', 'but', 'aren', 'his', 'itself', 'that', 'was', 'against', 'just', 'm', 'too', 'most', 'its', 'both', 'your', 'has', 'from', 'very', 'there', 'you', 'over', 'haven', 'through', 'while', 'in', 'of', \"shouldn't\", 'won', \"you've\", 'ours', 'their', 'other', 'needn', 'i', 'more', 'were', 'she', \"it's\", 'him', 'own', 'and', 'the', \"didn't\", 'yourself', \"isn't\", \"you'd\", 'by', 'each', 'about', 'ma', 'where', 'd', 'after', 'again', 'our', \"should've\", 'at', 'wasn', 'themselves', 'to', 'same', 'than', 'some', 'shan', 'between', 'into', \"won't\", \"hadn't\", 'those', 'all', 'them', 'being', 'on', 'not', 'down', 'because'}\n"
     ]
    }
   ],
   "source": [
    "print(stop_words)"
   ]
  },
  {
   "cell_type": "code",
   "execution_count": 16,
   "metadata": {},
   "outputs": [],
   "source": [
    "#let us remove word not from stop words, since it is the one of the most important word in classifing the review.\n",
    "stop_words.remove(\"not\")"
   ]
  },
  {
   "cell_type": "code",
   "execution_count": 17,
   "metadata": {},
   "outputs": [],
   "source": [
    "def text_Preprocessing(reviews):\n",
    "    \n",
    "    \n",
    "    \"\"\" This will clean the text data, remove html tags, remove special characters and then tokenize the reviews to apply Stemmer on each word token.\"\"\"\n",
    "    \n",
    "    pre_processed_reviews=[]\n",
    "    \n",
    "    for review in tqdm(reviews):\n",
    "        review= BeautifulSoup(review,'lxml').getText()    #remove html tags\n",
    "        review=re.sub('\\S*\\d\\S*','',review).strip()\n",
    "        review=re.sub('[^A-Za-z]+',' ',review)        #remove special chars\n",
    "        review=re.sub(\"n't\",\"not\",review)\n",
    "        review=word_tokenize(str(review.lower())) #tokenize the reviews into word tokens\n",
    "\n",
    "        # now we will split the review into words and then check if these words are in the stop words if so we will remove them, if not we will join\n",
    "        review=' '.join(PorterStemmer().stem(word) for word in review if word not in stop_words)\n",
    "        pre_processed_reviews.append(review.strip())\n",
    "    return pre_processed_reviews"
   ]
  },
  {
   "cell_type": "code",
   "execution_count": 18,
   "metadata": {},
   "outputs": [
    {
     "name": "stderr",
     "output_type": "stream",
     "text": [
      "100%|███████████████████████████████████████████████████████████████████████████| 28687/28687 [00:40<00:00, 704.35it/s]\n"
     ]
    },
    {
     "data": {
      "text/plain": [
       "['bought sever vital can dog food product found good qualiti product look like stew process meat smell better labrador finicki appreci product better',\n",
       " 'product arriv label jumbo salt peanut peanut actual small size unsalt not sure error vendor intend repres product jumbo',\n",
       " 'confect around centuri light pillowi citru gelatin nut case filbert cut tini squar liber coat powder sugar tini mouth heaven not chewi flavor highli recommend yummi treat familiar stori c lewi lion witch wardrob treat seduc edmund sell brother sister witch',\n",
       " 'look secret ingredi robitussin believ found got addit root beer extract order good made cherri soda flavor medicin',\n",
       " 'great taffi great price wide assort yummi taffi deliveri quick taffi lover deal']"
      ]
     },
     "execution_count": 18,
     "metadata": {},
     "output_type": "execute_result"
    }
   ],
   "source": [
    "preprocessed_reviews=text_Preprocessing(reviews_df[\"Text\"])\n",
    "preprocessed_reviews[:5]"
   ]
  },
  {
   "cell_type": "code",
   "execution_count": 19,
   "metadata": {},
   "outputs": [
    {
     "data": {
      "text/html": [
       "<div>\n",
       "<style scoped>\n",
       "    .dataframe tbody tr th:only-of-type {\n",
       "        vertical-align: middle;\n",
       "    }\n",
       "\n",
       "    .dataframe tbody tr th {\n",
       "        vertical-align: top;\n",
       "    }\n",
       "\n",
       "    .dataframe thead th {\n",
       "        text-align: right;\n",
       "    }\n",
       "</style>\n",
       "<table border=\"1\" class=\"dataframe\">\n",
       "  <thead>\n",
       "    <tr style=\"text-align: right;\">\n",
       "      <th></th>\n",
       "      <th>text</th>\n",
       "      <th>sentiment</th>\n",
       "    </tr>\n",
       "  </thead>\n",
       "  <tbody>\n",
       "    <tr>\n",
       "      <td>0</td>\n",
       "      <td>bought sever vital can dog food product found ...</td>\n",
       "      <td>1</td>\n",
       "    </tr>\n",
       "    <tr>\n",
       "      <td>1</td>\n",
       "      <td>product arriv label jumbo salt peanut peanut a...</td>\n",
       "      <td>0</td>\n",
       "    </tr>\n",
       "    <tr>\n",
       "      <td>2</td>\n",
       "      <td>confect around centuri light pillowi citru gel...</td>\n",
       "      <td>1</td>\n",
       "    </tr>\n",
       "    <tr>\n",
       "      <td>3</td>\n",
       "      <td>look secret ingredi robitussin believ found go...</td>\n",
       "      <td>0</td>\n",
       "    </tr>\n",
       "    <tr>\n",
       "      <td>4</td>\n",
       "      <td>great taffi great price wide assort yummi taff...</td>\n",
       "      <td>1</td>\n",
       "    </tr>\n",
       "  </tbody>\n",
       "</table>\n",
       "</div>"
      ],
      "text/plain": [
       "                                                text  sentiment\n",
       "0  bought sever vital can dog food product found ...          1\n",
       "1  product arriv label jumbo salt peanut peanut a...          0\n",
       "2  confect around centuri light pillowi citru gel...          1\n",
       "3  look secret ingredi robitussin believ found go...          0\n",
       "4  great taffi great price wide assort yummi taff...          1"
      ]
     },
     "execution_count": 19,
     "metadata": {},
     "output_type": "execute_result"
    }
   ],
   "source": [
    "preprocessed_reviews=pd.DataFrame({\"text\":preprocessed_reviews,\"sentiment\":reviews_df.Score})\n",
    "preprocessed_reviews.head()"
   ]
  },
  {
   "cell_type": "code",
   "execution_count": 20,
   "metadata": {},
   "outputs": [
    {
     "data": {
      "text/plain": [
       "1    22118\n",
       "0     4207\n",
       "2     2362\n",
       "Name: sentiment, dtype: int64"
      ]
     },
     "execution_count": 20,
     "metadata": {},
     "output_type": "execute_result"
    }
   ],
   "source": [
    "preprocessed_reviews.sentiment.value_counts()"
   ]
  },
  {
   "cell_type": "markdown",
   "metadata": {},
   "source": [
    "Observations:\n",
    "1. we cleaned our text data, removed unnecessary tags\n",
    "2. Though we cleaned our data still our data is inn string format, which computers wont understand, for this we use text featuration"
   ]
  },
  {
   "cell_type": "markdown",
   "metadata": {},
   "source": [
    "### 3.1.Featurization"
   ]
  },
  {
   "cell_type": "code",
   "execution_count": 21,
   "metadata": {},
   "outputs": [
    {
     "name": "stdout",
     "output_type": "stream",
     "text": [
      "(21515,) (7172,)\n",
      "(21515,) (7172,)\n"
     ]
    }
   ],
   "source": [
    "#It is best practice to split the data Before we do text featurization \n",
    "reviews_train,reviews_test,sentiment_train,sentiment_test=train_test_split(preprocessed_reviews.text,preprocessed_reviews.sentiment)\n",
    "print(reviews_train.shape,reviews_test.shape)\n",
    "print(sentiment_train.shape,sentiment_test.shape)"
   ]
  },
  {
   "cell_type": "code",
   "execution_count": 22,
   "metadata": {},
   "outputs": [
    {
     "data": {
      "text/plain": [
       "((21515, 5000), (7172, 5000))"
      ]
     },
     "execution_count": 22,
     "metadata": {},
     "output_type": "execute_result"
    }
   ],
   "source": [
    "tfidf_model=TfidfVectorizer(ngram_range=(1,2),min_df=5, max_features=5000)\n",
    "tfidf_model.fit(reviews_train,sentiment_train)\n",
    "\n",
    "reviews_train_tfidf=tfidf_model.transform(reviews_train)\n",
    "reviews_test_tfidf=tfidf_model.transform(reviews_test)\n",
    "reviews_train_tfidf.shape,reviews_test_tfidf.shape"
   ]
  },
  {
   "cell_type": "code",
   "execution_count": 23,
   "metadata": {},
   "outputs": [
    {
     "data": {
      "text/html": [
       "<div>\n",
       "<style scoped>\n",
       "    .dataframe tbody tr th:only-of-type {\n",
       "        vertical-align: middle;\n",
       "    }\n",
       "\n",
       "    .dataframe tbody tr th {\n",
       "        vertical-align: top;\n",
       "    }\n",
       "\n",
       "    .dataframe thead th {\n",
       "        text-align: right;\n",
       "    }\n",
       "</style>\n",
       "<table border=\"1\" class=\"dataframe\">\n",
       "  <thead>\n",
       "    <tr style=\"text-align: right;\">\n",
       "      <th></th>\n",
       "      <th>abil</th>\n",
       "      <th>abl</th>\n",
       "      <th>abl buy</th>\n",
       "      <th>abl eat</th>\n",
       "      <th>abl find</th>\n",
       "      <th>abl get</th>\n",
       "      <th>absolut</th>\n",
       "      <th>absolut best</th>\n",
       "      <th>absolut delici</th>\n",
       "      <th>absolut favorit</th>\n",
       "      <th>...</th>\n",
       "      <th>yum</th>\n",
       "      <th>yummi</th>\n",
       "      <th>zealand</th>\n",
       "      <th>zero</th>\n",
       "      <th>zing</th>\n",
       "      <th>zip</th>\n",
       "      <th>zip lock</th>\n",
       "      <th>ziplock</th>\n",
       "      <th>ziwipeak</th>\n",
       "      <th>zuke</th>\n",
       "    </tr>\n",
       "  </thead>\n",
       "  <tbody>\n",
       "    <tr>\n",
       "      <td>19459</td>\n",
       "      <td>0.0</td>\n",
       "      <td>0.0</td>\n",
       "      <td>0.0</td>\n",
       "      <td>0.0</td>\n",
       "      <td>0.0</td>\n",
       "      <td>0.0</td>\n",
       "      <td>0.0</td>\n",
       "      <td>0.0</td>\n",
       "      <td>0.0</td>\n",
       "      <td>0.0</td>\n",
       "      <td>...</td>\n",
       "      <td>0.0</td>\n",
       "      <td>0.0</td>\n",
       "      <td>0.0</td>\n",
       "      <td>0.0</td>\n",
       "      <td>0.0</td>\n",
       "      <td>0.0</td>\n",
       "      <td>0.0</td>\n",
       "      <td>0.0</td>\n",
       "      <td>0.0</td>\n",
       "      <td>0.0</td>\n",
       "    </tr>\n",
       "    <tr>\n",
       "      <td>17458</td>\n",
       "      <td>0.0</td>\n",
       "      <td>0.0</td>\n",
       "      <td>0.0</td>\n",
       "      <td>0.0</td>\n",
       "      <td>0.0</td>\n",
       "      <td>0.0</td>\n",
       "      <td>0.0</td>\n",
       "      <td>0.0</td>\n",
       "      <td>0.0</td>\n",
       "      <td>0.0</td>\n",
       "      <td>...</td>\n",
       "      <td>0.0</td>\n",
       "      <td>0.0</td>\n",
       "      <td>0.0</td>\n",
       "      <td>0.0</td>\n",
       "      <td>0.0</td>\n",
       "      <td>0.0</td>\n",
       "      <td>0.0</td>\n",
       "      <td>0.0</td>\n",
       "      <td>0.0</td>\n",
       "      <td>0.0</td>\n",
       "    </tr>\n",
       "    <tr>\n",
       "      <td>10024</td>\n",
       "      <td>0.0</td>\n",
       "      <td>0.0</td>\n",
       "      <td>0.0</td>\n",
       "      <td>0.0</td>\n",
       "      <td>0.0</td>\n",
       "      <td>0.0</td>\n",
       "      <td>0.0</td>\n",
       "      <td>0.0</td>\n",
       "      <td>0.0</td>\n",
       "      <td>0.0</td>\n",
       "      <td>...</td>\n",
       "      <td>0.0</td>\n",
       "      <td>0.0</td>\n",
       "      <td>0.0</td>\n",
       "      <td>0.0</td>\n",
       "      <td>0.0</td>\n",
       "      <td>0.0</td>\n",
       "      <td>0.0</td>\n",
       "      <td>0.0</td>\n",
       "      <td>0.0</td>\n",
       "      <td>0.0</td>\n",
       "    </tr>\n",
       "    <tr>\n",
       "      <td>2724</td>\n",
       "      <td>0.0</td>\n",
       "      <td>0.0</td>\n",
       "      <td>0.0</td>\n",
       "      <td>0.0</td>\n",
       "      <td>0.0</td>\n",
       "      <td>0.0</td>\n",
       "      <td>0.0</td>\n",
       "      <td>0.0</td>\n",
       "      <td>0.0</td>\n",
       "      <td>0.0</td>\n",
       "      <td>...</td>\n",
       "      <td>0.0</td>\n",
       "      <td>0.0</td>\n",
       "      <td>0.0</td>\n",
       "      <td>0.0</td>\n",
       "      <td>0.0</td>\n",
       "      <td>0.0</td>\n",
       "      <td>0.0</td>\n",
       "      <td>0.0</td>\n",
       "      <td>0.0</td>\n",
       "      <td>0.0</td>\n",
       "    </tr>\n",
       "    <tr>\n",
       "      <td>19181</td>\n",
       "      <td>0.0</td>\n",
       "      <td>0.0</td>\n",
       "      <td>0.0</td>\n",
       "      <td>0.0</td>\n",
       "      <td>0.0</td>\n",
       "      <td>0.0</td>\n",
       "      <td>0.0</td>\n",
       "      <td>0.0</td>\n",
       "      <td>0.0</td>\n",
       "      <td>0.0</td>\n",
       "      <td>...</td>\n",
       "      <td>0.0</td>\n",
       "      <td>0.0</td>\n",
       "      <td>0.0</td>\n",
       "      <td>0.0</td>\n",
       "      <td>0.0</td>\n",
       "      <td>0.0</td>\n",
       "      <td>0.0</td>\n",
       "      <td>0.0</td>\n",
       "      <td>0.0</td>\n",
       "      <td>0.0</td>\n",
       "    </tr>\n",
       "    <tr>\n",
       "      <td>...</td>\n",
       "      <td>...</td>\n",
       "      <td>...</td>\n",
       "      <td>...</td>\n",
       "      <td>...</td>\n",
       "      <td>...</td>\n",
       "      <td>...</td>\n",
       "      <td>...</td>\n",
       "      <td>...</td>\n",
       "      <td>...</td>\n",
       "      <td>...</td>\n",
       "      <td>...</td>\n",
       "      <td>...</td>\n",
       "      <td>...</td>\n",
       "      <td>...</td>\n",
       "      <td>...</td>\n",
       "      <td>...</td>\n",
       "      <td>...</td>\n",
       "      <td>...</td>\n",
       "      <td>...</td>\n",
       "      <td>...</td>\n",
       "      <td>...</td>\n",
       "    </tr>\n",
       "    <tr>\n",
       "      <td>6565</td>\n",
       "      <td>0.0</td>\n",
       "      <td>0.0</td>\n",
       "      <td>0.0</td>\n",
       "      <td>0.0</td>\n",
       "      <td>0.0</td>\n",
       "      <td>0.0</td>\n",
       "      <td>0.0</td>\n",
       "      <td>0.0</td>\n",
       "      <td>0.0</td>\n",
       "      <td>0.0</td>\n",
       "      <td>...</td>\n",
       "      <td>0.0</td>\n",
       "      <td>0.0</td>\n",
       "      <td>0.0</td>\n",
       "      <td>0.0</td>\n",
       "      <td>0.0</td>\n",
       "      <td>0.0</td>\n",
       "      <td>0.0</td>\n",
       "      <td>0.0</td>\n",
       "      <td>0.0</td>\n",
       "      <td>0.0</td>\n",
       "    </tr>\n",
       "    <tr>\n",
       "      <td>5964</td>\n",
       "      <td>0.0</td>\n",
       "      <td>0.0</td>\n",
       "      <td>0.0</td>\n",
       "      <td>0.0</td>\n",
       "      <td>0.0</td>\n",
       "      <td>0.0</td>\n",
       "      <td>0.0</td>\n",
       "      <td>0.0</td>\n",
       "      <td>0.0</td>\n",
       "      <td>0.0</td>\n",
       "      <td>...</td>\n",
       "      <td>0.0</td>\n",
       "      <td>0.0</td>\n",
       "      <td>0.0</td>\n",
       "      <td>0.0</td>\n",
       "      <td>0.0</td>\n",
       "      <td>0.0</td>\n",
       "      <td>0.0</td>\n",
       "      <td>0.0</td>\n",
       "      <td>0.0</td>\n",
       "      <td>0.0</td>\n",
       "    </tr>\n",
       "    <tr>\n",
       "      <td>11210</td>\n",
       "      <td>0.0</td>\n",
       "      <td>0.0</td>\n",
       "      <td>0.0</td>\n",
       "      <td>0.0</td>\n",
       "      <td>0.0</td>\n",
       "      <td>0.0</td>\n",
       "      <td>0.0</td>\n",
       "      <td>0.0</td>\n",
       "      <td>0.0</td>\n",
       "      <td>0.0</td>\n",
       "      <td>...</td>\n",
       "      <td>0.0</td>\n",
       "      <td>0.0</td>\n",
       "      <td>0.0</td>\n",
       "      <td>0.0</td>\n",
       "      <td>0.0</td>\n",
       "      <td>0.0</td>\n",
       "      <td>0.0</td>\n",
       "      <td>0.0</td>\n",
       "      <td>0.0</td>\n",
       "      <td>0.0</td>\n",
       "    </tr>\n",
       "    <tr>\n",
       "      <td>4832</td>\n",
       "      <td>0.0</td>\n",
       "      <td>0.0</td>\n",
       "      <td>0.0</td>\n",
       "      <td>0.0</td>\n",
       "      <td>0.0</td>\n",
       "      <td>0.0</td>\n",
       "      <td>0.0</td>\n",
       "      <td>0.0</td>\n",
       "      <td>0.0</td>\n",
       "      <td>0.0</td>\n",
       "      <td>...</td>\n",
       "      <td>0.0</td>\n",
       "      <td>0.0</td>\n",
       "      <td>0.0</td>\n",
       "      <td>0.0</td>\n",
       "      <td>0.0</td>\n",
       "      <td>0.0</td>\n",
       "      <td>0.0</td>\n",
       "      <td>0.0</td>\n",
       "      <td>0.0</td>\n",
       "      <td>0.0</td>\n",
       "    </tr>\n",
       "    <tr>\n",
       "      <td>29228</td>\n",
       "      <td>0.0</td>\n",
       "      <td>0.0</td>\n",
       "      <td>0.0</td>\n",
       "      <td>0.0</td>\n",
       "      <td>0.0</td>\n",
       "      <td>0.0</td>\n",
       "      <td>0.0</td>\n",
       "      <td>0.0</td>\n",
       "      <td>0.0</td>\n",
       "      <td>0.0</td>\n",
       "      <td>...</td>\n",
       "      <td>0.0</td>\n",
       "      <td>0.0</td>\n",
       "      <td>0.0</td>\n",
       "      <td>0.0</td>\n",
       "      <td>0.0</td>\n",
       "      <td>0.0</td>\n",
       "      <td>0.0</td>\n",
       "      <td>0.0</td>\n",
       "      <td>0.0</td>\n",
       "      <td>0.0</td>\n",
       "    </tr>\n",
       "  </tbody>\n",
       "</table>\n",
       "<p>21515 rows × 5000 columns</p>\n",
       "</div>"
      ],
      "text/plain": [
       "       abil  abl  abl buy  abl eat  abl find  abl get  absolut  absolut best  \\\n",
       "19459   0.0  0.0      0.0      0.0       0.0      0.0      0.0           0.0   \n",
       "17458   0.0  0.0      0.0      0.0       0.0      0.0      0.0           0.0   \n",
       "10024   0.0  0.0      0.0      0.0       0.0      0.0      0.0           0.0   \n",
       "2724    0.0  0.0      0.0      0.0       0.0      0.0      0.0           0.0   \n",
       "19181   0.0  0.0      0.0      0.0       0.0      0.0      0.0           0.0   \n",
       "...     ...  ...      ...      ...       ...      ...      ...           ...   \n",
       "6565    0.0  0.0      0.0      0.0       0.0      0.0      0.0           0.0   \n",
       "5964    0.0  0.0      0.0      0.0       0.0      0.0      0.0           0.0   \n",
       "11210   0.0  0.0      0.0      0.0       0.0      0.0      0.0           0.0   \n",
       "4832    0.0  0.0      0.0      0.0       0.0      0.0      0.0           0.0   \n",
       "29228   0.0  0.0      0.0      0.0       0.0      0.0      0.0           0.0   \n",
       "\n",
       "       absolut delici  absolut favorit  ...  yum  yummi  zealand  zero  zing  \\\n",
       "19459             0.0              0.0  ...  0.0    0.0      0.0   0.0   0.0   \n",
       "17458             0.0              0.0  ...  0.0    0.0      0.0   0.0   0.0   \n",
       "10024             0.0              0.0  ...  0.0    0.0      0.0   0.0   0.0   \n",
       "2724              0.0              0.0  ...  0.0    0.0      0.0   0.0   0.0   \n",
       "19181             0.0              0.0  ...  0.0    0.0      0.0   0.0   0.0   \n",
       "...               ...              ...  ...  ...    ...      ...   ...   ...   \n",
       "6565              0.0              0.0  ...  0.0    0.0      0.0   0.0   0.0   \n",
       "5964              0.0              0.0  ...  0.0    0.0      0.0   0.0   0.0   \n",
       "11210             0.0              0.0  ...  0.0    0.0      0.0   0.0   0.0   \n",
       "4832              0.0              0.0  ...  0.0    0.0      0.0   0.0   0.0   \n",
       "29228             0.0              0.0  ...  0.0    0.0      0.0   0.0   0.0   \n",
       "\n",
       "       zip  zip lock  ziplock  ziwipeak  zuke  \n",
       "19459  0.0       0.0      0.0       0.0   0.0  \n",
       "17458  0.0       0.0      0.0       0.0   0.0  \n",
       "10024  0.0       0.0      0.0       0.0   0.0  \n",
       "2724   0.0       0.0      0.0       0.0   0.0  \n",
       "19181  0.0       0.0      0.0       0.0   0.0  \n",
       "...    ...       ...      ...       ...   ...  \n",
       "6565   0.0       0.0      0.0       0.0   0.0  \n",
       "5964   0.0       0.0      0.0       0.0   0.0  \n",
       "11210  0.0       0.0      0.0       0.0   0.0  \n",
       "4832   0.0       0.0      0.0       0.0   0.0  \n",
       "29228  0.0       0.0      0.0       0.0   0.0  \n",
       "\n",
       "[21515 rows x 5000 columns]"
      ]
     },
     "execution_count": 23,
     "metadata": {},
     "output_type": "execute_result"
    }
   ],
   "source": [
    "tfidf_df=pd.DataFrame(reviews_train_tfidf.toarray(),columns=tfidf_model.get_feature_names(),index=reviews_train.index)\n",
    "tfidf_df"
   ]
  },
  {
   "cell_type": "code",
   "execution_count": 24,
   "metadata": {},
   "outputs": [
    {
     "data": {
      "text/plain": [
       "[(1.9636875559825824, 'not'),\n",
       " (2.10940653379899, 'like'),\n",
       " (2.172377104639508, 'tast'),\n",
       " (2.294353097392629, 'good'),\n",
       " (2.3061229560780374, 'love'),\n",
       " (2.401278720900371, 'flavor'),\n",
       " (2.4115216025627357, 'great'),\n",
       " (2.425344053389618, 'one'),\n",
       " (2.466987959141387, 'tri'),\n",
       " (2.511494686397424, 'product'),\n",
       " (2.543610484424487, 'use'),\n",
       " (2.631334196716706, 'get'),\n",
       " (2.7109019578128035, 'make'),\n",
       " (2.731692727481877, 'would'),\n",
       " (2.8263728537108075, 'buy')]"
      ]
     },
     "execution_count": 24,
     "metadata": {},
     "output_type": "execute_result"
    }
   ],
   "source": [
    "s=sorted(zip(tfidf_model.idf_,tfidf_model.get_feature_names()))\n",
    "s[:15]\n",
    "#plt.barh(s[:15])\n"
   ]
  },
  {
   "cell_type": "code",
   "execution_count": 25,
   "metadata": {},
   "outputs": [
    {
     "data": {
      "image/png": "[encoded data removed]",
      "text/plain": [
       "<Figure size 432x288 with 1 Axes>"
      ]
     },
     "metadata": {
      "needs_background": "light"
     },
     "output_type": "display_data"
    }
   ],
   "source": [
    "from wordcloud import WordCloud\n",
    "wc = WordCloud(max_words=15,background_color=\"white\",max_font_size=150, random_state=42,)\n",
    "wc.generate(str(s))\n",
    "plt.imshow(wc, interpolation='bilinear')\n",
    "plt.suptitle('Top 10 words', size=50, y=1.2\n",
    "             ,color=\"r\"); \n",
    "plt.axis(\"off\")\n",
    "plt.savefig(\"top10_words.png\")\n",
    "plt.show()"
   ]
  },
  {
   "cell_type": "code",
   "execution_count": 26,
   "metadata": {},
   "outputs": [
    {
     "data": {
      "text/plain": [
       "[('not', 643.6030083455023),\n",
       " ('like', 584.5781258636215),\n",
       " ('tast', 581.9369785561286),\n",
       " ('coffe', 577.3634671292705),\n",
       " ('love', 532.3422570020294),\n",
       " ('flavor', 524.589612010393),\n",
       " ('good', 513.2810054092288),\n",
       " ('great', 509.479742484497),\n",
       " ('product', 480.65509368355026),\n",
       " ('one', 434.0982942675807)]"
      ]
     },
     "execution_count": 26,
     "metadata": {},
     "output_type": "execute_result"
    }
   ],
   "source": [
    "sum_words = reviews_train_tfidf.sum(axis=0) \n",
    "words_freq = [(word, sum_words[0, idx]) for word, idx in tfidf_model.vocabulary_.items()]\n",
    "words_freq =sorted(words_freq, key = lambda x: x[1], reverse=True)\n",
    "words_freq[:10]\n"
   ]
  },
  {
   "cell_type": "markdown",
   "metadata": {},
   "source": [
    "# 4. Modeling"
   ]
  },
  {
   "cell_type": "markdown",
   "metadata": {},
   "source": [
    "## 4.1. Logistic regression"
   ]
  },
  {
   "cell_type": "code",
   "execution_count": 27,
   "metadata": {},
   "outputs": [
    {
     "data": {
      "text/plain": [
       "0.8151796625739075"
      ]
     },
     "execution_count": 27,
     "metadata": {},
     "output_type": "execute_result"
    }
   ],
   "source": [
    "lr=LogisticRegression(max_iter=1000)\n",
    "lr.fit(reviews_train_tfidf,sentiment_train)\n",
    "lr_predict=lr.predict(reviews_test_tfidf)\n",
    "plain_lr_f1=f1_score(sentiment_test,lr_predict,average=\"weighted\")\n",
    "plain_lr_f1"
   ]
  },
  {
   "cell_type": "code",
   "execution_count": 28,
   "metadata": {},
   "outputs": [
    {
     "data": {
      "image/png": "[encoded data removed]",
      "text/plain": [
       "<Figure size 432x288 with 2 Axes>"
      ]
     },
     "metadata": {
      "needs_background": "light"
     },
     "output_type": "display_data"
    }
   ],
   "source": [
    "plot_confusion_matrix(sentiment_test,lr_predict,normalize=True)\n",
    "plt.show()"
   ]
  },
  {
   "cell_type": "code",
   "execution_count": 29,
   "metadata": {},
   "outputs": [
    {
     "data": {
      "text/plain": [
       "{'penalty': 'l2', 'C': 1}"
      ]
     },
     "execution_count": 29,
     "metadata": {},
     "output_type": "execute_result"
    }
   ],
   "source": [
    "lr_params={\"penalty\":[\"l1\",\"l2\"],\n",
    "           \"C\":[10**i for i in range(-5,5)]}\n",
    "lr=LogisticRegression(solver=\"liblinear\")\n",
    "lr_rndm_clf=RandomizedSearchCV(lr,lr_params)\n",
    "lr_rndm_clf.fit(reviews_train_tfidf,sentiment_train)\n",
    "lr_rndm_clf.best_params_"
   ]
  },
  {
   "cell_type": "code",
   "execution_count": 30,
   "metadata": {},
   "outputs": [
    {
     "data": {
      "text/plain": [
       "0.8031104178646646"
      ]
     },
     "execution_count": 30,
     "metadata": {},
     "output_type": "execute_result"
    }
   ],
   "source": [
    "lr_model=LogisticRegression(**lr_rndm_clf.best_params_,solver=\"liblinear\")\n",
    "lr_model.fit(reviews_train_tfidf,sentiment_train)\n",
    "lr_predict=lr_model.predict(reviews_test_tfidf)\n",
    "lr_f1=f1_score(sentiment_test,lr_predict,average=\"weighted\")\n",
    "lr_f1"
   ]
  },
  {
   "cell_type": "code",
   "execution_count": 31,
   "metadata": {},
   "outputs": [
    {
     "data": {
      "text/plain": [
       "<matplotlib.axes._subplots.AxesSubplot at 0x1b984c5b208>"
      ]
     },
     "execution_count": 31,
     "metadata": {},
     "output_type": "execute_result"
    },
    {
     "data": {
      "image/png": "[encoded data removed]",
      "text/plain": [
       "<Figure size 432x288 with 2 Axes>"
      ]
     },
     "metadata": {
      "needs_background": "light"
     },
     "output_type": "display_data"
    }
   ],
   "source": [
    "plot_confusion_matrix(lr_predict,sentiment_test,normalize=True)"
   ]
  },
  {
   "cell_type": "code",
   "execution_count": 32,
   "metadata": {},
   "outputs": [
    {
     "data": {
      "text/plain": [
       "2    16601\n",
       "1    16601\n",
       "0    16601\n",
       "Name: sentiment, dtype: int64"
      ]
     },
     "execution_count": 32,
     "metadata": {},
     "output_type": "execute_result"
    }
   ],
   "source": [
    "from imblearn.over_sampling import SMOTE\n",
    "# Resample the minority class. You can change the strategy to 'auto' if you are not sure.\n",
    "sm = SMOTE(sampling_strategy='auto', random_state=7)\n",
    "\n",
    "oversampled_trainX, oversampled_trainY = sm.fit_resample(reviews_train_tfidf,sentiment_train)\n",
    "oversampled_trainY.value_counts()"
   ]
  },
  {
   "cell_type": "code",
   "execution_count": 33,
   "metadata": {},
   "outputs": [
    {
     "data": {
      "text/plain": [
       "{'penalty': 'l1', 'C': 100}"
      ]
     },
     "execution_count": 33,
     "metadata": {},
     "output_type": "execute_result"
    }
   ],
   "source": [
    "lr_params={\"penalty\":[\"l1\",\"l2\"],\n",
    "           \"C\":[10**i for i in range(-4,4)]}\n",
    "lr=LogisticRegression( max_iter=1000,solver=\"liblinear\")\n",
    "lr_rnm_clf=RandomizedSearchCV(lr,lr_params)\n",
    "lr_rnm_clf.fit(oversampled_trainX,oversampled_trainY)\n",
    "lr_rnm_clf.best_params_"
   ]
  },
  {
   "cell_type": "code",
   "execution_count": 34,
   "metadata": {},
   "outputs": [
    {
     "data": {
      "text/plain": [
       "0.7684619018901819"
      ]
     },
     "execution_count": 34,
     "metadata": {},
     "output_type": "execute_result"
    }
   ],
   "source": [
    "lr_bal=LogisticRegression(**lr_rnm_clf.best_params_, max_iter=1000,solver=\"liblinear\")\n",
    "lr_bal.fit(oversampled_trainX,oversampled_trainY)\n",
    "lr_bal_predict=lr_bal.predict(reviews_test_tfidf)\n",
    "lr_bal_f1=f1_score(lr_bal_predict,sentiment_test,average=\"weighted\")\n",
    "lr_bal_f1"
   ]
  },
  {
   "cell_type": "code",
   "execution_count": 35,
   "metadata": {},
   "outputs": [
    {
     "data": {
      "text/plain": [
       "Text(0.5, 1.0, 'Logistic regression Confusion matrix')"
      ]
     },
     "execution_count": 35,
     "metadata": {},
     "output_type": "execute_result"
    },
    {
     "data": {
      "image/png": "[encoded data removed]",
      "text/plain": [
       "<Figure size 432x288 with 2 Axes>"
      ]
     },
     "metadata": {
      "needs_background": "light"
     },
     "output_type": "display_data"
    }
   ],
   "source": [
    "plot_confusion_matrix(sentiment_test,lr_bal_predict,normalize=True)\n",
    "plt.title(\"Logistic regression Confusion matrix\",size=15)"
   ]
  },
  {
   "cell_type": "markdown",
   "metadata": {},
   "source": [
    "# KNN"
   ]
  },
  {
   "cell_type": "markdown",
   "metadata": {},
   "source": [
    "# SVM"
   ]
  },
  {
   "cell_type": "code",
   "execution_count": 36,
   "metadata": {},
   "outputs": [],
   "source": [
    "from sklearn.linear_model import SGDClassifier"
   ]
  },
  {
   "cell_type": "code",
   "execution_count": 37,
   "metadata": {},
   "outputs": [
    {
     "name": "stderr",
     "output_type": "stream",
     "text": [
      "C:\\Users\\shari\\Anaconda3\\lib\\site-packages\\sklearn\\svm\\_base.py:977: ConvergenceWarning: Liblinear failed to converge, increase the number of iterations.\n",
      "  \"the number of iterations.\", ConvergenceWarning)\n"
     ]
    }
   ],
   "source": [
    "from sklearn.svm import LinearSVC\n",
    "svc_params={'penalty':['l1','l2'],\n",
    "        'C':[10**i for i in range(-4,4)]}\n",
    "svc_model=LinearSVC(dual=False,max_iter=5000)\n",
    "rndm_clf=RandomizedSearchCV(svc_model,svc_params)\n",
    "rndm_clf.fit(oversampled_trainX,oversampled_trainY)\n",
    "svc_best_params=rndm_clf.best_estimator_"
   ]
  },
  {
   "cell_type": "code",
   "execution_count": 38,
   "metadata": {},
   "outputs": [
    {
     "data": {
      "text/plain": [
       "LinearSVC(C=1000, dual=False, max_iter=5000)"
      ]
     },
     "execution_count": 38,
     "metadata": {},
     "output_type": "execute_result"
    }
   ],
   "source": [
    "svc_best_params"
   ]
  },
  {
   "cell_type": "code",
   "execution_count": 39,
   "metadata": {},
   "outputs": [
    {
     "data": {
      "text/plain": [
       "0.7741182204819033"
      ]
     },
     "execution_count": 39,
     "metadata": {},
     "output_type": "execute_result"
    }
   ],
   "source": [
    "svc_model=LinearSVC(C=1000, dual=False, max_iter=5000, penalty='l1')\n",
    "svc_model.fit(oversampled_trainX,oversampled_trainY)\n",
    "svc_predict=svc_model.predict(reviews_test_tfidf)\n",
    "svc_f1=f1_score(sentiment_test,svc_predict,average=\"weighted\")\n",
    "svc_f1"
   ]
  },
  {
   "cell_type": "code",
   "execution_count": 40,
   "metadata": {},
   "outputs": [
    {
     "data": {
      "image/png": "[encoded data removed]",
      "text/plain": [
       "<Figure size 432x288 with 2 Axes>"
      ]
     },
     "metadata": {
      "needs_background": "light"
     },
     "output_type": "display_data"
    }
   ],
   "source": [
    "plot_confusion_matrix(sentiment_test,svc_predict,normalize=True)\n",
    "plt.title(\"SVM Confuison matrix\",size=18)\n",
    "plt.show()"
   ]
  },
  {
   "cell_type": "markdown",
   "metadata": {},
   "source": [
    "Observations:\n",
    "    1. \n",
    "    2. "
   ]
  },
  {
   "cell_type": "code",
   "execution_count": 41,
   "metadata": {},
   "outputs": [
    {
     "data": {
      "text/plain": [
       "((49803, 5000), (49803,))"
      ]
     },
     "execution_count": 41,
     "metadata": {},
     "output_type": "execute_result"
    }
   ],
   "source": [
    "oversampled_trainX.shape, oversampled_trainY.shape"
   ]
  },
  {
   "cell_type": "markdown",
   "metadata": {},
   "source": [
    "## Decision Trees"
   ]
  },
  {
   "cell_type": "code",
   "execution_count": 42,
   "metadata": {},
   "outputs": [],
   "source": [
    "from sklearn.tree import DecisionTreeClassifier\n",
    "dt_param={'max_depth':[i for i in range(5,2000,3)],\n",
    "         'min_samples_split':[i for i in range(5,2000,3)]}\n",
    "dt_clf=DecisionTreeClassifier()\n",
    "rndm_clf=RandomizedSearchCV(dt_clf,dt_param)\n",
    "rndm_clf.fit(oversampled_trainX,oversampled_trainY)\n",
    "dt_best_params=rndm_clf.best_params_"
   ]
  },
  {
   "cell_type": "code",
   "execution_count": 43,
   "metadata": {},
   "outputs": [
    {
     "data": {
      "text/plain": [
       "0.7741182204819033"
      ]
     },
     "execution_count": 43,
     "metadata": {},
     "output_type": "execute_result"
    }
   ],
   "source": [
    "dt_clf=DecisionTreeClassifier(**dt_best_params)\n",
    "dt_clf.fit(oversampled_trainX,oversampled_trainY)\n",
    "dt_predict=dt_clf.predict(reviews_test_tfidf)\n",
    "dt_f1=f1_score(sentiment_test,svc_predict,average=\"weighted\")\n",
    "dt_f1"
   ]
  },
  {
   "cell_type": "code",
   "execution_count": 44,
   "metadata": {},
   "outputs": [
    {
     "data": {
      "text/plain": [
       "Text(0.5, 1.0, 'Decision Tree Confuison matrix')"
      ]
     },
     "execution_count": 44,
     "metadata": {},
     "output_type": "execute_result"
    },
    {
     "data": {
      "image/png": "[encoded data removed]",
      "text/plain": [
       "<Figure size 432x288 with 2 Axes>"
      ]
     },
     "metadata": {
      "needs_background": "light"
     },
     "output_type": "display_data"
    }
   ],
   "source": [
    "plot_confusion_matrix(sentiment_test,dt_predict,normalize=True)\n",
    "plt.title(\"Decision Tree Confuison matrix\",size=18)\n"
   ]
  },
  {
   "cell_type": "markdown",
   "metadata": {},
   "source": [
    "Observations:\n",
    "    1. \n",
    "    2. "
   ]
  },
  {
   "cell_type": "markdown",
   "metadata": {},
   "source": [
    "## Naive Bayes:"
   ]
  },
  {
   "cell_type": "code",
   "execution_count": 45,
   "metadata": {},
   "outputs": [
    {
     "data": {
      "text/plain": [
       "0.7786936315781908"
      ]
     },
     "execution_count": 45,
     "metadata": {},
     "output_type": "execute_result"
    }
   ],
   "source": [
    "nb_params={\"alpha\":[10**i for i in range(-5,5)]}\n",
    "nb_clf=MultinomialNB()\n",
    "rndm_clf=RandomizedSearchCV(nb_clf,nb_params)\n",
    "rndm_clf.fit(oversampled_trainX,oversampled_trainY)\n",
    "nb_best_params=rndm_clf.best_params_\n",
    "\n",
    "nb_clf=MultinomialNB(**nb_best_params)\n",
    "nb_clf.fit(oversampled_trainX,oversampled_trainY)\n",
    "nb_predict=nb_clf.predict(reviews_test_tfidf)\n",
    "nb_f1=f1_score(sentiment_test,nb_predict,average=\"weighted\")\n",
    "nb_f1"
   ]
  },
  {
   "cell_type": "code",
   "execution_count": 46,
   "metadata": {},
   "outputs": [
    {
     "data": {
      "text/plain": [
       "Text(0.5, 1.0, 'Naive Bayes Confusion Matrix')"
      ]
     },
     "execution_count": 46,
     "metadata": {},
     "output_type": "execute_result"
    },
    {
     "data": {
      "image/png": "[encoded data removed]",
      "text/plain": [
       "<Figure size 432x288 with 2 Axes>"
      ]
     },
     "metadata": {
      "needs_background": "light"
     },
     "output_type": "display_data"
    }
   ],
   "source": [
    "plot_confusion_matrix(sentiment_test,nb_predict,normalize=True)\n",
    "plt.title(\"Naive Bayes Confusion Matrix\",size=15)"
   ]
  },
  {
   "cell_type": "markdown",
   "metadata": {},
   "source": [
    "#### Observations:\n",
    "    1. \n",
    "    2. "
   ]
  },
  {
   "cell_type": "markdown",
   "metadata": {},
   "source": [
    "## Random Forrests"
   ]
  },
  {
   "cell_type": "code",
   "execution_count": 48,
   "metadata": {},
   "outputs": [],
   "source": [
    "from sklearn.ensemble import RandomForestClassifier\n",
    "param_rf={'max_depth':[2,3,4,5,6,7,8,9,10],'n_estimators':[i for i in range(1,1000,5)]}\n",
    "clf=RandomForestClassifier()\n",
    "rndm_clf=RandomizedSearchCV(clf,param_rf)\n",
    "rndm_clf.fit(oversampled_trainX,oversampled_trainY)\n",
    "rf_best_params=rndm_clf.best_params_\n"
   ]
  },
  {
   "cell_type": "code",
   "execution_count": 49,
   "metadata": {},
   "outputs": [],
   "source": [
    "rf_clf=RandomForestClassifier(**rf_best_params,class_weight='balanced')\n",
    "rf_clf.fit(oversampled_trainX,oversampled_trainY)\n",
    "rf_predict=rf_clf.predict(reviews_test_tfidf)"
   ]
  },
  {
   "cell_type": "code",
   "execution_count": 50,
   "metadata": {},
   "outputs": [
    {
     "data": {
      "text/plain": [
       "Text(0.5, 1.0, 'random forrests Confusion Matrix')"
      ]
     },
     "execution_count": 50,
     "metadata": {},
     "output_type": "execute_result"
    },
    {
     "data": {
      "image/png": "[encoded data removed]",
      "text/plain": [
       "<Figure size 432x288 with 2 Axes>"
      ]
     },
     "metadata": {
      "needs_background": "light"
     },
     "output_type": "display_data"
    }
   ],
   "source": [
    "plot_confusion_matrix(sentiment_test,rf_predict,normalize=True)\n",
    "plt.title(\"random forrests Confusion Matrix\",size=15)"
   ]
  },
  {
   "cell_type": "code",
   "execution_count": 51,
   "metadata": {},
   "outputs": [
    {
     "data": {
      "text/plain": [
       "0.7413083605691726"
      ]
     },
     "execution_count": 51,
     "metadata": {},
     "output_type": "execute_result"
    }
   ],
   "source": [
    "rf_f1=f1_score(sentiment_test,rf_predict,average=\"weighted\")\n",
    "rf_f1"
   ]
  },
  {
   "cell_type": "markdown",
   "metadata": {},
   "source": [
    "# Model evaluation:\n",
    "    "
   ]
  },
  {
   "cell_type": "code",
   "execution_count": 52,
   "metadata": {},
   "outputs": [],
   "source": [
    "models=[\"LinearRegression\",\"DecisionTrees\",\"SVM\",\"NaiveBayes\",\"Random Forrests\"]\n",
    "f1_scores=[lr_bal_f1,dt_f1,svc_f1,nb_f1,rf_f1]"
   ]
  },
  {
   "cell_type": "code",
   "execution_count": 55,
   "metadata": {},
   "outputs": [
    {
     "data": {
      "image/png": "[encoded data removed]",
      "text/plain": [
       "<Figure size 432x360 with 1 Axes>"
      ]
     },
     "metadata": {
      "needs_background": "light"
     },
     "output_type": "display_data"
    }
   ],
   "source": [
    "plt.figure(figsize=(6,5))\n",
    "plt.barh(models,f1_scores,color=['c','r','m','y','b'])\n",
    "plt.title(\"F1 Scores of all models\",size=20)\n",
    "for index, value in enumerate(f1_scores):\n",
    "    plt.text(0.9,index,str(round(value,2)))\n",
    "plt.xlabel('F1_SCores',size=15)\n",
    "plt.ylabel(\"Models\",size=15)\n",
    "plt.savefig(\"f1_scores.png\")\n",
    "plt.show()\n"
   ]
  },
  {
   "cell_type": "code",
   "execution_count": null,
   "metadata": {},
   "outputs": [],
   "source": [
    "# lets save the model\n",
    "import pickle\n",
    "pickle.dump(svc_model,open(\"svc_model.pkl\",\"wb\"))"
   ]
  },
  {
   "cell_type": "code",
   "execution_count": null,
   "metadata": {},
   "outputs": [],
   "source": [
    "pickle.dump(tfidf_model,open(\"tfidf_model.pkl\",\"wb\"))"
   ]
  },
  {
   "cell_type": "code",
   "execution_count": null,
   "metadata": {},
   "outputs": [],
   "source": [
    "pickle.dump(lr_bal,open(\"lr_model.pkl\",\"wb\"))"
   ]
  },
  {
   "cell_type": "code",
   "execution_count": 60,
   "metadata": {},
   "outputs": [
    {
     "name": "stderr",
     "output_type": "stream",
     "text": [
      "100%|██████████████████████████████████████████████████████████████████████████████████| 1/1 [00:00<00:00, 1003.18it/s]\n"
     ]
    },
    {
     "name": "stdout",
     "output_type": "stream",
     "text": [
      "['food okay']\n",
      "[[0.10783057 0.25664072 0.63552871]]\n",
      "Neutral\n"
     ]
    }
   ],
   "source": [
    "labels=[\"Negative\",\"Positive\",\"Netral\"]\n",
    "d=[\"This food is okay\"]\n",
    "d=text_Preprocessing(d)\n",
    "\n",
    "print(d)\n",
    "t=tfidf_model.transform(d)\n",
    "print(lr_model.predict_proba(t))\n",
    "if np.argmax(lr_model.predict_proba(t))==2:\n",
    "    print(\"Neutral\")\n",
    "elif np.argmax(lr_model.predict_proba(t))==0:\n",
    "    print(\"Negative\")\n",
    "else:\n",
    "    print(\"Positive\")"
   ]
  },
  {
   "cell_type": "code",
   "execution_count": null,
   "metadata": {},
   "outputs": [],
   "source": [
    "d"
   ]
  },
  {
   "cell_type": "code",
   "execution_count": null,
   "metadata": {},
   "outputs": [],
   "source": [
    "pd.DataFrame(t)"
   ]
  },
  {
   "cell_type": "code",
   "execution_count": null,
   "metadata": {},
   "outputs": [],
   "source": [
    "features=tfidf_model.get_feature_names()\n",
    "feature_weights=sorted(zip(svc_model.coef_[0],features))"
   ]
  },
  {
   "cell_type": "code",
   "execution_count": null,
   "metadata": {},
   "outputs": [],
   "source": [
    "neg_15=feature_weights[:15]\n",
    "neg_15neg_15=feature_weights[:15]\n",
    "neg_15"
   ]
  },
  {
   "cell_type": "code",
   "execution_count": null,
   "metadata": {},
   "outputs": [],
   "source": [
    "pos_15=feature_weights[-10:]\n",
    "pos_15"
   ]
  },
  {
   "cell_type": "code",
   "execution_count": null,
   "metadata": {},
   "outputs": [],
   "source": [
    "from wordcloud import WordCloud,STOPWORDS,ImageColorGenerator\n",
    "plt.figure(figsize=(10,8))\n",
    "#Create and generate a word cloud for positive and negative words\n",
    "word_cloud=WordCloud(max_words=20,background_color='white',collocation_threshold=3).generate(str(pos_15))\n",
    "plt.imshow(word_cloud, interpolation='bilinear')\n",
    "plt.suptitle('Top 15 Positive Words', size=18, y=0.85,color='b'); \n",
    "plt.axis(\"off\")\n",
    "plt.savefig(\"positive_wordcloud.png\")\n",
    "plt.show()"
   ]
  },
  {
   "cell_type": "code",
   "execution_count": null,
   "metadata": {},
   "outputs": [],
   "source": []
  }
 ],
 "metadata": {
  "kernelspec": {
   "display_name": "Python 3",
   "language": "python",
   "name": "python3"
  },
  "language_info": {
   "codemirror_mode": {
    "name": "ipython",
    "version": 3
   },
   "file_extension": ".py",
   "mimetype": "text/x-python",
   "name": "python",
   "nbconvert_exporter": "python",
   "pygments_lexer": "ipython3",
   "version": "3.7.4"
  }
 },
 "nbformat": 4,
 "nbformat_minor": 2
}
